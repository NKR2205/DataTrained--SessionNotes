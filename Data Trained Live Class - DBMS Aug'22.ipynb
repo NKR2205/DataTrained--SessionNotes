{
 "cells": [
  {
   "cell_type": "markdown",
   "id": "4463e326",
   "metadata": {},
   "source": [
    "# DBMS - Database Management System"
   ]
  },
  {
   "cell_type": "code",
   "execution_count": null,
   "id": "4a2bc04f",
   "metadata": {},
   "outputs": [],
   "source": [
    "DBMS contains two types of data\n",
    "\n",
    "Relational database - which holds data  in rows and columns\n",
    "Oracle, MySQL server, SQL lite, MY SQL\n",
    "\n",
    "Non Relational database - which does not hold in rows and columns\n",
    "No SQL, JPG, video, audio, text etc \n",
    "\n",
    "# Anaconda has built in SQL lite software"
   ]
  },
  {
   "cell_type": "code",
   "execution_count": null,
   "id": "df64157d",
   "metadata": {},
   "outputs": [],
   "source": [
    "SQL - Structured Query Language contains 3 types\n",
    "\n",
    "DDL - Data Definition language - create,after,drop\n",
    "DML - Data Manipulation language - select,insert,update,delete\n",
    "DCL - Data Control Language  - cancel, grant,revoke - Data administrator controls this part to provide access."
   ]
  },
  {
   "cell_type": "code",
   "execution_count": null,
   "id": "52353de1",
   "metadata": {},
   "outputs": [],
   "source": []
  },
  {
   "cell_type": "markdown",
   "id": "70d748aa",
   "metadata": {},
   "source": [
    "# Working with database using SQL(Structured Query Language)\n",
    "\n",
    "1. Create a connection object\n",
    "2. From the connection object, create a cursor object\n",
    "3. Using the cursor object, call the execute with create table query as the parameter \n"
   ]
  },
  {
   "cell_type": "code",
   "execution_count": null,
   "id": "67bb1355",
   "metadata": {},
   "outputs": [],
   "source": []
  },
  {
   "cell_type": "markdown",
   "id": "fedb7038",
   "metadata": {},
   "source": [
    "# Create Database"
   ]
  },
  {
   "cell_type": "code",
   "execution_count": null,
   "id": "c5c4a02f",
   "metadata": {},
   "outputs": [],
   "source": [
    "# student database will be created in jupyter notebook home\n",
    "\n",
    "# first connection object\n",
    "\n",
    "db = sqlite3.connect(\"student.database.db\")"
   ]
  },
  {
   "cell_type": "raw",
   "id": "aeac14a9",
   "metadata": {},
   "source": [
    "Cursor\n",
    "\n",
    "A cursor in SQL is temporary work area created in system memory when a SQL statement is executed.\n",
    "A SQL cursor is a set of rows together with a pointer that identifies a current row.\n",
    "It is a database object to retrieve data from a result set one row at a time."
   ]
  },
  {
   "cell_type": "code",
   "execution_count": null,
   "id": "85d6c027",
   "metadata": {},
   "outputs": [],
   "source": [
    "# create cursor object from connection\n",
    "\n",
    "cur = db.cursor()"
   ]
  },
  {
   "cell_type": "code",
   "execution_count": 1,
   "id": "748b6312",
   "metadata": {},
   "outputs": [],
   "source": [
    "import sqlite3"
   ]
  },
  {
   "cell_type": "code",
   "execution_count": 2,
   "id": "4cf8f464",
   "metadata": {},
   "outputs": [],
   "source": [
    "db = sqlite3.connect('student_detail_database.db')"
   ]
  },
  {
   "cell_type": "code",
   "execution_count": 3,
   "id": "acc35ed8",
   "metadata": {},
   "outputs": [],
   "source": [
    "cur = db.cursor()"
   ]
  },
  {
   "cell_type": "code",
   "execution_count": null,
   "id": "f65e6d78",
   "metadata": {},
   "outputs": [],
   "source": [
    "cur.execute('create table student(id int primary key, name text, marks int)') # cur.execute helps us to interact with SQL\n",
    "                                                                              # and is used only in jupyter "
   ]
  },
  {
   "cell_type": "code",
   "execution_count": 5,
   "id": "b202a8ee",
   "metadata": {},
   "outputs": [
    {
     "data": {
      "text/plain": [
       "<sqlite3.Cursor at 0x298b04c3650>"
      ]
     },
     "execution_count": 5,
     "metadata": {},
     "output_type": "execute_result"
    }
   ],
   "source": [
    "cur.execute(\"insert into student(id,name,marks) values(101,'Naveen',80)\") # use double quotation"
   ]
  },
  {
   "cell_type": "code",
   "execution_count": 6,
   "id": "7ff8e501",
   "metadata": {},
   "outputs": [],
   "source": [
    "db.commit()"
   ]
  },
  {
   "cell_type": "code",
   "execution_count": 7,
   "id": "c1d7f03f",
   "metadata": {},
   "outputs": [],
   "source": [
    "cur.execute(\"insert into student(id,name,marks) values(102,'Ranga',99)\")\n",
    "db.commit()\n"
   ]
  },
  {
   "cell_type": "code",
   "execution_count": 8,
   "id": "0dfe445b",
   "metadata": {},
   "outputs": [],
   "source": [
    "cur.execute(\"insert into student(id,name,marks) values(103,'Theinamma',100)\")\n",
    "db.commit()"
   ]
  },
  {
   "cell_type": "code",
   "execution_count": 9,
   "id": "bbde7bc9",
   "metadata": {},
   "outputs": [
    {
     "name": "stdout",
     "output_type": "stream",
     "text": [
      "(101, 'Naveen', 80)\n",
      "(102, 'Ranga', 99)\n",
      "(103, 'Theinamma', 100)\n"
     ]
    }
   ],
   "source": [
    "results = cur.execute(\"select * from student\")  # * is used for multiple selection\n",
    "\n",
    "for i in results:\n",
    "    print(i)"
   ]
  },
  {
   "cell_type": "code",
   "execution_count": 12,
   "id": "ad670f13",
   "metadata": {},
   "outputs": [],
   "source": [
    "cur.execute(\"insert into student(id,name,marks) values(104,'Deepan',85)\")\n",
    "db.commit()"
   ]
  },
  {
   "cell_type": "code",
   "execution_count": 13,
   "id": "80fa380d",
   "metadata": {},
   "outputs": [],
   "source": [
    "cur.execute(\"insert into student values(105,'Rupavathi',75),(106,'Krithvik',70)\")\n",
    "db.commit()"
   ]
  },
  {
   "cell_type": "code",
   "execution_count": 14,
   "id": "9443148d",
   "metadata": {},
   "outputs": [
    {
     "name": "stdout",
     "output_type": "stream",
     "text": [
      "(101, 'Naveen', 80)\n",
      "(102, 'Ranga', 99)\n",
      "(103, 'Theinamma', 100)\n",
      "(104, 'Deepan', 85)\n",
      "(105, 'Rupavathi', 75)\n",
      "(106, 'Krithvik', 70)\n"
     ]
    }
   ],
   "source": [
    "results = cur.execute(\"select * from student\")  # * wild card character is used to show all columns\n",
    "\n",
    "for i in results:\n",
    "    print(i)"
   ]
  },
  {
   "cell_type": "code",
   "execution_count": 15,
   "id": "9ae1827c",
   "metadata": {},
   "outputs": [
    {
     "data": {
      "text/plain": [
       "[(101, 'Naveen', 80),\n",
       " (102, 'Ranga', 99),\n",
       " (103, 'Theinamma', 100),\n",
       " (104, 'Deepan', 85),\n",
       " (105, 'Rupavathi', 75),\n",
       " (106, 'Krithvik', 70)]"
      ]
     },
     "execution_count": 15,
     "metadata": {},
     "output_type": "execute_result"
    }
   ],
   "source": [
    "results = cur.execute(\"select * from student\")\n",
    "results.fetchall()            # fetchall will be used if we have more than 1 result, simmilar to for i statement\n",
    "\n"
   ]
  },
  {
   "cell_type": "code",
   "execution_count": 16,
   "id": "654fb6a1",
   "metadata": {},
   "outputs": [
    {
     "data": {
      "text/plain": [
       "[(101,), (102,), (103,), (104,), (105,), (106,)]"
      ]
     },
     "execution_count": 16,
     "metadata": {},
     "output_type": "execute_result"
    }
   ],
   "source": [
    "results = cur.execute(\"select id from student\")\n",
    "results.fetchall() "
   ]
  },
  {
   "cell_type": "code",
   "execution_count": 17,
   "id": "14da3f63",
   "metadata": {},
   "outputs": [
    {
     "name": "stdout",
     "output_type": "stream",
     "text": [
      "(101,)\n",
      "(102,)\n",
      "(103,)\n",
      "(104,)\n",
      "(105,)\n",
      "(106,)\n"
     ]
    }
   ],
   "source": [
    "results = cur.execute(\"select id from student\")\n",
    "for i in results:\n",
    "    print(i) "
   ]
  },
  {
   "cell_type": "code",
   "execution_count": 19,
   "id": "1ebe16d6",
   "metadata": {},
   "outputs": [
    {
     "data": {
      "text/plain": [
       "[('Naveen', 80),\n",
       " ('Ranga', 99),\n",
       " ('Theinamma', 100),\n",
       " ('Deepan', 85),\n",
       " ('Rupavathi', 75),\n",
       " ('Krithvik', 70)]"
      ]
     },
     "execution_count": 19,
     "metadata": {},
     "output_type": "execute_result"
    }
   ],
   "source": [
    "results = cur.execute(\"select name,marks from student\")\n",
    "results.fetchall()"
   ]
  },
  {
   "cell_type": "code",
   "execution_count": 21,
   "id": "bdd89f60",
   "metadata": {},
   "outputs": [
    {
     "data": {
      "text/plain": [
       "[(102, 'Ranga', 99)]"
      ]
     },
     "execution_count": 21,
     "metadata": {},
     "output_type": "execute_result"
    }
   ],
   "source": [
    "results = cur.execute(\"select * from student where id = 102\")\n",
    "results.fetchall()"
   ]
  },
  {
   "cell_type": "code",
   "execution_count": 22,
   "id": "dc038aa7",
   "metadata": {},
   "outputs": [
    {
     "data": {
      "text/plain": [
       "(103, 'Theinamma', 100)"
      ]
     },
     "execution_count": 22,
     "metadata": {},
     "output_type": "execute_result"
    }
   ],
   "source": [
    "results = cur.execute(\"select * from student where id = 103\")\n",
    "results.fetchone()      # fetchone to get result for specified selection"
   ]
  },
  {
   "cell_type": "code",
   "execution_count": 23,
   "id": "41a1701f",
   "metadata": {},
   "outputs": [
    {
     "name": "stdout",
     "output_type": "stream",
     "text": [
      "(102, 'Ranga', 99)\n"
     ]
    }
   ],
   "source": [
    "results = cur.execute(\"select * from student where name = 'Ranga'\")\n",
    "for i in results:\n",
    "    print(i)"
   ]
  },
  {
   "cell_type": "code",
   "execution_count": 26,
   "id": "78525134",
   "metadata": {},
   "outputs": [
    {
     "name": "stdout",
     "output_type": "stream",
     "text": [
      "(102, 'Ranga', 99)\n",
      "(103, 'Theinamma', 100)\n"
     ]
    }
   ],
   "source": [
    "results = cur.execute(\"select * from student where name in ('Ranga','Theinamma')\")\n",
    "for i in results:\n",
    "    print(i)"
   ]
  },
  {
   "cell_type": "code",
   "execution_count": 27,
   "id": "b390d70f",
   "metadata": {},
   "outputs": [
    {
     "name": "stdout",
     "output_type": "stream",
     "text": [
      "(101, 'Naveen', 80)\n",
      "(102, 'Ranga', 99)\n",
      "(103, 'Theinamma', 100)\n",
      "(104, 'Deepan', 85)\n"
     ]
    }
   ],
   "source": [
    "results = cur.execute(\"select * from student where Id in (101,102,103,104)\")\n",
    "for i in results:\n",
    "    print(i)"
   ]
  },
  {
   "cell_type": "code",
   "execution_count": 33,
   "id": "e5945d9c",
   "metadata": {},
   "outputs": [
    {
     "name": "stdout",
     "output_type": "stream",
     "text": [
      "(103, 'Theinamma', 100)\n",
      "(105, 'Rupavathi', 75)\n",
      "(102, 'Ranga', 99)\n",
      "(101, 'Naveen', 80)\n",
      "(106, 'Krithvik', 70)\n",
      "(104, 'Deepan', 85)\n"
     ]
    }
   ],
   "source": [
    "results = cur.execute(\"select * from student order by name desc\") # Getting results by descending order using # order by \n",
    "for i in results:\n",
    "    print(i)"
   ]
  },
  {
   "cell_type": "code",
   "execution_count": 34,
   "id": "6c085845",
   "metadata": {},
   "outputs": [
    {
     "name": "stdout",
     "output_type": "stream",
     "text": [
      "(104, 'Deepan', 85)\n",
      "(106, 'Krithvik', 70)\n",
      "(101, 'Naveen', 80)\n",
      "(102, 'Ranga', 99)\n",
      "(105, 'Rupavathi', 75)\n",
      "(103, 'Theinamma', 100)\n"
     ]
    }
   ],
   "source": [
    "results = cur.execute(\"select * from student order by name asc\") # Getting results by ascending order using # order by\n",
    "for i in results:\n",
    "    print(i)"
   ]
  },
  {
   "cell_type": "code",
   "execution_count": 35,
   "id": "bb3f7e64",
   "metadata": {},
   "outputs": [
    {
     "name": "stdout",
     "output_type": "stream",
     "text": [
      "(101, 'Naveen', 80)\n",
      "(102, 'Ranga', 99)\n",
      "(103, 'Theinamma', 100)\n",
      "(104, 'Deepan', 85)\n",
      "(105, 'Rupavathi', 75)\n",
      "(106, 'Krithvik', 70)\n"
     ]
    }
   ],
   "source": [
    "results = cur.execute(\"select * from student\")\n",
    "for i in results:\n",
    "    print(i)"
   ]
  },
  {
   "cell_type": "raw",
   "id": "ce7c554b",
   "metadata": {},
   "source": [
    "# We can work on the same data by importing SQLite and connecting to \n",
    "\n",
    "db = sqlite3.connect('student_detail_database.db')\n",
    "\n",
    "cur = db.cursor()"
   ]
  },
  {
   "cell_type": "code",
   "execution_count": 36,
   "id": "7846fa7f",
   "metadata": {},
   "outputs": [],
   "source": [
    "cur.execute(\"insert into student values(107,'Mari',75),(108,'Subha',80)\")\n",
    "db.commit()"
   ]
  },
  {
   "cell_type": "code",
   "execution_count": 38,
   "id": "95c4750d",
   "metadata": {},
   "outputs": [
    {
     "name": "stdout",
     "output_type": "stream",
     "text": [
      "(101, 'Naveen', 80)\n",
      "(108, 'Subha', 80)\n"
     ]
    }
   ],
   "source": [
    "results = cur.execute(\"select * from student where marks = 80\")\n",
    "for i in results:\n",
    "    print(i)"
   ]
  },
  {
   "cell_type": "code",
   "execution_count": 39,
   "id": "e2a2d651",
   "metadata": {},
   "outputs": [
    {
     "name": "stdout",
     "output_type": "stream",
     "text": [
      "(101, 'Naveen', 80)\n",
      "(102, 'Ranga', 99)\n",
      "(103, 'Theinamma', 100)\n",
      "(104, 'Deepan', 85)\n",
      "(105, 'Rupavathi', 75)\n",
      "(106, 'Krithvik', 70)\n",
      "(107, 'Mari', 75)\n",
      "(108, 'Subha', 80)\n"
     ]
    }
   ],
   "source": [
    "results = cur.execute(\"select * from student\")\n",
    "for i in results:\n",
    "    print(i)"
   ]
  },
  {
   "cell_type": "code",
   "execution_count": 40,
   "id": "310daaa9",
   "metadata": {},
   "outputs": [
    {
     "name": "stdout",
     "output_type": "stream",
     "text": [
      "(102, 'Ranga', 99)\n",
      "(103, 'Theinamma', 100)\n",
      "(104, 'Deepan', 85)\n"
     ]
    }
   ],
   "source": [
    "results = cur.execute(\"select * from student where id in (102,103,104)\")\n",
    "for i in results:\n",
    "    print(i)"
   ]
  },
  {
   "cell_type": "code",
   "execution_count": 41,
   "id": "d0a624b7",
   "metadata": {},
   "outputs": [
    {
     "name": "stdout",
     "output_type": "stream",
     "text": [
      "(101, 'Naveen', 80)\n",
      "(102, 'Ranga', 99)\n",
      "(103, 'Theinamma', 100)\n",
      "(104, 'Deepan', 85)\n",
      "(105, 'Rupavathi', 75)\n",
      "(106, 'Krithvik', 70)\n"
     ]
    }
   ],
   "source": [
    "results = cur.execute(\"select * from student limit 6\") # Using limit to extract the result by limiting it to the given input\n",
    "for i in results:\n",
    "    print(i)"
   ]
  },
  {
   "cell_type": "code",
   "execution_count": null,
   "id": "695084f5",
   "metadata": {},
   "outputs": [],
   "source": []
  },
  {
   "cell_type": "code",
   "execution_count": 42,
   "id": "6bf469c7",
   "metadata": {},
   "outputs": [
    {
     "name": "stdout",
     "output_type": "stream",
     "text": [
      "(103, 'Theinamma', 100)\n",
      "(102, 'Ranga', 99)\n",
      "(104, 'Deepan', 85)\n",
      "(101, 'Naveen', 80)\n",
      "(108, 'Subha', 80)\n",
      "(105, 'Rupavathi', 75)\n",
      "(107, 'Mari', 75)\n",
      "(106, 'Krithvik', 70)\n"
     ]
    }
   ],
   "source": [
    "results = cur.execute(\"select * from student order by marks desc\") \n",
    "for i in results:\n",
    "    print(i)"
   ]
  },
  {
   "cell_type": "code",
   "execution_count": 43,
   "id": "4238a011",
   "metadata": {},
   "outputs": [
    {
     "name": "stdout",
     "output_type": "stream",
     "text": [
      "(106, 'Krithvik', 70)\n",
      "(105, 'Rupavathi', 75)\n",
      "(107, 'Mari', 75)\n",
      "(101, 'Naveen', 80)\n",
      "(108, 'Subha', 80)\n",
      "(104, 'Deepan', 85)\n",
      "(102, 'Ranga', 99)\n",
      "(103, 'Theinamma', 100)\n"
     ]
    }
   ],
   "source": [
    "results = cur.execute(\"select * from student order by marks asc\") \n",
    "for i in results:\n",
    "    print(i)"
   ]
  },
  {
   "cell_type": "code",
   "execution_count": 46,
   "id": "27e6054a",
   "metadata": {},
   "outputs": [
    {
     "name": "stdout",
     "output_type": "stream",
     "text": [
      "(106, 'Krithvik', 70)\n",
      "(105, 'Rupavathi', 75)\n",
      "(107, 'Mari', 75)\n"
     ]
    }
   ],
   "source": [
    "results = cur.execute(\"select * from student order by marks asc limit  3 \") \n",
    "for i in results:\n",
    "    print(i)"
   ]
  },
  {
   "cell_type": "code",
   "execution_count": 47,
   "id": "85946b10",
   "metadata": {},
   "outputs": [
    {
     "name": "stdout",
     "output_type": "stream",
     "text": [
      "(103, 'Theinamma', 100)\n",
      "(102, 'Ranga', 99)\n",
      "(104, 'Deepan', 85)\n"
     ]
    }
   ],
   "source": [
    "results = cur.execute(\"select * from student order by marks desc limit  3 \") \n",
    "for i in results:\n",
    "    print(i)"
   ]
  },
  {
   "cell_type": "code",
   "execution_count": 48,
   "id": "c860f57c",
   "metadata": {},
   "outputs": [
    {
     "name": "stdout",
     "output_type": "stream",
     "text": [
      "(80,)\n"
     ]
    }
   ],
   "source": [
    "results = cur.execute(\"select marks from student where name is 'Naveen' \") \n",
    "for i in results:\n",
    "    print(i)"
   ]
  },
  {
   "cell_type": "code",
   "execution_count": 49,
   "id": "93142e3e",
   "metadata": {},
   "outputs": [
    {
     "name": "stdout",
     "output_type": "stream",
     "text": [
      "(99,)\n"
     ]
    }
   ],
   "source": [
    "results = cur.execute(\"select marks from student where name is 'Ranga' \") \n",
    "for i in results:\n",
    "    print(i)"
   ]
  },
  {
   "cell_type": "code",
   "execution_count": 52,
   "id": "525016fc",
   "metadata": {},
   "outputs": [
    {
     "name": "stdout",
     "output_type": "stream",
     "text": [
      "(104, 'Deepan', 85)\n"
     ]
    }
   ],
   "source": [
    "results = cur.execute(\"select * from student where marks >80 and marks <99 \") \n",
    "for i in results:\n",
    "    print(i)"
   ]
  },
  {
   "cell_type": "code",
   "execution_count": 53,
   "id": "5ccac9d7",
   "metadata": {},
   "outputs": [
    {
     "name": "stdout",
     "output_type": "stream",
     "text": [
      "(101, 'Naveen', 80)\n",
      "(104, 'Deepan', 85)\n",
      "(105, 'Rupavathi', 75)\n",
      "(107, 'Mari', 75)\n",
      "(108, 'Subha', 80)\n"
     ]
    }
   ],
   "source": [
    "results = cur.execute(\"select * from student where marks >70 and marks <99 \") \n",
    "for i in results:\n",
    "    print(i)"
   ]
  },
  {
   "cell_type": "code",
   "execution_count": 58,
   "id": "a3143c7a",
   "metadata": {},
   "outputs": [],
   "source": [
    "results = cur.execute(\"select * from student where name = 'Naveen' and marks = 99 \") \n",
    "for i in results:\n",
    "    print(i)        # No result when using and operator as both the statement should be True"
   ]
  },
  {
   "cell_type": "code",
   "execution_count": 61,
   "id": "40d93251",
   "metadata": {},
   "outputs": [
    {
     "name": "stdout",
     "output_type": "stream",
     "text": [
      "(101, 'Naveen', 80)\n",
      "(102, 'Ranga', 99)\n",
      "(103, 'Theinamma', 100)\n"
     ]
    }
   ],
   "source": [
    "results = cur.execute(\"select * from student where name = 'Naveen' or marks > 90 \") \n",
    "for i in results:\n",
    "    print(i)"
   ]
  },
  {
   "cell_type": "code",
   "execution_count": null,
   "id": "bd65c0a6",
   "metadata": {},
   "outputs": [],
   "source": []
  },
  {
   "cell_type": "raw",
   "id": "b45cb260",
   "metadata": {},
   "source": [
    "Aggregate functions\n",
    "\n",
    "MIN -- find minimum\n",
    "MAX -- find maximum\n",
    "AVG -- find average\n",
    "SUM -- find sum\n",
    "COUNT -- coiunt the number of rows"
   ]
  },
  {
   "cell_type": "code",
   "execution_count": null,
   "id": "0c5a6cfe",
   "metadata": {},
   "outputs": [],
   "source": []
  },
  {
   "cell_type": "code",
   "execution_count": 62,
   "id": "07fe960f",
   "metadata": {},
   "outputs": [
    {
     "name": "stdout",
     "output_type": "stream",
     "text": [
      "(70,)\n"
     ]
    }
   ],
   "source": [
    "# find minimum marks \n",
    "\n",
    "results = cur.execute(\"select min(marks) from student\") \n",
    "for i in results:\n",
    "    print(i)\n",
    "\n"
   ]
  },
  {
   "cell_type": "code",
   "execution_count": 64,
   "id": "7d7f9840",
   "metadata": {},
   "outputs": [
    {
     "data": {
      "text/plain": [
       "[(100,)]"
      ]
     },
     "execution_count": 64,
     "metadata": {},
     "output_type": "execute_result"
    }
   ],
   "source": [
    "# find maximum marks \n",
    "\n",
    "results = cur.execute(\"select max(marks) from student\") \n",
    "results.fetchall()"
   ]
  },
  {
   "cell_type": "code",
   "execution_count": 66,
   "id": "5a8e5cf9",
   "metadata": {},
   "outputs": [
    {
     "data": {
      "text/plain": [
       "[]"
      ]
     },
     "execution_count": 66,
     "metadata": {},
     "output_type": "execute_result"
    }
   ],
   "source": [
    "results = cur.execute(\"select * from student where marks is null\")  # null operator\n",
    "results.fetchall()"
   ]
  },
  {
   "cell_type": "code",
   "execution_count": 68,
   "id": "ac9f65df",
   "metadata": {},
   "outputs": [
    {
     "data": {
      "text/plain": [
       "[(101, 'Naveen', 80),\n",
       " (102, 'Ranga', 99),\n",
       " (103, 'Theinamma', 100),\n",
       " (104, 'Deepan', 85),\n",
       " (105, 'Rupavathi', 75),\n",
       " (106, 'Krithvik', 70),\n",
       " (107, 'Mari', 75),\n",
       " (108, 'Subha', 80)]"
      ]
     },
     "execution_count": 68,
     "metadata": {},
     "output_type": "execute_result"
    }
   ],
   "source": [
    "results = cur.execute(\"select * from student where marks is not null\") \n",
    "results.fetchall()"
   ]
  },
  {
   "cell_type": "code",
   "execution_count": 72,
   "id": "cefeb208",
   "metadata": {},
   "outputs": [
    {
     "data": {
      "text/plain": [
       "[(102, 'Ranga', 99), (105, 'Rupavathi', 75)]"
      ]
     },
     "execution_count": 72,
     "metadata": {},
     "output_type": "execute_result"
    }
   ],
   "source": [
    "results = cur.execute(\"select * from student where name like 'R%'\")  # like operator starting name from letter\n",
    "results.fetchall()"
   ]
  },
  {
   "cell_type": "code",
   "execution_count": 73,
   "id": "9ceb9ec3",
   "metadata": {},
   "outputs": [
    {
     "name": "stdout",
     "output_type": "stream",
     "text": [
      "(101, 'Naveen', 80)\n"
     ]
    }
   ],
   "source": [
    "results = cur.execute(\"select * from student where name like 'N%'\")  # like operator starting name from letter\n",
    "for i in results:\n",
    "    print(i)"
   ]
  },
  {
   "cell_type": "code",
   "execution_count": 75,
   "id": "d60ecd10",
   "metadata": {},
   "outputs": [
    {
     "name": "stdout",
     "output_type": "stream",
     "text": [
      "(103, 'Theinamma', 100)\n"
     ]
    }
   ],
   "source": [
    "results = cur.execute(\"select * from student where name like 'T%'\")  # like operator starting name from letter\n",
    "for i in results:\n",
    "    print(i)"
   ]
  },
  {
   "cell_type": "code",
   "execution_count": 78,
   "id": "cdee370e",
   "metadata": {},
   "outputs": [
    {
     "name": "stdout",
     "output_type": "stream",
     "text": [
      "(101, 'Naveen', 80)\n",
      "(102, 'Ranga', 99)\n",
      "(107, 'Mari', 75)\n"
     ]
    }
   ],
   "source": [
    "results = cur.execute(\"select * from student where name like '_a%'\")  \n",
    "for i in results:                   # like operator starting name from letter, underscore denotes char place '_a' means second letter                                    \n",
    "    print(i)                        # '__a' third letter with two underscore"
   ]
  },
  {
   "cell_type": "code",
   "execution_count": 81,
   "id": "d7946c69",
   "metadata": {},
   "outputs": [
    {
     "name": "stdout",
     "output_type": "stream",
     "text": [
      "(102, 'Ranga', 99)\n",
      "(103, 'Theinamma', 100)\n",
      "(108, 'Subha', 80)\n"
     ]
    }
   ],
   "source": [
    "results = cur.execute(\"select * from student where name like '%a'\")  # like operator ending name from letter 'a'\n",
    "for i in results:\n",
    "    print(i)"
   ]
  },
  {
   "cell_type": "code",
   "execution_count": 82,
   "id": "2b2c2a4f",
   "metadata": {},
   "outputs": [
    {
     "name": "stdout",
     "output_type": "stream",
     "text": [
      "(101, 'Naveen', 80)\n",
      "(104, 'Deepan', 85)\n"
     ]
    }
   ],
   "source": [
    "results = cur.execute(\"select * from student where name like '%n'\")  # like operator ending name from letter 'a'\n",
    "for i in results:\n",
    "    print(i)"
   ]
  },
  {
   "cell_type": "code",
   "execution_count": 83,
   "id": "6c6fca2d",
   "metadata": {},
   "outputs": [
    {
     "name": "stdout",
     "output_type": "stream",
     "text": [
      "(101, 'Naveen', 80)\n",
      "(102, 'Ranga', 99)\n",
      "(103, 'Theinamma', 100)\n",
      "(104, 'Deepan', 85)\n"
     ]
    }
   ],
   "source": [
    "results = cur.execute(\"select * from student where name like '%n%'\")  # like operator contains name with letter 'n'\n",
    "for i in results:\n",
    "    print(i)"
   ]
  },
  {
   "cell_type": "code",
   "execution_count": 84,
   "id": "fd3471d7",
   "metadata": {},
   "outputs": [
    {
     "name": "stdout",
     "output_type": "stream",
     "text": [
      "(101, 'Naveen', 80)\n",
      "(102, 'Ranga', 99)\n",
      "(103, 'Theinamma', 100)\n",
      "(104, 'Deepan', 85)\n",
      "(105, 'Rupavathi', 75)\n",
      "(107, 'Mari', 75)\n",
      "(108, 'Subha', 80)\n"
     ]
    }
   ],
   "source": [
    "results = cur.execute(\"select * from student where name like '%a%'\")  # like operator contains name with letter 'n'\n",
    "for i in results:\n",
    "    print(i)"
   ]
  },
  {
   "cell_type": "code",
   "execution_count": 85,
   "id": "51efb8f5",
   "metadata": {},
   "outputs": [
    {
     "name": "stdout",
     "output_type": "stream",
     "text": [
      "(103, 'Theinamma', 100)\n",
      "(105, 'Rupavathi', 75)\n",
      "(106, 'Krithvik', 70)\n",
      "(107, 'Mari', 75)\n"
     ]
    }
   ],
   "source": [
    "results = cur.execute(\"select * from student where name like '%i%'\")  # like operator contains name with letter 'n'\n",
    "for i in results:\n",
    "    print(i)"
   ]
  },
  {
   "cell_type": "code",
   "execution_count": 86,
   "id": "3fe8aa64",
   "metadata": {},
   "outputs": [
    {
     "data": {
      "text/plain": [
       "<sqlite3.Cursor at 0x298b04c3650>"
      ]
     },
     "execution_count": 86,
     "metadata": {},
     "output_type": "execute_result"
    }
   ],
   "source": [
    "# update record\n",
    "\n",
    "sql = \"update student set marks = 81 where id is 107\"\n",
    "cur.execute(sql)"
   ]
  },
  {
   "cell_type": "code",
   "execution_count": 88,
   "id": "20d7c9d9",
   "metadata": {},
   "outputs": [
    {
     "name": "stdout",
     "output_type": "stream",
     "text": [
      "(101, 'Naveen', 80)\n",
      "(102, 'Ranga', 99)\n",
      "(103, 'Theinamma', 100)\n",
      "(104, 'Deepan', 85)\n",
      "(105, 'Rupavathi', 75)\n",
      "(106, 'Krithvik', 70)\n",
      "(107, 'Mari', 81)\n",
      "(108, 'Subha', 80)\n"
     ]
    }
   ],
   "source": [
    "results = cur.execute(\"select * from student\")  \n",
    "for i in results:  # mari 107 updated marks with 81\n",
    "    print(i)"
   ]
  },
  {
   "cell_type": "code",
   "execution_count": 91,
   "id": "61d8df6a",
   "metadata": {},
   "outputs": [
    {
     "data": {
      "text/plain": [
       "<sqlite3.Cursor at 0x298b04c3650>"
      ]
     },
     "execution_count": 91,
     "metadata": {},
     "output_type": "execute_result"
    }
   ],
   "source": [
    "sql = \"update student set marks = 88 where id in (101,108)\"\n",
    "cur.execute(sql)"
   ]
  },
  {
   "cell_type": "code",
   "execution_count": 92,
   "id": "fcf4e6ee",
   "metadata": {},
   "outputs": [
    {
     "name": "stdout",
     "output_type": "stream",
     "text": [
      "(101, 'Naveen', 88)\n",
      "(102, 'Ranga', 99)\n",
      "(103, 'Theinamma', 100)\n",
      "(104, 'Deepan', 85)\n",
      "(105, 'Rupavathi', 75)\n",
      "(106, 'Krithvik', 70)\n",
      "(107, 'Mari', 88)\n",
      "(108, 'Subha', 88)\n"
     ]
    }
   ],
   "source": [
    "results = cur.execute(\"select * from student\")  \n",
    "for i in results:  # mari 107 updated marks with 81\n",
    "    print(i)"
   ]
  },
  {
   "cell_type": "code",
   "execution_count": null,
   "id": "eacbff12",
   "metadata": {},
   "outputs": [],
   "source": []
  },
  {
   "cell_type": "markdown",
   "id": "309b25b0",
   "metadata": {},
   "source": [
    "# Delete any unwanted records"
   ]
  },
  {
   "cell_type": "code",
   "execution_count": 93,
   "id": "980a8adc",
   "metadata": {},
   "outputs": [
    {
     "data": {
      "text/plain": [
       "<sqlite3.Cursor at 0x298b04c3650>"
      ]
     },
     "execution_count": 93,
     "metadata": {},
     "output_type": "execute_result"
    }
   ],
   "source": [
    "sql = \"delete from student where id = 107\"\n",
    "cur.execute(sql)"
   ]
  },
  {
   "cell_type": "code",
   "execution_count": 94,
   "id": "7acfac91",
   "metadata": {},
   "outputs": [
    {
     "name": "stdout",
     "output_type": "stream",
     "text": [
      "(101, 'Naveen', 88)\n",
      "(102, 'Ranga', 99)\n",
      "(103, 'Theinamma', 100)\n",
      "(104, 'Deepan', 85)\n",
      "(105, 'Rupavathi', 75)\n",
      "(106, 'Krithvik', 70)\n",
      "(108, 'Subha', 88)\n"
     ]
    }
   ],
   "source": [
    "results = cur.execute(\"select * from student\")  \n",
    "for i in results:  \n",
    "    print(i)"
   ]
  },
  {
   "cell_type": "markdown",
   "id": "c9dbe387",
   "metadata": {},
   "source": [
    "# Drop table student"
   ]
  },
  {
   "cell_type": "code",
   "execution_count": 95,
   "id": "79f6f893",
   "metadata": {},
   "outputs": [
    {
     "data": {
      "text/plain": [
       "<sqlite3.Cursor at 0x298b04c3650>"
      ]
     },
     "execution_count": 95,
     "metadata": {},
     "output_type": "execute_result"
    }
   ],
   "source": [
    "sql = \"drop table student\"\n",
    "cur.execute(sql)  # dropping the table"
   ]
  },
  {
   "cell_type": "code",
   "execution_count": 96,
   "id": "986c9613",
   "metadata": {},
   "outputs": [
    {
     "ename": "OperationalError",
     "evalue": "no such table: student",
     "output_type": "error",
     "traceback": [
      "\u001b[1;31m---------------------------------------------------------------------------\u001b[0m",
      "\u001b[1;31mOperationalError\u001b[0m                          Traceback (most recent call last)",
      "Input \u001b[1;32mIn [96]\u001b[0m, in \u001b[0;36m<cell line: 1>\u001b[1;34m()\u001b[0m\n\u001b[1;32m----> 1\u001b[0m results \u001b[38;5;241m=\u001b[39m \u001b[43mcur\u001b[49m\u001b[38;5;241;43m.\u001b[39;49m\u001b[43mexecute\u001b[49m\u001b[43m(\u001b[49m\u001b[38;5;124;43m\"\u001b[39;49m\u001b[38;5;124;43mselect * from student\u001b[39;49m\u001b[38;5;124;43m\"\u001b[39;49m\u001b[43m)\u001b[49m  \n\u001b[0;32m      2\u001b[0m \u001b[38;5;28;01mfor\u001b[39;00m i \u001b[38;5;129;01min\u001b[39;00m results:  \u001b[38;5;66;03m# mari 107 updated marks with 81\u001b[39;00m\n\u001b[0;32m      3\u001b[0m     \u001b[38;5;28mprint\u001b[39m(i)\n",
      "\u001b[1;31mOperationalError\u001b[0m: no such table: student"
     ]
    }
   ],
   "source": [
    "results = cur.execute(\"select * from student\")  \n",
    "for i in results:  # mari 107 updated marks with 81\n",
    "    print(i)"
   ]
  },
  {
   "cell_type": "code",
   "execution_count": 97,
   "id": "a12baa91",
   "metadata": {},
   "outputs": [],
   "source": [
    "db.close()"
   ]
  },
  {
   "cell_type": "raw",
   "id": "5ce36ecf",
   "metadata": {},
   "source": [
    "# delete will delete the rows one by one\n",
    "# truncate the table will truncate all the data at once means will delete \n",
    "# drop will drop or remove the entire table"
   ]
  },
  {
   "cell_type": "code",
   "execution_count": null,
   "id": "18460417",
   "metadata": {},
   "outputs": [],
   "source": []
  },
  {
   "cell_type": "markdown",
   "id": "6730dbe1",
   "metadata": {},
   "source": [
    "# Creating Database inside C or E drive "
   ]
  },
  {
   "cell_type": "code",
   "execution_count": 98,
   "id": "ac932bf7",
   "metadata": {},
   "outputs": [],
   "source": [
    "import sqlite3"
   ]
  },
  {
   "cell_type": "code",
   "execution_count": 102,
   "id": "488f844f",
   "metadata": {},
   "outputs": [],
   "source": [
    "db = sqlite3.connect(\"C://Users//navee//Desktop//Data Science Course Materials//082022 and 082122 Serialization,Exception handling//Employee.db\")\n",
    "\n"
   ]
  },
  {
   "cell_type": "code",
   "execution_count": 120,
   "id": "ccf2b048",
   "metadata": {},
   "outputs": [],
   "source": [
    "cur = db.cursor()"
   ]
  },
  {
   "cell_type": "code",
   "execution_count": 106,
   "id": "2b4ea744",
   "metadata": {},
   "outputs": [
    {
     "data": {
      "text/plain": [
       "<sqlite3.Cursor at 0x298b1f9c6c0>"
      ]
     },
     "execution_count": 106,
     "metadata": {},
     "output_type": "execute_result"
    }
   ],
   "source": [
    "cur.execute('create table employee(empid int primary key, empname text, sal float)')"
   ]
  },
  {
   "cell_type": "code",
   "execution_count": 109,
   "id": "7c27fa18",
   "metadata": {},
   "outputs": [
    {
     "data": {
      "text/plain": [
       "<sqlite3.Cursor at 0x298b1f9c6c0>"
      ]
     },
     "execution_count": 109,
     "metadata": {},
     "output_type": "execute_result"
    }
   ],
   "source": [
    "cur.execute('insert into employee(empid,empname,sal) values(001,\"Ranga\",500000.50)')"
   ]
  },
  {
   "cell_type": "code",
   "execution_count": 111,
   "id": "167b6ad6",
   "metadata": {},
   "outputs": [],
   "source": [
    "db.commit()"
   ]
  },
  {
   "cell_type": "code",
   "execution_count": 123,
   "id": "e5fde217",
   "metadata": {},
   "outputs": [
    {
     "name": "stdout",
     "output_type": "stream",
     "text": [
      "(1, 'Ranga', 500000.5)\n"
     ]
    }
   ],
   "source": [
    "results = cur.execute(\"select * from employee\") \n",
    "for i in results:\n",
    "    print(i)"
   ]
  },
  {
   "cell_type": "code",
   "execution_count": 124,
   "id": "a944cd0c",
   "metadata": {},
   "outputs": [
    {
     "name": "stdout",
     "output_type": "stream",
     "text": [
      "-1 employee\n"
     ]
    }
   ],
   "source": [
    "print(cur.rowcount,'employee')"
   ]
  },
  {
   "cell_type": "markdown",
   "id": "b57e8692",
   "metadata": {},
   "source": [
    "# Inserting records from csv file"
   ]
  },
  {
   "cell_type": "code",
   "execution_count": 126,
   "id": "f4b3de9a",
   "metadata": {},
   "outputs": [
    {
     "name": "stdout",
     "output_type": "stream",
     "text": [
      "11 Records Inserted\n"
     ]
    }
   ],
   "source": [
    "with open('emp.csv','r') as file:\n",
    "    total_records = 0\n",
    "    for row in file:\n",
    "        cur.execute(\"insert into employee values(?,?,?)\",row.split(\",\"))\n",
    "        db.commit()\n",
    "        total_records +=1\n",
    "print(total_records,'Records Inserted')"
   ]
  },
  {
   "cell_type": "code",
   "execution_count": 127,
   "id": "1760a39e",
   "metadata": {},
   "outputs": [
    {
     "data": {
      "text/plain": [
       "[(1, 'Ranga', 500000.5),\n",
       " (2, \"'Theinamma'\", 450000.32),\n",
       " (3, \"'Naveen'\", 250000.5),\n",
       " (4, \"'Deepan'\", 350000.5),\n",
       " (5, \"'Rupavathi'\", 300000.32),\n",
       " (6, \"'Krithvik'\", 200000.5),\n",
       " (7, \"'Mari'\", 250000.5),\n",
       " (8, \"'Subha'\", 250000.5),\n",
       " (9, \"'Bruce'\", 200000.32),\n",
       " (10, \"'Clark'\", 200000.33),\n",
       " (11, \"'Diana'\", 200000.22),\n",
       " (12, \"'Barry'\", 205000.5)]"
      ]
     },
     "execution_count": 127,
     "metadata": {},
     "output_type": "execute_result"
    }
   ],
   "source": [
    "results = cur.execute(\"select * from employee\")\n",
    "results.fetchall()"
   ]
  },
  {
   "cell_type": "markdown",
   "id": "65b960e5",
   "metadata": {},
   "source": [
    "# Constraints"
   ]
  },
  {
   "cell_type": "raw",
   "id": "9abf8428",
   "metadata": {},
   "source": [
    "# primary key - must be unique and no null value\n",
    "# unique key  - Enter only unique values, no duplicate values.....blank is possible\n",
    "not null      - no blank values can be inserted in table"
   ]
  },
  {
   "cell_type": "code",
   "execution_count": 128,
   "id": "57699f22",
   "metadata": {},
   "outputs": [],
   "source": [
    "db = sqlite3.connect(\"C:/Users/navee/Desktop/Data Science Course Materials/082722 and 082822/SQL database/sports.db\")"
   ]
  },
  {
   "cell_type": "code",
   "execution_count": 129,
   "id": "fedf6808",
   "metadata": {},
   "outputs": [],
   "source": [
    "cur1 = db.cursor()"
   ]
  },
  {
   "cell_type": "code",
   "execution_count": 130,
   "id": "ffa7ed81",
   "metadata": {},
   "outputs": [
    {
     "data": {
      "text/plain": [
       "<sqlite3.Cursor at 0x298b1f9c490>"
      ]
     },
     "execution_count": 130,
     "metadata": {},
     "output_type": "execute_result"
    }
   ],
   "source": [
    "cur.execute('create table sports(id int primary key, sportname text unique,dateofevent date,country not null)')"
   ]
  },
  {
   "cell_type": "code",
   "execution_count": 142,
   "id": "d2184fdc",
   "metadata": {},
   "outputs": [
    {
     "data": {
      "text/plain": [
       "<sqlite3.Cursor at 0x298b1f9c490>"
      ]
     },
     "execution_count": 142,
     "metadata": {},
     "output_type": "execute_result"
    }
   ],
   "source": [
    "cur.execute('insert into sports values(1,\"Cricket\",\"2022-02-22\",\"India\")')"
   ]
  },
  {
   "cell_type": "code",
   "execution_count": 136,
   "id": "598ddee7",
   "metadata": {},
   "outputs": [
    {
     "data": {
      "text/plain": [
       "<sqlite3.Cursor at 0x298b1f9c490>"
      ]
     },
     "execution_count": 136,
     "metadata": {},
     "output_type": "execute_result"
    }
   ],
   "source": [
    "cur.execute('insert into sports values(2,\"Football\",\"2022-02-23\",\"Brazil\")')"
   ]
  },
  {
   "cell_type": "code",
   "execution_count": 137,
   "id": "c1063859",
   "metadata": {},
   "outputs": [],
   "source": [
    "db.commit()"
   ]
  },
  {
   "cell_type": "code",
   "execution_count": 138,
   "id": "cbd9109d",
   "metadata": {},
   "outputs": [
    {
     "data": {
      "text/plain": [
       "[(1, 'Cricket', 1998, 'India'), (2, 'Football', '2022-02-23', 'Brazil')]"
      ]
     },
     "execution_count": 138,
     "metadata": {},
     "output_type": "execute_result"
    }
   ],
   "source": [
    "results = cur.execute(\"select * from sports\")\n",
    "results.fetchall()"
   ]
  },
  {
   "cell_type": "code",
   "execution_count": 139,
   "id": "b9802e53",
   "metadata": {},
   "outputs": [
    {
     "data": {
      "text/plain": [
       "<sqlite3.Cursor at 0x298b1f9c490>"
      ]
     },
     "execution_count": 139,
     "metadata": {},
     "output_type": "execute_result"
    }
   ],
   "source": [
    "sp = \"delete from sports where id = 1\"\n",
    "cur.execute(sp)    # Used to delete line 1 as the  date format ws incorrectly added into the table"
   ]
  },
  {
   "cell_type": "code",
   "execution_count": 143,
   "id": "c9cc65f9",
   "metadata": {},
   "outputs": [
    {
     "data": {
      "text/plain": [
       "[(2, 'Football', '2022-02-23', 'Brazil'),\n",
       " (1, 'Cricket', '2022-02-22', 'India')]"
      ]
     },
     "execution_count": 143,
     "metadata": {},
     "output_type": "execute_result"
    }
   ],
   "source": [
    "results = cur.execute(\"select * from sports\")\n",
    "results.fetchall()"
   ]
  },
  {
   "cell_type": "code",
   "execution_count": null,
   "id": "98b46327",
   "metadata": {},
   "outputs": [],
   "source": [
    "# cur.execute('insert into sports values(2,\"Cricket\",\"2022-02-24\",\"Argentina\")')\n",
    "\n",
    "# IntegrityError: UNIQUE constraint failed: sports.sportname\n",
    "\n",
    "# As Cricket is already existing, we are getting Unique constraint error"
   ]
  },
  {
   "cell_type": "code",
   "execution_count": 146,
   "id": "0750749d",
   "metadata": {},
   "outputs": [
    {
     "data": {
      "text/plain": [
       "<sqlite3.Cursor at 0x298b1f9c490>"
      ]
     },
     "execution_count": 146,
     "metadata": {},
     "output_type": "execute_result"
    }
   ],
   "source": [
    "cur.execute('insert into sports values(3,\"Rugby\",\"2022-02-24\",\"Argentina\")')"
   ]
  },
  {
   "cell_type": "code",
   "execution_count": null,
   "id": "08015101",
   "metadata": {},
   "outputs": [],
   "source": [
    "# cur.execute('insert into sports values(4,\"Basketball\",\"2022-02-24\",\"NULL\")')\n",
    "\n",
    "# IntegrityError: UNIQUE constraint failed: sports.sportname\n",
    "\n",
    "# As Country name we have given Null Constraint, we are getting Unique constraint error, it should  not be in NULL value"
   ]
  },
  {
   "cell_type": "code",
   "execution_count": 151,
   "id": "5673106a",
   "metadata": {},
   "outputs": [
    {
     "data": {
      "text/plain": [
       "[(2, 'Football', '2022-02-23', 'Brazil'),\n",
       " (1, 'Cricket', '2022-02-22', 'India'),\n",
       " (3, 'Rugby', '2022-02-24', 'Argentina'),\n",
       " (4, 'Basketball', '2022-02-24', 'Null')]"
      ]
     },
     "execution_count": 151,
     "metadata": {},
     "output_type": "execute_result"
    }
   ],
   "source": [
    "results = cur.execute(\"select * from sports\")\n",
    "results.fetchall()"
   ]
  },
  {
   "cell_type": "code",
   "execution_count": 152,
   "id": "dd202f9f",
   "metadata": {},
   "outputs": [
    {
     "data": {
      "text/plain": [
       "<sqlite3.Cursor at 0x298b1f9c490>"
      ]
     },
     "execution_count": 152,
     "metadata": {},
     "output_type": "execute_result"
    }
   ],
   "source": [
    "sp = \"delete from sports where id = 4\"\n",
    "cur.execute(sp) "
   ]
  },
  {
   "cell_type": "code",
   "execution_count": 153,
   "id": "66f29c93",
   "metadata": {},
   "outputs": [
    {
     "data": {
      "text/plain": [
       "<sqlite3.Cursor at 0x298b1f9c490>"
      ]
     },
     "execution_count": 153,
     "metadata": {},
     "output_type": "execute_result"
    }
   ],
   "source": [
    "cur.execute('insert into sports values(4,\"Basketball\",\"2022-02-24\",\"USA\")')"
   ]
  },
  {
   "cell_type": "code",
   "execution_count": 154,
   "id": "a6bb9716",
   "metadata": {},
   "outputs": [
    {
     "data": {
      "text/plain": [
       "[(2, 'Football', '2022-02-23', 'Brazil'),\n",
       " (1, 'Cricket', '2022-02-22', 'India'),\n",
       " (3, 'Rugby', '2022-02-24', 'Argentina'),\n",
       " (4, 'Basketball', '2022-02-24', 'USA')]"
      ]
     },
     "execution_count": 154,
     "metadata": {},
     "output_type": "execute_result"
    }
   ],
   "source": [
    "results = cur.execute(\"select * from sports\")\n",
    "results.fetchall()"
   ]
  },
  {
   "cell_type": "code",
   "execution_count": 155,
   "id": "ede12f50",
   "metadata": {},
   "outputs": [
    {
     "name": "stdout",
     "output_type": "stream",
     "text": [
      "(1, 'Cricket', '2022-02-22', 'India')\n",
      "(2, 'Football', '2022-02-23', 'Brazil')\n",
      "(3, 'Rugby', '2022-02-24', 'Argentina')\n",
      "(4, 'Basketball', '2022-02-24', 'USA')\n"
     ]
    }
   ],
   "source": [
    "results = cur.execute(\"select * from sports order by id asc\") \n",
    "for i in results:\n",
    "    print(i)"
   ]
  },
  {
   "cell_type": "code",
   "execution_count": null,
   "id": "0998e00d",
   "metadata": {},
   "outputs": [],
   "source": []
  },
  {
   "cell_type": "markdown",
   "id": "0f28107c",
   "metadata": {},
   "source": [
    "# Employee database with DB and Python programmatically"
   ]
  },
  {
   "cell_type": "code",
   "execution_count": 175,
   "id": "132b7f11",
   "metadata": {},
   "outputs": [],
   "source": [
    "con1 = sqlite3.connect(\"C:/Users/navee/Desktop/Data Science Course Materials/082722 and 082822/SQL database/employees.db\")"
   ]
  },
  {
   "cell_type": "code",
   "execution_count": 176,
   "id": "85a26754",
   "metadata": {},
   "outputs": [],
   "source": [
    "def sql_table(con1):\n",
    "    cur = con1.cursor()\n",
    "    cur.execute(\"Create table employees(id int primary key,name text,salary real,department text,position text,hire date)\")\n",
    "    con1.commit()"
   ]
  },
  {
   "cell_type": "code",
   "execution_count": 177,
   "id": "a0a36dbd",
   "metadata": {},
   "outputs": [],
   "source": [
    "# calling function\n",
    "\n",
    "sql_table(con1)"
   ]
  },
  {
   "cell_type": "code",
   "execution_count": 179,
   "id": "a8fc68f8",
   "metadata": {},
   "outputs": [
    {
     "data": {
      "text/plain": [
       "<sqlite3.Cursor at 0x298b224f180>"
      ]
     },
     "execution_count": 179,
     "metadata": {},
     "output_type": "execute_result"
    }
   ],
   "source": [
    "cur = con1.cursor()\n",
    "cur.execute(\"insert into employees values(1,'Jack',10000,'HR','Lead','2022-01-02')\")"
   ]
  },
  {
   "cell_type": "code",
   "execution_count": 180,
   "id": "6004c1dc",
   "metadata": {},
   "outputs": [],
   "source": [
    "con1.commit()"
   ]
  },
  {
   "cell_type": "code",
   "execution_count": 181,
   "id": "433e605f",
   "metadata": {},
   "outputs": [
    {
     "data": {
      "text/plain": [
       "[(1, 'Jack', 10000.0, 'HR', 'Lead', '2022-01-02')]"
      ]
     },
     "execution_count": 181,
     "metadata": {},
     "output_type": "execute_result"
    }
   ],
   "source": [
    "results = cur.execute(\"select * from employees\")\n",
    "results.fetchall()"
   ]
  },
  {
   "cell_type": "raw",
   "id": "34f77df0",
   "metadata": {},
   "source": [
    "We can also pass values\\arguments to an INSERT statement in the execute() method. we can use the question mark (?) as a\n",
    "placeholder for each value. The syntax of the INSERT will be like the following:\n",
    "    \n",
    "cur.execute(\"insert into employees(id,name,salary,department,position,hiredate) values(?,?,?,?,?,?)\",entities)\n",
    "\n",
    "entities = (2,'John',4000,'IT','Engineer','2018-07-25')"
   ]
  },
  {
   "cell_type": "code",
   "execution_count": 189,
   "id": "e5e92b17",
   "metadata": {},
   "outputs": [],
   "source": [
    "def sql_insert(con1,entities):\n",
    "    cur = con1.cursor()\n",
    "    cur.execute(\"insert into employees(id,name,salary,department,position,hire) values(?,?,?,?,?,?)\",entities)"
   ]
  },
  {
   "cell_type": "code",
   "execution_count": 190,
   "id": "3d90226b",
   "metadata": {},
   "outputs": [],
   "source": [
    "entities = (2,'Andrew',7000,'IT','Engineer','2015-08-22')"
   ]
  },
  {
   "cell_type": "code",
   "execution_count": 191,
   "id": "d103712b",
   "metadata": {},
   "outputs": [],
   "source": [
    "# calling sql insert to insert the data\n",
    "\n",
    "sql_insert(con1,entities)"
   ]
  },
  {
   "cell_type": "code",
   "execution_count": 192,
   "id": "d44176d4",
   "metadata": {},
   "outputs": [
    {
     "data": {
      "text/plain": [
       "[(1, 'Jack', 10000.0, 'HR', 'Lead', '2022-01-02'),\n",
       " (2, 'Andrew', 7000.0, 'IT', 'Engineer', '2015-08-22')]"
      ]
     },
     "execution_count": 192,
     "metadata": {},
     "output_type": "execute_result"
    }
   ],
   "source": [
    "results = cur.execute(\"select * from employees\")\n",
    "results.fetchall()"
   ]
  },
  {
   "cell_type": "code",
   "execution_count": 199,
   "id": "7b3d8caf",
   "metadata": {},
   "outputs": [],
   "source": [
    "entities = (3,'Mathew',7500,'IT','Tester','2015-08-25')\n",
    "sql_insert(con1,entities)"
   ]
  },
  {
   "cell_type": "code",
   "execution_count": 200,
   "id": "880aa54c",
   "metadata": {},
   "outputs": [],
   "source": [
    "entities = (4,'Carol',9000,'HR','Lead','2022-12-30')\n",
    "sql_insert(con1,entities)"
   ]
  },
  {
   "cell_type": "code",
   "execution_count": 195,
   "id": "f38cf1a0",
   "metadata": {},
   "outputs": [],
   "source": [
    "entities = (5,'Aryan',15000,'Operations','Manager','2022-12-24')"
   ]
  },
  {
   "cell_type": "code",
   "execution_count": 196,
   "id": "05b1c02a",
   "metadata": {},
   "outputs": [],
   "source": [
    "# calling sql insert to insert the data\n",
    "\n",
    "sql_insert(con1,entities)"
   ]
  },
  {
   "cell_type": "code",
   "execution_count": 197,
   "id": "121c037d",
   "metadata": {},
   "outputs": [],
   "source": [
    "con1.commit()"
   ]
  },
  {
   "cell_type": "code",
   "execution_count": 201,
   "id": "636cb85f",
   "metadata": {},
   "outputs": [
    {
     "data": {
      "text/plain": [
       "[(1, 'Jack', 10000.0, 'HR', 'Lead', '2022-01-02'),\n",
       " (2, 'Andrew', 7000.0, 'IT', 'Engineer', '2015-08-22'),\n",
       " (5, 'Aryan', 15000.0, 'Operations', 'Manager', '2022-12-24'),\n",
       " (3, 'Mathew', 7500.0, 'IT', 'Tester', '2015-08-25'),\n",
       " (4, 'Carol', 9000.0, 'HR', 'Lead', '2022-12-30')]"
      ]
     },
     "execution_count": 201,
     "metadata": {},
     "output_type": "execute_result"
    }
   ],
   "source": [
    "results = cur.execute(\"select * from employees\")\n",
    "results.fetchall()"
   ]
  },
  {
   "cell_type": "code",
   "execution_count": 203,
   "id": "22441e30",
   "metadata": {},
   "outputs": [
    {
     "data": {
      "text/plain": [
       "[(1, 'Jack', 10000.0, 'HR', 'Lead', '2022-01-02'),\n",
       " (2, 'Andrew', 7000.0, 'IT', 'Engineer', '2015-08-22'),\n",
       " (3, 'Mathew', 7500.0, 'IT', 'Tester', '2015-08-25'),\n",
       " (4, 'Carol', 9000.0, 'HR', 'Lead', '2022-12-30'),\n",
       " (5, 'Aryan', 15000.0, 'Operations', 'Manager', '2022-12-24')]"
      ]
     },
     "execution_count": 203,
     "metadata": {},
     "output_type": "execute_result"
    }
   ],
   "source": [
    "results = cur.execute(\"select * from employees order by id asc\")\n",
    "results.fetchall()"
   ]
  },
  {
   "cell_type": "code",
   "execution_count": 204,
   "id": "03ce3809",
   "metadata": {},
   "outputs": [
    {
     "data": {
      "text/plain": [
       "[(7000.0,)]"
      ]
     },
     "execution_count": 204,
     "metadata": {},
     "output_type": "execute_result"
    }
   ],
   "source": [
    "results = cur.execute(\"select min(salary) from employees\")  # fetching results using min\n",
    "results.fetchall()"
   ]
  },
  {
   "cell_type": "code",
   "execution_count": 205,
   "id": "6cd2c98b",
   "metadata": {},
   "outputs": [
    {
     "data": {
      "text/plain": [
       "[(5,)]"
      ]
     },
     "execution_count": 205,
     "metadata": {},
     "output_type": "execute_result"
    }
   ],
   "source": [
    "results = cur.execute(\"select count(id) from employees\") # fetching results using count\n",
    "results.fetchall()"
   ]
  },
  {
   "cell_type": "code",
   "execution_count": 206,
   "id": "6af85b77",
   "metadata": {},
   "outputs": [
    {
     "data": {
      "text/plain": [
       "[('HR',), ('IT',), ('Operations',)]"
      ]
     },
     "execution_count": 206,
     "metadata": {},
     "output_type": "execute_result"
    }
   ],
   "source": [
    "results = cur.execute(\"select distinct(department) from employees\") # fetching results using distinct(unique)\n",
    "results.fetchall()"
   ]
  },
  {
   "cell_type": "code",
   "execution_count": 208,
   "id": "c373ea5f",
   "metadata": {},
   "outputs": [
    {
     "data": {
      "text/plain": [
       "[(3,)]"
      ]
     },
     "execution_count": 208,
     "metadata": {},
     "output_type": "execute_result"
    }
   ],
   "source": [
    "results = cur.execute(\"select count(distinct(department)) from employees\") # fetching results using count and distinct(unique)\n",
    "results.fetchall()"
   ]
  },
  {
   "cell_type": "code",
   "execution_count": 209,
   "id": "99379a39",
   "metadata": {},
   "outputs": [
    {
     "data": {
      "text/plain": [
       "[(19000.0, 'HR'), (14500.0, 'IT'), (15000.0, 'Operations')]"
      ]
     },
     "execution_count": 209,
     "metadata": {},
     "output_type": "execute_result"
    }
   ],
   "source": [
    "results = cur.execute(\"select sum(salary),department from employees group by department\") \n",
    "results.fetchall()                                                  # fetching results using group by"
   ]
  },
  {
   "cell_type": "code",
   "execution_count": 211,
   "id": "8626e94d",
   "metadata": {},
   "outputs": [
    {
     "data": {
      "text/plain": [
       "[(7000.0, 'Engineer'),\n",
       " (19000.0, 'Lead'),\n",
       " (15000.0, 'Manager'),\n",
       " (7500.0, 'Tester')]"
      ]
     },
     "execution_count": 211,
     "metadata": {},
     "output_type": "execute_result"
    }
   ],
   "source": [
    "results = cur.execute(\"select sum(salary),position from employees group by position\") # fetching results using group by\n",
    "results.fetchall()                           "
   ]
  },
  {
   "cell_type": "code",
   "execution_count": 212,
   "id": "8849a2be",
   "metadata": {},
   "outputs": [],
   "source": [
    "def sql_query(sql):\n",
    "    cur = con1.cursor()\n",
    "    results = cur.execute(sql)\n",
    "    return results"
   ]
  },
  {
   "cell_type": "code",
   "execution_count": 215,
   "id": "880d7950",
   "metadata": {},
   "outputs": [
    {
     "data": {
      "text/plain": [
       "[(1, 'Jack', 10000.0, 'HR', 'Lead', '2022-01-02'),\n",
       " (2, 'Andrew', 7000.0, 'IT', 'Engineer', '2015-08-22'),\n",
       " (3, 'Mathew', 7500.0, 'IT', 'Tester', '2015-08-25'),\n",
       " (4, 'Carol', 9000.0, 'HR', 'Lead', '2022-12-30'),\n",
       " (5, 'Aryan', 15000.0, 'Operations', 'Manager', '2022-12-24')]"
      ]
     },
     "execution_count": 215,
     "metadata": {},
     "output_type": "execute_result"
    }
   ],
   "source": [
    "# make query\n",
    "\n",
    "sql = \"select * from employees order by id asc\"\n",
    "\n",
    "# pass query in function\n",
    "\n",
    "respond = sql_query(sql)\n",
    "respond.fetchall()"
   ]
  },
  {
   "cell_type": "code",
   "execution_count": null,
   "id": "e69e951b",
   "metadata": {},
   "outputs": [],
   "source": []
  },
  {
   "cell_type": "code",
   "execution_count": null,
   "id": "c0a3cd69",
   "metadata": {},
   "outputs": [],
   "source": []
  },
  {
   "cell_type": "code",
   "execution_count": null,
   "id": "d86bbbd2",
   "metadata": {},
   "outputs": [],
   "source": []
  },
  {
   "cell_type": "code",
   "execution_count": null,
   "id": "7e578547",
   "metadata": {},
   "outputs": [],
   "source": []
  },
  {
   "cell_type": "code",
   "execution_count": null,
   "id": "ea8ebf91",
   "metadata": {},
   "outputs": [],
   "source": []
  },
  {
   "cell_type": "code",
   "execution_count": null,
   "id": "3b3a3eb9",
   "metadata": {},
   "outputs": [],
   "source": []
  },
  {
   "cell_type": "code",
   "execution_count": null,
   "id": "09eb0c60",
   "metadata": {},
   "outputs": [],
   "source": []
  },
  {
   "cell_type": "code",
   "execution_count": null,
   "id": "9b38be2a",
   "metadata": {},
   "outputs": [],
   "source": []
  },
  {
   "cell_type": "code",
   "execution_count": null,
   "id": "445e4a2c",
   "metadata": {},
   "outputs": [],
   "source": []
  },
  {
   "cell_type": "code",
   "execution_count": null,
   "id": "28d3e53c",
   "metadata": {},
   "outputs": [],
   "source": []
  },
  {
   "cell_type": "code",
   "execution_count": null,
   "id": "ce9ec9ea",
   "metadata": {},
   "outputs": [],
   "source": []
  },
  {
   "cell_type": "code",
   "execution_count": null,
   "id": "5bc5607a",
   "metadata": {},
   "outputs": [],
   "source": []
  },
  {
   "cell_type": "code",
   "execution_count": null,
   "id": "1cbdfaa9",
   "metadata": {},
   "outputs": [],
   "source": []
  },
  {
   "cell_type": "code",
   "execution_count": null,
   "id": "e1df6a64",
   "metadata": {},
   "outputs": [],
   "source": []
  },
  {
   "cell_type": "code",
   "execution_count": null,
   "id": "fe0e6789",
   "metadata": {},
   "outputs": [],
   "source": []
  },
  {
   "cell_type": "code",
   "execution_count": null,
   "id": "4a3a9969",
   "metadata": {},
   "outputs": [],
   "source": []
  },
  {
   "cell_type": "code",
   "execution_count": null,
   "id": "eff3d63c",
   "metadata": {},
   "outputs": [],
   "source": []
  },
  {
   "cell_type": "code",
   "execution_count": null,
   "id": "f0b05a5b",
   "metadata": {},
   "outputs": [],
   "source": []
  },
  {
   "cell_type": "code",
   "execution_count": null,
   "id": "59d11c26",
   "metadata": {},
   "outputs": [],
   "source": []
  },
  {
   "cell_type": "code",
   "execution_count": null,
   "id": "6990b587",
   "metadata": {},
   "outputs": [],
   "source": []
  },
  {
   "cell_type": "code",
   "execution_count": null,
   "id": "334dd038",
   "metadata": {},
   "outputs": [],
   "source": []
  },
  {
   "cell_type": "code",
   "execution_count": null,
   "id": "4ac302f3",
   "metadata": {},
   "outputs": [],
   "source": []
  },
  {
   "cell_type": "code",
   "execution_count": null,
   "id": "039be199",
   "metadata": {},
   "outputs": [],
   "source": []
  },
  {
   "cell_type": "code",
   "execution_count": null,
   "id": "3aa018fb",
   "metadata": {},
   "outputs": [],
   "source": []
  },
  {
   "cell_type": "code",
   "execution_count": null,
   "id": "e5ed7fe0",
   "metadata": {},
   "outputs": [],
   "source": []
  },
  {
   "cell_type": "code",
   "execution_count": null,
   "id": "57996609",
   "metadata": {},
   "outputs": [],
   "source": []
  },
  {
   "cell_type": "code",
   "execution_count": null,
   "id": "473e8880",
   "metadata": {},
   "outputs": [],
   "source": []
  },
  {
   "cell_type": "code",
   "execution_count": null,
   "id": "128bef5d",
   "metadata": {},
   "outputs": [],
   "source": []
  },
  {
   "cell_type": "code",
   "execution_count": null,
   "id": "3dc86c65",
   "metadata": {},
   "outputs": [],
   "source": []
  },
  {
   "cell_type": "code",
   "execution_count": null,
   "id": "58f00f37",
   "metadata": {},
   "outputs": [],
   "source": []
  },
  {
   "cell_type": "code",
   "execution_count": null,
   "id": "7b64e56d",
   "metadata": {},
   "outputs": [],
   "source": []
  },
  {
   "cell_type": "code",
   "execution_count": null,
   "id": "f14c41b3",
   "metadata": {},
   "outputs": [],
   "source": []
  },
  {
   "cell_type": "code",
   "execution_count": null,
   "id": "5bb89df9",
   "metadata": {},
   "outputs": [],
   "source": []
  },
  {
   "cell_type": "code",
   "execution_count": null,
   "id": "fa02f4ee",
   "metadata": {},
   "outputs": [],
   "source": []
  },
  {
   "cell_type": "code",
   "execution_count": null,
   "id": "db6e50b1",
   "metadata": {},
   "outputs": [],
   "source": []
  },
  {
   "cell_type": "code",
   "execution_count": null,
   "id": "523a2361",
   "metadata": {},
   "outputs": [],
   "source": []
  },
  {
   "cell_type": "code",
   "execution_count": null,
   "id": "145e85d9",
   "metadata": {},
   "outputs": [],
   "source": []
  },
  {
   "cell_type": "code",
   "execution_count": null,
   "id": "4c9ea105",
   "metadata": {},
   "outputs": [],
   "source": []
  },
  {
   "cell_type": "code",
   "execution_count": null,
   "id": "7217b99b",
   "metadata": {},
   "outputs": [],
   "source": []
  },
  {
   "cell_type": "code",
   "execution_count": null,
   "id": "df82f8e5",
   "metadata": {},
   "outputs": [],
   "source": []
  },
  {
   "cell_type": "code",
   "execution_count": null,
   "id": "343e435a",
   "metadata": {},
   "outputs": [],
   "source": []
  },
  {
   "cell_type": "code",
   "execution_count": null,
   "id": "6b47bab2",
   "metadata": {},
   "outputs": [],
   "source": []
  },
  {
   "cell_type": "code",
   "execution_count": null,
   "id": "d3250bd5",
   "metadata": {},
   "outputs": [],
   "source": []
  },
  {
   "cell_type": "code",
   "execution_count": null,
   "id": "cf82ca55",
   "metadata": {},
   "outputs": [],
   "source": []
  },
  {
   "cell_type": "code",
   "execution_count": null,
   "id": "f59fa800",
   "metadata": {},
   "outputs": [],
   "source": []
  },
  {
   "cell_type": "code",
   "execution_count": null,
   "id": "b39991f7",
   "metadata": {},
   "outputs": [],
   "source": []
  },
  {
   "cell_type": "code",
   "execution_count": null,
   "id": "d513bc1f",
   "metadata": {},
   "outputs": [],
   "source": []
  },
  {
   "cell_type": "code",
   "execution_count": null,
   "id": "8e01cd80",
   "metadata": {},
   "outputs": [],
   "source": []
  },
  {
   "cell_type": "code",
   "execution_count": null,
   "id": "742355fd",
   "metadata": {},
   "outputs": [],
   "source": []
  },
  {
   "cell_type": "code",
   "execution_count": null,
   "id": "38703e21",
   "metadata": {},
   "outputs": [],
   "source": []
  },
  {
   "cell_type": "code",
   "execution_count": null,
   "id": "2b85d30a",
   "metadata": {},
   "outputs": [],
   "source": []
  },
  {
   "cell_type": "code",
   "execution_count": null,
   "id": "fd634d02",
   "metadata": {},
   "outputs": [],
   "source": []
  },
  {
   "cell_type": "code",
   "execution_count": null,
   "id": "96689912",
   "metadata": {},
   "outputs": [],
   "source": []
  },
  {
   "cell_type": "code",
   "execution_count": null,
   "id": "794155e1",
   "metadata": {},
   "outputs": [],
   "source": []
  },
  {
   "cell_type": "code",
   "execution_count": null,
   "id": "26d7ca8a",
   "metadata": {},
   "outputs": [],
   "source": []
  },
  {
   "cell_type": "code",
   "execution_count": null,
   "id": "bda5b9e7",
   "metadata": {},
   "outputs": [],
   "source": []
  },
  {
   "cell_type": "code",
   "execution_count": null,
   "id": "a51f26c3",
   "metadata": {},
   "outputs": [],
   "source": []
  },
  {
   "cell_type": "code",
   "execution_count": null,
   "id": "1ce2480a",
   "metadata": {},
   "outputs": [],
   "source": []
  },
  {
   "cell_type": "code",
   "execution_count": null,
   "id": "f0f25b96",
   "metadata": {},
   "outputs": [],
   "source": []
  },
  {
   "cell_type": "code",
   "execution_count": null,
   "id": "5acde592",
   "metadata": {},
   "outputs": [],
   "source": []
  },
  {
   "cell_type": "code",
   "execution_count": null,
   "id": "a946a846",
   "metadata": {},
   "outputs": [],
   "source": []
  },
  {
   "cell_type": "code",
   "execution_count": null,
   "id": "cad9c332",
   "metadata": {},
   "outputs": [],
   "source": []
  },
  {
   "cell_type": "code",
   "execution_count": null,
   "id": "499b552f",
   "metadata": {},
   "outputs": [],
   "source": []
  },
  {
   "cell_type": "code",
   "execution_count": null,
   "id": "16ce03eb",
   "metadata": {},
   "outputs": [],
   "source": []
  },
  {
   "cell_type": "code",
   "execution_count": null,
   "id": "92e6229e",
   "metadata": {},
   "outputs": [],
   "source": []
  },
  {
   "cell_type": "code",
   "execution_count": null,
   "id": "9c5e15de",
   "metadata": {},
   "outputs": [],
   "source": []
  },
  {
   "cell_type": "code",
   "execution_count": null,
   "id": "bb9270d6",
   "metadata": {},
   "outputs": [],
   "source": []
  }
 ],
 "metadata": {
  "kernelspec": {
   "display_name": "Python 3 (ipykernel)",
   "language": "python",
   "name": "python3"
  },
  "language_info": {
   "codemirror_mode": {
    "name": "ipython",
    "version": 3
   },
   "file_extension": ".py",
   "mimetype": "text/x-python",
   "name": "python",
   "nbconvert_exporter": "python",
   "pygments_lexer": "ipython3",
   "version": "3.9.12"
  }
 },
 "nbformat": 4,
 "nbformat_minor": 5
}
