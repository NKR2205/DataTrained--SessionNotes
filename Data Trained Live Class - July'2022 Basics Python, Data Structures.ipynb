{
 "cells": [
  {
   "cell_type": "markdown",
   "id": "f3a726fe",
   "metadata": {},
   "source": [
    "# Live Class - 2nd July and 3rd July 2022\n"
   ]
  },
  {
   "cell_type": "markdown",
   "id": "eb297066",
   "metadata": {},
   "source": [
    "# Learning Python Basics"
   ]
  },
  {
   "cell_type": "code",
   "execution_count": 1,
   "id": "a56010d6",
   "metadata": {},
   "outputs": [
    {
     "data": {
      "text/plain": [
       "2"
      ]
     },
     "execution_count": 1,
     "metadata": {},
     "output_type": "execute_result"
    }
   ],
   "source": [
    "1+1"
   ]
  },
  {
   "cell_type": "code",
   "execution_count": 2,
   "id": "74073d67",
   "metadata": {},
   "outputs": [
    {
     "data": {
      "text/plain": [
       "1"
      ]
     },
     "execution_count": 2,
     "metadata": {},
     "output_type": "execute_result"
    }
   ],
   "source": [
    "2-1"
   ]
  },
  {
   "cell_type": "code",
   "execution_count": 3,
   "id": "cc22976e",
   "metadata": {},
   "outputs": [
    {
     "data": {
      "text/plain": [
       "6"
      ]
     },
     "execution_count": 3,
     "metadata": {},
     "output_type": "execute_result"
    }
   ],
   "source": [
    "2*3"
   ]
  },
  {
   "cell_type": "code",
   "execution_count": 4,
   "id": "a7ad9a7d",
   "metadata": {},
   "outputs": [
    {
     "data": {
      "text/plain": [
       "25"
      ]
     },
     "execution_count": 4,
     "metadata": {},
     "output_type": "execute_result"
    }
   ],
   "source": [
    "5*5"
   ]
  },
  {
   "cell_type": "code",
   "execution_count": 5,
   "id": "e225670c",
   "metadata": {},
   "outputs": [
    {
     "data": {
      "text/plain": [
       "5.0"
      ]
     },
     "execution_count": 5,
     "metadata": {},
     "output_type": "execute_result"
    }
   ],
   "source": [
    "10/2 "
   ]
  },
  {
   "cell_type": "code",
   "execution_count": 13,
   "id": "d4a63ce1",
   "metadata": {},
   "outputs": [
    {
     "data": {
      "text/plain": [
       "5"
      ]
     },
     "execution_count": 13,
     "metadata": {},
     "output_type": "execute_result"
    }
   ],
   "source": [
    "# floor Division\n",
    "# Divide without float value \n",
    "\n",
    "10//2"
   ]
  },
  {
   "cell_type": "code",
   "execution_count": 8,
   "id": "a1faf863",
   "metadata": {},
   "outputs": [
    {
     "data": {
      "text/plain": [
       "1"
      ]
     },
     "execution_count": 8,
     "metadata": {},
     "output_type": "execute_result"
    }
   ],
   "source": [
    "# Modulus to find remainder\n",
    "11%2"
   ]
  },
  {
   "cell_type": "code",
   "execution_count": 11,
   "id": "df8c222e",
   "metadata": {},
   "outputs": [
    {
     "data": {
      "text/plain": [
       "4"
      ]
     },
     "execution_count": 11,
     "metadata": {},
     "output_type": "execute_result"
    }
   ],
   "source": [
    "# Power function to multiply\n",
    "# 2 to the power of 2\n",
    "# 2 to the power of 5\n",
    "2**2"
   ]
  },
  {
   "cell_type": "code",
   "execution_count": 12,
   "id": "139866e2",
   "metadata": {},
   "outputs": [
    {
     "data": {
      "text/plain": [
       "32"
      ]
     },
     "execution_count": 12,
     "metadata": {},
     "output_type": "execute_result"
    }
   ],
   "source": [
    "2*2*2*2*2"
   ]
  },
  {
   "cell_type": "markdown",
   "id": "e2711325",
   "metadata": {},
   "source": [
    "# Working with variables"
   ]
  },
  {
   "cell_type": "code",
   "execution_count": 15,
   "id": "3df551b9",
   "metadata": {},
   "outputs": [],
   "source": [
    "# Variable are containers which will hold the values"
   ]
  },
  {
   "cell_type": "code",
   "execution_count": 16,
   "id": "a3bd55d0",
   "metadata": {},
   "outputs": [],
   "source": [
    "a = 10\n",
    "b = 20"
   ]
  },
  {
   "cell_type": "code",
   "execution_count": 17,
   "id": "65f98146",
   "metadata": {},
   "outputs": [
    {
     "data": {
      "text/plain": [
       "30"
      ]
     },
     "execution_count": 17,
     "metadata": {},
     "output_type": "execute_result"
    }
   ],
   "source": [
    "a+b"
   ]
  },
  {
   "cell_type": "code",
   "execution_count": 18,
   "id": "81c8ac8a",
   "metadata": {},
   "outputs": [
    {
     "data": {
      "text/plain": [
       "200"
      ]
     },
     "execution_count": 18,
     "metadata": {},
     "output_type": "execute_result"
    }
   ],
   "source": [
    "a*b"
   ]
  },
  {
   "cell_type": "code",
   "execution_count": 22,
   "id": "3dba0cc8",
   "metadata": {},
   "outputs": [
    {
     "data": {
      "text/plain": [
       "2"
      ]
     },
     "execution_count": 22,
     "metadata": {},
     "output_type": "execute_result"
    }
   ],
   "source": [
    "b//a"
   ]
  },
  {
   "cell_type": "code",
   "execution_count": null,
   "id": "1a75009f",
   "metadata": {},
   "outputs": [],
   "source": []
  },
  {
   "cell_type": "code",
   "execution_count": 21,
   "id": "bf92d342",
   "metadata": {},
   "outputs": [
    {
     "data": {
      "text/plain": [
       "0"
      ]
     },
     "execution_count": 21,
     "metadata": {},
     "output_type": "execute_result"
    }
   ],
   "source": [
    "b%a"
   ]
  },
  {
   "cell_type": "code",
   "execution_count": 23,
   "id": "636c8dab",
   "metadata": {},
   "outputs": [],
   "source": [
    "# print command "
   ]
  },
  {
   "cell_type": "code",
   "execution_count": 24,
   "id": "9815c73b",
   "metadata": {},
   "outputs": [
    {
     "name": "stdout",
     "output_type": "stream",
     "text": [
      "Hello World\n"
     ]
    }
   ],
   "source": [
    "print(\"Hello World\")"
   ]
  },
  {
   "cell_type": "code",
   "execution_count": 25,
   "id": "72181273",
   "metadata": {},
   "outputs": [
    {
     "name": "stdout",
     "output_type": "stream",
     "text": [
      "Hello\n"
     ]
    }
   ],
   "source": [
    "print('Hello')"
   ]
  },
  {
   "cell_type": "code",
   "execution_count": 27,
   "id": "7e06c64b",
   "metadata": {},
   "outputs": [],
   "source": [
    "c = b-a"
   ]
  },
  {
   "cell_type": "code",
   "execution_count": 28,
   "id": "11b6f868",
   "metadata": {},
   "outputs": [
    {
     "name": "stdout",
     "output_type": "stream",
     "text": [
      "10\n"
     ]
    }
   ],
   "source": [
    "print(c)"
   ]
  },
  {
   "cell_type": "code",
   "execution_count": 30,
   "id": "ee13a698",
   "metadata": {},
   "outputs": [
    {
     "name": "stdout",
     "output_type": "stream",
     "text": [
      "c= 10\n"
     ]
    }
   ],
   "source": [
    "print(\"c=\",c)"
   ]
  },
  {
   "cell_type": "code",
   "execution_count": 31,
   "id": "0918b17e",
   "metadata": {},
   "outputs": [
    {
     "name": "stdout",
     "output_type": "stream",
     "text": [
      "c = 10\n"
     ]
    }
   ],
   "source": [
    "print(\"c =\",c)"
   ]
  },
  {
   "cell_type": "code",
   "execution_count": null,
   "id": "c966990e",
   "metadata": {},
   "outputs": [],
   "source": []
  },
  {
   "cell_type": "markdown",
   "id": "cdbb30d9",
   "metadata": {},
   "source": [
    "# Area of Rectangle"
   ]
  },
  {
   "cell_type": "code",
   "execution_count": 36,
   "id": "d64fdfef",
   "metadata": {},
   "outputs": [
    {
     "name": "stdout",
     "output_type": "stream",
     "text": [
      "Area of Rectangle = 330\n",
      "Area of Rectangle with length = 22 and breadth = 15 is 330\n"
     ]
    }
   ],
   "source": [
    "length = 22\n",
    "breadth = 15\n",
    "\n",
    "area = length* breadth\n",
    "print(\"Area of Rectangle =\", area)\n",
    "print(\"Area of Rectangle with length =\", length,\"and breadth =\",breadth,\"is\",area)"
   ]
  },
  {
   "cell_type": "code",
   "execution_count": 1,
   "id": "29212d1c",
   "metadata": {},
   "outputs": [],
   "source": [
    "# String Concatenation"
   ]
  },
  {
   "cell_type": "code",
   "execution_count": 2,
   "id": "1cbcb89e",
   "metadata": {},
   "outputs": [
    {
     "data": {
      "text/plain": [
       "'66'"
      ]
     },
     "execution_count": 2,
     "metadata": {},
     "output_type": "execute_result"
    }
   ],
   "source": [
    "'6' + '6'"
   ]
  },
  {
   "cell_type": "code",
   "execution_count": 3,
   "id": "e295f24c",
   "metadata": {},
   "outputs": [
    {
     "data": {
      "text/plain": [
       "'66'"
      ]
     },
     "execution_count": 3,
     "metadata": {},
     "output_type": "execute_result"
    }
   ],
   "source": [
    "\"6\"+\"6\""
   ]
  },
  {
   "cell_type": "code",
   "execution_count": 5,
   "id": "5f6ac6af",
   "metadata": {},
   "outputs": [
    {
     "data": {
      "text/plain": [
       "'Naveen Kumar Ranganathan'"
      ]
     },
     "execution_count": 5,
     "metadata": {},
     "output_type": "execute_result"
    }
   ],
   "source": [
    "\"Naveen\" + \" Kumar\" + \" Ranganathan\""
   ]
  },
  {
   "cell_type": "code",
   "execution_count": null,
   "id": "a64198ae",
   "metadata": {},
   "outputs": [],
   "source": [
    "# Boolean Commands"
   ]
  },
  {
   "cell_type": "code",
   "execution_count": 6,
   "id": "85655e8d",
   "metadata": {},
   "outputs": [
    {
     "data": {
      "text/plain": [
       "True"
      ]
     },
     "execution_count": 6,
     "metadata": {},
     "output_type": "execute_result"
    }
   ],
   "source": [
    "40>20"
   ]
  },
  {
   "cell_type": "code",
   "execution_count": 7,
   "id": "a2c10071",
   "metadata": {},
   "outputs": [
    {
     "data": {
      "text/plain": [
       "False"
      ]
     },
     "execution_count": 7,
     "metadata": {},
     "output_type": "execute_result"
    }
   ],
   "source": [
    "40<20"
   ]
  },
  {
   "cell_type": "code",
   "execution_count": 8,
   "id": "2004c883",
   "metadata": {},
   "outputs": [
    {
     "data": {
      "text/plain": [
       "True"
      ]
     },
     "execution_count": 8,
     "metadata": {},
     "output_type": "execute_result"
    }
   ],
   "source": [
    "30!=20"
   ]
  },
  {
   "cell_type": "code",
   "execution_count": 11,
   "id": "1dd747f2",
   "metadata": {},
   "outputs": [
    {
     "data": {
      "text/plain": [
       "False"
      ]
     },
     "execution_count": 11,
     "metadata": {},
     "output_type": "execute_result"
    }
   ],
   "source": [
    "30!=30.0"
   ]
  },
  {
   "cell_type": "code",
   "execution_count": 12,
   "id": "1d05b8e6",
   "metadata": {},
   "outputs": [
    {
     "data": {
      "text/plain": [
       "False"
      ]
     },
     "execution_count": 12,
     "metadata": {},
     "output_type": "execute_result"
    }
   ],
   "source": [
    "60==100"
   ]
  },
  {
   "cell_type": "code",
   "execution_count": 13,
   "id": "4cc77dde",
   "metadata": {},
   "outputs": [
    {
     "data": {
      "text/plain": [
       "True"
      ]
     },
     "execution_count": 13,
     "metadata": {},
     "output_type": "execute_result"
    }
   ],
   "source": [
    "100==100"
   ]
  },
  {
   "cell_type": "code",
   "execution_count": 14,
   "id": "aaec1e03",
   "metadata": {},
   "outputs": [],
   "source": [
    "x =10\n",
    "y =20"
   ]
  },
  {
   "cell_type": "code",
   "execution_count": 15,
   "id": "fa285e20",
   "metadata": {},
   "outputs": [
    {
     "data": {
      "text/plain": [
       "False"
      ]
     },
     "execution_count": 15,
     "metadata": {},
     "output_type": "execute_result"
    }
   ],
   "source": [
    "x >y"
   ]
  },
  {
   "cell_type": "code",
   "execution_count": 16,
   "id": "3ecab47c",
   "metadata": {},
   "outputs": [
    {
     "data": {
      "text/plain": [
       "False"
      ]
     },
     "execution_count": 16,
     "metadata": {},
     "output_type": "execute_result"
    }
   ],
   "source": [
    "y<y"
   ]
  },
  {
   "cell_type": "code",
   "execution_count": 17,
   "id": "c52297c4",
   "metadata": {},
   "outputs": [
    {
     "data": {
      "text/plain": [
       "True"
      ]
     },
     "execution_count": 17,
     "metadata": {},
     "output_type": "execute_result"
    }
   ],
   "source": [
    "x==x"
   ]
  },
  {
   "cell_type": "markdown",
   "id": "11f595f3",
   "metadata": {},
   "source": [
    "# Length of any data"
   ]
  },
  {
   "cell_type": "code",
   "execution_count": null,
   "id": "596e9a85",
   "metadata": {},
   "outputs": [],
   "source": []
  },
  {
   "cell_type": "code",
   "execution_count": 38,
   "id": "74a603d6",
   "metadata": {},
   "outputs": [
    {
     "data": {
      "text/plain": [
       "9"
      ]
     },
     "execution_count": 38,
     "metadata": {},
     "output_type": "execute_result"
    }
   ],
   "source": [
    "n = (1,2,3,4,5,6,7,8,9)\n",
    "len(n)"
   ]
  },
  {
   "cell_type": "code",
   "execution_count": null,
   "id": "2fee7c73",
   "metadata": {},
   "outputs": [],
   "source": []
  },
  {
   "cell_type": "code",
   "execution_count": null,
   "id": "13515bd0",
   "metadata": {},
   "outputs": [],
   "source": []
  },
  {
   "cell_type": "markdown",
   "id": "1d779f88",
   "metadata": {},
   "source": [
    "Data Types - Types Casting"
   ]
  },
  {
   "cell_type": "code",
   "execution_count": 19,
   "id": "423119a3",
   "metadata": {},
   "outputs": [],
   "source": [
    "# Data Types - String, Integers and Floats \n",
    "\n",
    "# String = str = characters - a to z or A to Z - should come in '' or \"\" quotation - We can give space inside quotation when concanete strings\n",
    "# Integers = int = numbers - 0 to any numbers\n",
    "# Floats = float = decimal - numbers in decimal - 0.2, 22.05\n",
    "# Boolean - True or False"
   ]
  },
  {
   "cell_type": "code",
   "execution_count": 20,
   "id": "eb8b215e",
   "metadata": {},
   "outputs": [
    {
     "data": {
      "text/plain": [
       "int"
      ]
     },
     "execution_count": 20,
     "metadata": {},
     "output_type": "execute_result"
    }
   ],
   "source": [
    "type(22)"
   ]
  },
  {
   "cell_type": "code",
   "execution_count": 21,
   "id": "a36be3c4",
   "metadata": {},
   "outputs": [
    {
     "data": {
      "text/plain": [
       "float"
      ]
     },
     "execution_count": 21,
     "metadata": {},
     "output_type": "execute_result"
    }
   ],
   "source": [
    "type(2.0)"
   ]
  },
  {
   "cell_type": "code",
   "execution_count": 22,
   "id": "e61521c0",
   "metadata": {},
   "outputs": [
    {
     "data": {
      "text/plain": [
       "int"
      ]
     },
     "execution_count": 22,
     "metadata": {},
     "output_type": "execute_result"
    }
   ],
   "source": [
    "type(2)"
   ]
  },
  {
   "cell_type": "markdown",
   "id": "e5fed631",
   "metadata": {},
   "source": [
    "Typecasting"
   ]
  },
  {
   "cell_type": "code",
   "execution_count": 24,
   "id": "1b919484",
   "metadata": {},
   "outputs": [
    {
     "data": {
      "text/plain": [
       "250.0"
      ]
     },
     "execution_count": 24,
     "metadata": {},
     "output_type": "execute_result"
    }
   ],
   "source": [
    "# changing the type into another type\n",
    "a = 250\n",
    "\n",
    "float(a)"
   ]
  },
  {
   "cell_type": "code",
   "execution_count": 25,
   "id": "5f612a79",
   "metadata": {},
   "outputs": [
    {
     "data": {
      "text/plain": [
       "90"
      ]
     },
     "execution_count": 25,
     "metadata": {},
     "output_type": "execute_result"
    }
   ],
   "source": [
    "int(90.2)"
   ]
  },
  {
   "cell_type": "code",
   "execution_count": 26,
   "id": "80fc656e",
   "metadata": {},
   "outputs": [
    {
     "data": {
      "text/plain": [
       "90"
      ]
     },
     "execution_count": 26,
     "metadata": {},
     "output_type": "execute_result"
    }
   ],
   "source": [
    "int(90.9)"
   ]
  },
  {
   "cell_type": "code",
   "execution_count": 27,
   "id": "22983746",
   "metadata": {},
   "outputs": [
    {
     "data": {
      "text/plain": [
       "str"
      ]
     },
     "execution_count": 27,
     "metadata": {},
     "output_type": "execute_result"
    }
   ],
   "source": [
    "type(\"45\")"
   ]
  },
  {
   "cell_type": "code",
   "execution_count": 28,
   "id": "784f45a4",
   "metadata": {},
   "outputs": [
    {
     "data": {
      "text/plain": [
       "45"
      ]
     },
     "execution_count": 28,
     "metadata": {},
     "output_type": "execute_result"
    }
   ],
   "source": [
    "int(\"45\")"
   ]
  },
  {
   "cell_type": "code",
   "execution_count": 29,
   "id": "19f79a2b",
   "metadata": {},
   "outputs": [
    {
     "data": {
      "text/plain": [
       "int"
      ]
     },
     "execution_count": 29,
     "metadata": {},
     "output_type": "execute_result"
    }
   ],
   "source": [
    "j =55\n",
    "\n",
    "type(55)"
   ]
  },
  {
   "cell_type": "code",
   "execution_count": 30,
   "id": "6119551d",
   "metadata": {},
   "outputs": [
    {
     "data": {
      "text/plain": [
       "55.0"
      ]
     },
     "execution_count": 30,
     "metadata": {},
     "output_type": "execute_result"
    }
   ],
   "source": [
    "s = float(j)\n",
    "s"
   ]
  },
  {
   "cell_type": "code",
   "execution_count": 31,
   "id": "ff52f452",
   "metadata": {},
   "outputs": [],
   "source": [
    "# User Input"
   ]
  },
  {
   "cell_type": "code",
   "execution_count": 36,
   "id": "f0f987da",
   "metadata": {},
   "outputs": [
    {
     "name": "stdout",
     "output_type": "stream",
     "text": [
      "Enter nameThenmozhi\n"
     ]
    },
    {
     "data": {
      "text/plain": [
       "'Thenmozhi'"
      ]
     },
     "execution_count": 36,
     "metadata": {},
     "output_type": "execute_result"
    }
   ],
   "source": [
    "city = input(\"Enter name\")\n",
    "city"
   ]
  },
  {
   "cell_type": "code",
   "execution_count": 37,
   "id": "96bdae1e",
   "metadata": {},
   "outputs": [
    {
     "name": "stdout",
     "output_type": "stream",
     "text": [
      "Fish curry in grams500\n"
     ]
    },
    {
     "data": {
      "text/plain": [
       "'500'"
      ]
     },
     "execution_count": 37,
     "metadata": {},
     "output_type": "execute_result"
    }
   ],
   "source": [
    "food = input(\"Fish curry in grams\")\n",
    "food"
   ]
  },
  {
   "cell_type": "code",
   "execution_count": 41,
   "id": "a1cc49ab",
   "metadata": {},
   "outputs": [
    {
     "name": "stdout",
     "output_type": "stream",
     "text": [
      "Any value50\n",
      "50\n"
     ]
    },
    {
     "data": {
      "text/plain": [
       "str"
      ]
     },
     "execution_count": 41,
     "metadata": {},
     "output_type": "execute_result"
    }
   ],
   "source": [
    "x = input(\"Any value\")\n",
    "\n",
    "print(x)\n",
    "\n",
    "type(x)"
   ]
  },
  {
   "cell_type": "code",
   "execution_count": 44,
   "id": "e9c735df",
   "metadata": {},
   "outputs": [
    {
     "name": "stdout",
     "output_type": "stream",
     "text": [
      "Any value50\n",
      "50.0\n"
     ]
    }
   ],
   "source": [
    "x = float(input(\"Any value\"))\n",
    "\n",
    "print(x)\n"
   ]
  },
  {
   "cell_type": "code",
   "execution_count": null,
   "id": "98a53106",
   "metadata": {},
   "outputs": [],
   "source": []
  },
  {
   "cell_type": "markdown",
   "id": "15210692",
   "metadata": {},
   "source": [
    "# DataStructures "
   ]
  },
  {
   "cell_type": "code",
   "execution_count": 1,
   "id": "62f296ad",
   "metadata": {},
   "outputs": [],
   "source": [
    "# List []    are containers which has data inside square box - It can contain any type of data It will allow duplicate value and it is an ordered collection of data\n",
    "# Tuples()   \n",
    "# Dictionary {}\n",
    "# Sets \n",
    "\n",
    "# homogeneous - Same data types - for example only integers, string or floats separately\n",
    "# Heterogenous - Mixed data types - for example contains all data types integers, string or floats in sinlge list\n",
    "\n",
    "# List can also hold Boolean data types\n",
    "\n",
    "# To identify length which means how many elements are there in the list\n",
    "# we can use length function - len(list)"
   ]
  },
  {
   "cell_type": "markdown",
   "id": "d362bc8a",
   "metadata": {},
   "source": [
    "# list []"
   ]
  },
  {
   "cell_type": "code",
   "execution_count": 2,
   "id": "659045e5",
   "metadata": {},
   "outputs": [],
   "source": [
    "list = [1,2,3,4,5]"
   ]
  },
  {
   "cell_type": "code",
   "execution_count": 3,
   "id": "09a697c2",
   "metadata": {},
   "outputs": [
    {
     "data": {
      "text/plain": [
       "[1, 2, 3, 4, 5]"
      ]
     },
     "execution_count": 3,
     "metadata": {},
     "output_type": "execute_result"
    }
   ],
   "source": [
    "list"
   ]
  },
  {
   "cell_type": "code",
   "execution_count": 4,
   "id": "5cdd046b",
   "metadata": {},
   "outputs": [
    {
     "data": {
      "text/plain": [
       "['Ranga', 'Thenmozhi', 'Deepan', 'Rupavathi', 'Krithvik', 'Naveen']"
      ]
     },
     "execution_count": 4,
     "metadata": {},
     "output_type": "execute_result"
    }
   ],
   "source": [
    "family = [\"Ranga\",\"Thenmozhi\",\"Deepan\",\"Rupavathi\",\"Krithvik\",\"Naveen\"]\n",
    "family"
   ]
  },
  {
   "cell_type": "code",
   "execution_count": null,
   "id": "fcfe3eb8",
   "metadata": {},
   "outputs": [],
   "source": []
  },
  {
   "cell_type": "markdown",
   "id": "d2663193",
   "metadata": {},
   "source": [
    "Index Slicing in list"
   ]
  },
  {
   "cell_type": "code",
   "execution_count": 6,
   "id": "a8bbdfdd",
   "metadata": {},
   "outputs": [
    {
     "data": {
      "text/plain": [
       "1"
      ]
     },
     "execution_count": 6,
     "metadata": {},
     "output_type": "execute_result"
    }
   ],
   "source": [
    "list[0]"
   ]
  },
  {
   "cell_type": "code",
   "execution_count": 7,
   "id": "2210dc04",
   "metadata": {},
   "outputs": [
    {
     "data": {
      "text/plain": [
       "5"
      ]
     },
     "execution_count": 7,
     "metadata": {},
     "output_type": "execute_result"
    }
   ],
   "source": [
    "list[4]"
   ]
  },
  {
   "cell_type": "code",
   "execution_count": 9,
   "id": "4e76dbeb",
   "metadata": {},
   "outputs": [
    {
     "data": {
      "text/plain": [
       "'Naveen'"
      ]
     },
     "execution_count": 9,
     "metadata": {},
     "output_type": "execute_result"
    }
   ],
   "source": [
    "family[5]"
   ]
  },
  {
   "cell_type": "markdown",
   "id": "efdeca56",
   "metadata": {},
   "source": [
    " Slicing in list"
   ]
  },
  {
   "cell_type": "code",
   "execution_count": 10,
   "id": "b9c4bf0a",
   "metadata": {},
   "outputs": [],
   "source": [
    "# list = [start index: end index]"
   ]
  },
  {
   "cell_type": "code",
   "execution_count": 3,
   "id": "5f4d3ad1",
   "metadata": {},
   "outputs": [],
   "source": [
    "n = [2,4,5,6,7,8,9,10,12,13,15,16,22]"
   ]
  },
  {
   "cell_type": "code",
   "execution_count": 4,
   "id": "ee6bbc69",
   "metadata": {},
   "outputs": [
    {
     "data": {
      "text/plain": [
       "[2, 4, 5, 6, 7, 8, 9, 10, 12, 13, 15, 16, 22]"
      ]
     },
     "execution_count": 4,
     "metadata": {},
     "output_type": "execute_result"
    }
   ],
   "source": [
    "n"
   ]
  },
  {
   "cell_type": "code",
   "execution_count": 5,
   "id": "db6d2ff0",
   "metadata": {},
   "outputs": [
    {
     "data": {
      "text/plain": [
       "[2, 4, 5, 6, 7]"
      ]
     },
     "execution_count": 5,
     "metadata": {},
     "output_type": "execute_result"
    }
   ],
   "source": [
    "n[0:5]"
   ]
  },
  {
   "cell_type": "code",
   "execution_count": null,
   "id": "159f2da0",
   "metadata": {},
   "outputs": [],
   "source": []
  },
  {
   "cell_type": "code",
   "execution_count": 6,
   "id": "c50a6b57",
   "metadata": {},
   "outputs": [
    {
     "data": {
      "text/plain": [
       "13"
      ]
     },
     "execution_count": 6,
     "metadata": {},
     "output_type": "execute_result"
    }
   ],
   "source": [
    "len(n)"
   ]
  },
  {
   "cell_type": "markdown",
   "id": "8c754f82",
   "metadata": {},
   "source": [
    "Negative Index"
   ]
  },
  {
   "cell_type": "code",
   "execution_count": 7,
   "id": "3dada143",
   "metadata": {},
   "outputs": [
    {
     "data": {
      "text/plain": [
       "[2, 4, 5, 6, 7, 8, 9, 10, 12, 13, 15, 16, 22]"
      ]
     },
     "execution_count": 7,
     "metadata": {},
     "output_type": "execute_result"
    }
   ],
   "source": [
    "n"
   ]
  },
  {
   "cell_type": "code",
   "execution_count": 8,
   "id": "83f953f0",
   "metadata": {},
   "outputs": [
    {
     "data": {
      "text/plain": [
       "13"
      ]
     },
     "execution_count": 8,
     "metadata": {},
     "output_type": "execute_result"
    }
   ],
   "source": [
    "len(n)"
   ]
  },
  {
   "cell_type": "code",
   "execution_count": 9,
   "id": "de7f7ee1",
   "metadata": {},
   "outputs": [
    {
     "data": {
      "text/plain": [
       "2"
      ]
     },
     "execution_count": 9,
     "metadata": {},
     "output_type": "execute_result"
    }
   ],
   "source": [
    "n[-13]"
   ]
  },
  {
   "cell_type": "code",
   "execution_count": 10,
   "id": "6963cdd6",
   "metadata": {},
   "outputs": [
    {
     "data": {
      "text/plain": [
       "22"
      ]
     },
     "execution_count": 10,
     "metadata": {},
     "output_type": "execute_result"
    }
   ],
   "source": [
    "n[-1]"
   ]
  },
  {
   "cell_type": "code",
   "execution_count": 11,
   "id": "4551ca3f",
   "metadata": {},
   "outputs": [
    {
     "data": {
      "text/plain": [
       "[12, 13, 15, 16]"
      ]
     },
     "execution_count": 11,
     "metadata": {},
     "output_type": "execute_result"
    }
   ],
   "source": [
    "n[-5:-1]"
   ]
  },
  {
   "cell_type": "code",
   "execution_count": 12,
   "id": "c871d750",
   "metadata": {},
   "outputs": [
    {
     "data": {
      "text/plain": [
       "[2, 4, 5, 6, 7, 8, 9]"
      ]
     },
     "execution_count": 12,
     "metadata": {},
     "output_type": "execute_result"
    }
   ],
   "source": [
    "n[-13:-6]"
   ]
  },
  {
   "cell_type": "code",
   "execution_count": null,
   "id": "ad87ab2c",
   "metadata": {},
   "outputs": [],
   "source": []
  },
  {
   "cell_type": "markdown",
   "id": "02935945",
   "metadata": {},
   "source": [
    "Slicing index with range in list"
   ]
  },
  {
   "cell_type": "code",
   "execution_count": 13,
   "id": "88300e18",
   "metadata": {},
   "outputs": [
    {
     "data": {
      "text/plain": [
       "[2, 5, 7, 9, 12, 15, 22]"
      ]
     },
     "execution_count": 13,
     "metadata": {},
     "output_type": "execute_result"
    }
   ],
   "source": [
    "n[0:14:2]"
   ]
  },
  {
   "cell_type": "code",
   "execution_count": 20,
   "id": "dfd1f131",
   "metadata": {},
   "outputs": [
    {
     "data": {
      "text/plain": [
       "[4, 5, 6, 7, 8, 9, 10, 12, 13, 15, 16, 22]"
      ]
     },
     "execution_count": 20,
     "metadata": {},
     "output_type": "execute_result"
    }
   ],
   "source": [
    "n[1:14:1]"
   ]
  },
  {
   "cell_type": "code",
   "execution_count": 23,
   "id": "f0de0270",
   "metadata": {},
   "outputs": [
    {
     "data": {
      "text/plain": [
       "[2, 6, 9, 13, 22]"
      ]
     },
     "execution_count": 23,
     "metadata": {},
     "output_type": "execute_result"
    }
   ],
   "source": [
    "n[0:14:3]"
   ]
  },
  {
   "cell_type": "code",
   "execution_count": null,
   "id": "9548d4e0",
   "metadata": {},
   "outputs": [],
   "source": []
  },
  {
   "cell_type": "markdown",
   "id": "517a536e",
   "metadata": {},
   "source": [
    " Under List [] - We can use below operations\n",
    "\n",
    "To rename list, we can use the newlistname=oldlistname"
   ]
  },
  {
   "cell_type": "code",
   "execution_count": null,
   "id": "f704a7e8",
   "metadata": {},
   "outputs": [],
   "source": []
  },
  {
   "cell_type": "code",
   "execution_count": null,
   "id": "917f1bc8",
   "metadata": {},
   "outputs": [],
   "source": [
    "/html/body/div[3]/div/div[2]/div/div[3]/button"
   ]
  },
  {
   "cell_type": "code",
   "execution_count": null,
   "id": "fd67e3c8",
   "metadata": {},
   "outputs": [],
   "source": [
    "/html/body/div[3]/div/div[2]/div/div[3]/button"
   ]
  },
  {
   "cell_type": "code",
   "execution_count": null,
   "id": "e9fd1602",
   "metadata": {},
   "outputs": [],
   "source": []
  },
  {
   "cell_type": "code",
   "execution_count": null,
   "id": "174b9e6e",
   "metadata": {},
   "outputs": [],
   "source": []
  },
  {
   "cell_type": "code",
   "execution_count": null,
   "id": "6de93b4c",
   "metadata": {},
   "outputs": [],
   "source": [
    "# Append() - to add data inside the list - it will add the data next to the last data..and it will creat new list\n",
    "# insert() - to add or insert data in between the list with \"index\" \n",
    "# sort() - to make the data in ascending order - will work only on homogenous list.....not in mixed list\n",
    "# reverse() - to make the data in descending order - will work only on homogenous list...not in mixed list\n",
    "# index() - to identify data in which order the data is\n",
    "# extend() - to extend more than one data in the list without creating new list\n",
    "# pop()  - to remove data from the list and this operation will remove the last data also use index to remove particular data\n",
    "# remove() - to remove particular data from the list\n",
    "# clear() - to remove entire data from the list\n",
    "# del listname - will delete the entire list\n",
    "# Nesting List [] - Nesting list means we can have data structures within data structures, for example a list inside a list"
   ]
  },
  {
   "cell_type": "code",
   "execution_count": 34,
   "id": "62159b9b",
   "metadata": {},
   "outputs": [],
   "source": [
    "numlist = [1,2,3,4,5,6,7,8,9,12,13,14,15,16,17,18]"
   ]
  },
  {
   "cell_type": "code",
   "execution_count": 35,
   "id": "2e7e6ca1",
   "metadata": {},
   "outputs": [
    {
     "data": {
      "text/plain": [
       "[1, 2, 3, 4, 5, 6, 7, 8, 9, 12, 13, 14, 15, 16, 17, 18]"
      ]
     },
     "execution_count": 35,
     "metadata": {},
     "output_type": "execute_result"
    }
   ],
   "source": [
    "numlist"
   ]
  },
  {
   "cell_type": "code",
   "execution_count": 56,
   "id": "d110de75",
   "metadata": {},
   "outputs": [],
   "source": [
    "# Append() - to add data inside the list - it will add the data next to the last data..and it will creat new list"
   ]
  },
  {
   "cell_type": "code",
   "execution_count": 38,
   "id": "4cbc4316",
   "metadata": {},
   "outputs": [],
   "source": [
    "numlist.append(19)"
   ]
  },
  {
   "cell_type": "code",
   "execution_count": 39,
   "id": "0621e8f7",
   "metadata": {},
   "outputs": [
    {
     "data": {
      "text/plain": [
       "[1, 2, 3, 4, 5, 6, 7, 8, 9, 12, 13, 14, 15, 16, 17, 18, '19', 19]"
      ]
     },
     "execution_count": 39,
     "metadata": {},
     "output_type": "execute_result"
    }
   ],
   "source": [
    "numlist"
   ]
  },
  {
   "cell_type": "code",
   "execution_count": null,
   "id": "821863c2",
   "metadata": {},
   "outputs": [],
   "source": []
  },
  {
   "cell_type": "code",
   "execution_count": 57,
   "id": "1eba60ed",
   "metadata": {},
   "outputs": [],
   "source": [
    "# insert() - to add or insert data in between the list with \"index\" "
   ]
  },
  {
   "cell_type": "code",
   "execution_count": 51,
   "id": "46b0e1a6",
   "metadata": {},
   "outputs": [],
   "source": [
    "numlist.insert(0,0)"
   ]
  },
  {
   "cell_type": "code",
   "execution_count": 52,
   "id": "be8bad7a",
   "metadata": {},
   "outputs": [
    {
     "data": {
      "text/plain": [
       "[0, '0', 1, 2, 3, 4, 5, 6, 7, 8, 9, 12, 13, 14, 15, 16, 17, 18, 19]"
      ]
     },
     "execution_count": 52,
     "metadata": {},
     "output_type": "execute_result"
    }
   ],
   "source": [
    "numlist"
   ]
  },
  {
   "cell_type": "code",
   "execution_count": 50,
   "id": "c1127ea0",
   "metadata": {},
   "outputs": [
    {
     "data": {
      "text/plain": [
       "['0', 1, 2, 3, 4, 5, 6, 7, 8, 9, 12, 13, 14, 15, 16, 17, 18, 19]"
      ]
     },
     "execution_count": 50,
     "metadata": {},
     "output_type": "execute_result"
    }
   ],
   "source": [
    "numlist"
   ]
  },
  {
   "cell_type": "code",
   "execution_count": null,
   "id": "18cf69b4",
   "metadata": {},
   "outputs": [],
   "source": []
  },
  {
   "cell_type": "code",
   "execution_count": 58,
   "id": "69838c73",
   "metadata": {},
   "outputs": [],
   "source": [
    "# remove() - to remove particular data from the list"
   ]
  },
  {
   "cell_type": "code",
   "execution_count": 41,
   "id": "50d73aa8",
   "metadata": {},
   "outputs": [],
   "source": [
    "numlist.remove('19')"
   ]
  },
  {
   "cell_type": "code",
   "execution_count": 53,
   "id": "c652653d",
   "metadata": {},
   "outputs": [
    {
     "data": {
      "text/plain": [
       "[0, '0', 1, 2, 3, 4, 5, 6, 7, 8, 9, 12, 13, 14, 15, 16, 17, 18, 19]"
      ]
     },
     "execution_count": 53,
     "metadata": {},
     "output_type": "execute_result"
    }
   ],
   "source": [
    "numlist"
   ]
  },
  {
   "cell_type": "code",
   "execution_count": 54,
   "id": "891f3d94",
   "metadata": {},
   "outputs": [],
   "source": [
    "numlist.remove('0')"
   ]
  },
  {
   "cell_type": "code",
   "execution_count": 55,
   "id": "43866e0d",
   "metadata": {},
   "outputs": [
    {
     "data": {
      "text/plain": [
       "[0, 1, 2, 3, 4, 5, 6, 7, 8, 9, 12, 13, 14, 15, 16, 17, 18, 19]"
      ]
     },
     "execution_count": 55,
     "metadata": {},
     "output_type": "execute_result"
    }
   ],
   "source": [
    "numlist"
   ]
  },
  {
   "cell_type": "code",
   "execution_count": null,
   "id": "404ac3ae",
   "metadata": {},
   "outputs": [],
   "source": []
  },
  {
   "cell_type": "code",
   "execution_count": null,
   "id": "ab2dac68",
   "metadata": {},
   "outputs": [],
   "source": [
    "# sort() - to make the data in ascending order - will work only on homogenous list.....not in mixed list"
   ]
  },
  {
   "cell_type": "code",
   "execution_count": 65,
   "id": "157e5aae",
   "metadata": {},
   "outputs": [],
   "source": [
    "new = [4,6,8,22,34,67,89,100,300,2,3,1,5,11,12,45,56,23,97]"
   ]
  },
  {
   "cell_type": "code",
   "execution_count": 66,
   "id": "7fd2255d",
   "metadata": {},
   "outputs": [
    {
     "data": {
      "text/plain": [
       "[4, 6, 8, 22, 34, 67, 89, 100, 300, 2, 3, 1, 5, 11, 12, 45, 56, 23, 97]"
      ]
     },
     "execution_count": 66,
     "metadata": {},
     "output_type": "execute_result"
    }
   ],
   "source": [
    "new"
   ]
  },
  {
   "cell_type": "code",
   "execution_count": 67,
   "id": "5f965956",
   "metadata": {},
   "outputs": [],
   "source": [
    "new.sort()"
   ]
  },
  {
   "cell_type": "code",
   "execution_count": 68,
   "id": "6fb23ab3",
   "metadata": {},
   "outputs": [
    {
     "data": {
      "text/plain": [
       "[1, 2, 3, 4, 5, 6, 8, 11, 12, 22, 23, 34, 45, 56, 67, 89, 97, 100, 300]"
      ]
     },
     "execution_count": 68,
     "metadata": {},
     "output_type": "execute_result"
    }
   ],
   "source": [
    "new"
   ]
  },
  {
   "cell_type": "code",
   "execution_count": null,
   "id": "92ca102b",
   "metadata": {},
   "outputs": [],
   "source": []
  },
  {
   "cell_type": "code",
   "execution_count": null,
   "id": "36f99409",
   "metadata": {},
   "outputs": [],
   "source": [
    "# extend() - to extend more than one data in the list without creating new list"
   ]
  },
  {
   "cell_type": "code",
   "execution_count": 69,
   "id": "115df224",
   "metadata": {},
   "outputs": [],
   "source": [
    "new.extend([101,102,103])"
   ]
  },
  {
   "cell_type": "code",
   "execution_count": 70,
   "id": "648787ff",
   "metadata": {},
   "outputs": [
    {
     "data": {
      "text/plain": [
       "[1,\n",
       " 2,\n",
       " 3,\n",
       " 4,\n",
       " 5,\n",
       " 6,\n",
       " 8,\n",
       " 11,\n",
       " 12,\n",
       " 22,\n",
       " 23,\n",
       " 34,\n",
       " 45,\n",
       " 56,\n",
       " 67,\n",
       " 89,\n",
       " 97,\n",
       " 100,\n",
       " 300,\n",
       " 101,\n",
       " 102,\n",
       " 103]"
      ]
     },
     "execution_count": 70,
     "metadata": {},
     "output_type": "execute_result"
    }
   ],
   "source": [
    "new"
   ]
  },
  {
   "cell_type": "code",
   "execution_count": 71,
   "id": "e46e7176",
   "metadata": {},
   "outputs": [],
   "source": [
    "new.sort()"
   ]
  },
  {
   "cell_type": "code",
   "execution_count": 72,
   "id": "ffc5bebe",
   "metadata": {},
   "outputs": [
    {
     "data": {
      "text/plain": [
       "[1,\n",
       " 2,\n",
       " 3,\n",
       " 4,\n",
       " 5,\n",
       " 6,\n",
       " 8,\n",
       " 11,\n",
       " 12,\n",
       " 22,\n",
       " 23,\n",
       " 34,\n",
       " 45,\n",
       " 56,\n",
       " 67,\n",
       " 89,\n",
       " 97,\n",
       " 100,\n",
       " 101,\n",
       " 102,\n",
       " 103,\n",
       " 300]"
      ]
     },
     "execution_count": 72,
     "metadata": {},
     "output_type": "execute_result"
    }
   ],
   "source": [
    "new"
   ]
  },
  {
   "cell_type": "code",
   "execution_count": null,
   "id": "a3449d6f",
   "metadata": {},
   "outputs": [],
   "source": []
  },
  {
   "cell_type": "code",
   "execution_count": null,
   "id": "cdef190b",
   "metadata": {},
   "outputs": [],
   "source": [
    "# reverse() - to make the data in descending order - will work only on homogenous list...not in mixed list"
   ]
  },
  {
   "cell_type": "code",
   "execution_count": 73,
   "id": "8cdfdaf5",
   "metadata": {},
   "outputs": [],
   "source": [
    "new.reverse()"
   ]
  },
  {
   "cell_type": "code",
   "execution_count": 86,
   "id": "90a362ec",
   "metadata": {},
   "outputs": [
    {
     "data": {
      "text/plain": [
       "[2, 3, 4, 8, 12]"
      ]
     },
     "execution_count": 86,
     "metadata": {},
     "output_type": "execute_result"
    }
   ],
   "source": [
    "new"
   ]
  },
  {
   "cell_type": "code",
   "execution_count": null,
   "id": "3fe93588",
   "metadata": {},
   "outputs": [],
   "source": []
  },
  {
   "cell_type": "code",
   "execution_count": null,
   "id": "9b799a82",
   "metadata": {},
   "outputs": [],
   "source": [
    "# index() - to identify data in which order the data is"
   ]
  },
  {
   "cell_type": "code",
   "execution_count": 77,
   "id": "721f3625",
   "metadata": {},
   "outputs": [
    {
     "data": {
      "text/plain": [
       "22"
      ]
     },
     "execution_count": 77,
     "metadata": {},
     "output_type": "execute_result"
    }
   ],
   "source": [
    "len(new)"
   ]
  },
  {
   "cell_type": "code",
   "execution_count": 75,
   "id": "fc9947ab",
   "metadata": {},
   "outputs": [
    {
     "data": {
      "text/plain": [
       "2"
      ]
     },
     "execution_count": 75,
     "metadata": {},
     "output_type": "execute_result"
    }
   ],
   "source": [
    "new.index(102)"
   ]
  },
  {
   "cell_type": "code",
   "execution_count": 76,
   "id": "5ccf418a",
   "metadata": {},
   "outputs": [
    {
     "data": {
      "text/plain": [
       "21"
      ]
     },
     "execution_count": 76,
     "metadata": {},
     "output_type": "execute_result"
    }
   ],
   "source": [
    "new.index(1)"
   ]
  },
  {
   "cell_type": "code",
   "execution_count": null,
   "id": "f4713f59",
   "metadata": {},
   "outputs": [],
   "source": []
  },
  {
   "cell_type": "code",
   "execution_count": null,
   "id": "4805181a",
   "metadata": {},
   "outputs": [],
   "source": [
    "# pop()  - to remove data from the list and this operation will remove the last data also use index to remove particular data"
   ]
  },
  {
   "cell_type": "code",
   "execution_count": 88,
   "id": "c6291c62",
   "metadata": {},
   "outputs": [
    {
     "data": {
      "text/plain": [
       "[1, 2, 3, 4, 5, 6, 7, 8, 9]"
      ]
     },
     "execution_count": 88,
     "metadata": {},
     "output_type": "execute_result"
    }
   ],
   "source": [
    "m =[1,2,3,4,5,6,7,8,9,]\n",
    "m"
   ]
  },
  {
   "cell_type": "code",
   "execution_count": 89,
   "id": "c72f65f6",
   "metadata": {},
   "outputs": [
    {
     "data": {
      "text/plain": [
       "9"
      ]
     },
     "execution_count": 89,
     "metadata": {},
     "output_type": "execute_result"
    }
   ],
   "source": [
    "m.pop()"
   ]
  },
  {
   "cell_type": "code",
   "execution_count": 90,
   "id": "117fc796",
   "metadata": {},
   "outputs": [
    {
     "data": {
      "text/plain": [
       "3"
      ]
     },
     "execution_count": 90,
     "metadata": {},
     "output_type": "execute_result"
    }
   ],
   "source": [
    "m.pop(2)"
   ]
  },
  {
   "cell_type": "code",
   "execution_count": 91,
   "id": "b3500ffd",
   "metadata": {},
   "outputs": [
    {
     "data": {
      "text/plain": [
       "[1, 2, 4, 5, 6, 7, 8]"
      ]
     },
     "execution_count": 91,
     "metadata": {},
     "output_type": "execute_result"
    }
   ],
   "source": [
    "m"
   ]
  },
  {
   "cell_type": "code",
   "execution_count": null,
   "id": "77bf2b55",
   "metadata": {},
   "outputs": [],
   "source": []
  },
  {
   "cell_type": "code",
   "execution_count": 92,
   "id": "c173a58c",
   "metadata": {},
   "outputs": [
    {
     "data": {
      "text/plain": [
       "[1, 2, 4, 5, 6, 7]"
      ]
     },
     "execution_count": 92,
     "metadata": {},
     "output_type": "execute_result"
    }
   ],
   "source": [
    "m.pop(-1)\n",
    "m"
   ]
  },
  {
   "cell_type": "code",
   "execution_count": null,
   "id": "c5e547b5",
   "metadata": {},
   "outputs": [],
   "source": [
    "# clear() - to remove entire data from the list"
   ]
  },
  {
   "cell_type": "code",
   "execution_count": 93,
   "id": "e8232116",
   "metadata": {},
   "outputs": [
    {
     "data": {
      "text/plain": [
       "[]"
      ]
     },
     "execution_count": 93,
     "metadata": {},
     "output_type": "execute_result"
    }
   ],
   "source": [
    "m.clear()\n",
    "m"
   ]
  },
  {
   "cell_type": "code",
   "execution_count": 97,
   "id": "accea9bb",
   "metadata": {},
   "outputs": [
    {
     "data": {
      "text/plain": [
       "[2, 3, 4, 8, 12, 22]"
      ]
     },
     "execution_count": 97,
     "metadata": {},
     "output_type": "execute_result"
    }
   ],
   "source": [
    "new1 = [2,3,4,8,12,22]\n",
    "new1"
   ]
  },
  {
   "cell_type": "code",
   "execution_count": 98,
   "id": "10a9b8d4",
   "metadata": {},
   "outputs": [],
   "source": []
  },
  {
   "cell_type": "code",
   "execution_count": 103,
   "id": "26e88333",
   "metadata": {},
   "outputs": [
    {
     "data": {
      "text/plain": [
       "[2, 3, 4, 8, 12, 22]"
      ]
     },
     "execution_count": 103,
     "metadata": {},
     "output_type": "execute_result"
    }
   ],
   "source": [
    "new1 = [2,3,4,8,12,22]\n",
    "new1"
   ]
  },
  {
   "cell_type": "code",
   "execution_count": 104,
   "id": "e7e89c4e",
   "metadata": {},
   "outputs": [],
   "source": [
    "new1[1] = 666"
   ]
  },
  {
   "cell_type": "code",
   "execution_count": 105,
   "id": "148513cd",
   "metadata": {},
   "outputs": [
    {
     "data": {
      "text/plain": [
       "[2, 666, 4, 8, 12, 22]"
      ]
     },
     "execution_count": 105,
     "metadata": {},
     "output_type": "execute_result"
    }
   ],
   "source": [
    "new1"
   ]
  },
  {
   "cell_type": "code",
   "execution_count": null,
   "id": "a4ccaa10",
   "metadata": {},
   "outputs": [],
   "source": [
    "# del listname - will delete the entire list"
   ]
  },
  {
   "cell_type": "code",
   "execution_count": 106,
   "id": "5c91682b",
   "metadata": {},
   "outputs": [],
   "source": [
    "del new1"
   ]
  },
  {
   "cell_type": "code",
   "execution_count": 107,
   "id": "f53e9930",
   "metadata": {},
   "outputs": [
    {
     "ename": "NameError",
     "evalue": "name 'new1' is not defined",
     "output_type": "error",
     "traceback": [
      "\u001b[1;31m---------------------------------------------------------------------------\u001b[0m",
      "\u001b[1;31mNameError\u001b[0m                                 Traceback (most recent call last)",
      "Input \u001b[1;32mIn [107]\u001b[0m, in \u001b[0;36m<cell line: 1>\u001b[1;34m()\u001b[0m\n\u001b[1;32m----> 1\u001b[0m \u001b[43mnew1\u001b[49m\n",
      "\u001b[1;31mNameError\u001b[0m: name 'new1' is not defined"
     ]
    }
   ],
   "source": [
    "new1"
   ]
  },
  {
   "cell_type": "code",
   "execution_count": null,
   "id": "1c8e3897",
   "metadata": {},
   "outputs": [],
   "source": []
  },
  {
   "cell_type": "code",
   "execution_count": null,
   "id": "3f237ff4",
   "metadata": {},
   "outputs": [],
   "source": [
    "# Nesting List [] - Nesting list means we can have data structures within data structures, for example a list inside a list"
   ]
  },
  {
   "cell_type": "code",
   "execution_count": null,
   "id": "25408eaa",
   "metadata": {},
   "outputs": [],
   "source": []
  },
  {
   "cell_type": "markdown",
   "id": "7248ac11",
   "metadata": {},
   "source": [
    "# Tuples"
   ]
  },
  {
   "cell_type": "code",
   "execution_count": 101,
   "id": "d27d9a90",
   "metadata": {},
   "outputs": [],
   "source": [
    "# Tuples()  - Collection of values or objects like list but it is immutable which means we cannot change tuple values after creation"
   ]
  },
  {
   "cell_type": "code",
   "execution_count": 111,
   "id": "6f697a4e",
   "metadata": {},
   "outputs": [
    {
     "data": {
      "text/plain": [
       "(0, 1, 2, 3, 4, 5)"
      ]
     },
     "execution_count": 111,
     "metadata": {},
     "output_type": "execute_result"
    }
   ],
   "source": [
    "t1 = (0,1,2,3,4,5)\n",
    "t1"
   ]
  },
  {
   "cell_type": "code",
   "execution_count": 114,
   "id": "2a704dee",
   "metadata": {},
   "outputs": [
    {
     "ename": "TypeError",
     "evalue": "'tuple' object does not support item assignment",
     "output_type": "error",
     "traceback": [
      "\u001b[1;31m---------------------------------------------------------------------------\u001b[0m",
      "\u001b[1;31mTypeError\u001b[0m                                 Traceback (most recent call last)",
      "Input \u001b[1;32mIn [114]\u001b[0m, in \u001b[0;36m<cell line: 1>\u001b[1;34m()\u001b[0m\n\u001b[1;32m----> 1\u001b[0m t1[\u001b[38;5;241m1\u001b[39m] \u001b[38;5;241m=\u001b[39m \u001b[38;5;241m666\u001b[39m\n",
      "\u001b[1;31mTypeError\u001b[0m: 'tuple' object does not support item assignment"
     ]
    }
   ],
   "source": [
    "t1[1] = 666"
   ]
  },
  {
   "cell_type": "code",
   "execution_count": 115,
   "id": "f9d9dcc0",
   "metadata": {},
   "outputs": [],
   "source": [
    "# accessing the element"
   ]
  },
  {
   "cell_type": "code",
   "execution_count": 117,
   "id": "2f6d448c",
   "metadata": {},
   "outputs": [
    {
     "data": {
      "text/plain": [
       "3"
      ]
     },
     "execution_count": 117,
     "metadata": {},
     "output_type": "execute_result"
    }
   ],
   "source": [
    "t1[3]"
   ]
  },
  {
   "cell_type": "code",
   "execution_count": 118,
   "id": "b3c6f39b",
   "metadata": {},
   "outputs": [
    {
     "data": {
      "text/plain": [
       "4"
      ]
     },
     "execution_count": 118,
     "metadata": {},
     "output_type": "execute_result"
    }
   ],
   "source": [
    "t1[4]"
   ]
  },
  {
   "cell_type": "markdown",
   "id": "4c8e0155",
   "metadata": {},
   "source": [
    "# Dictionary "
   ]
  },
  {
   "cell_type": "code",
   "execution_count": null,
   "id": "4be37ecf",
   "metadata": {},
   "outputs": [],
   "source": [
    "# Dictionary{} structure\n",
    "# Dictionary are mutable which means we can change the data inside the dicitionary after creation\n",
    "# d1={key1:value1,key2:value2,key3:value3}\n",
    "# In dictionary we can add keys and values and the same time we can also update new values to the existing values\n",
    "# we cannot change the keys"
   ]
  },
  {
   "cell_type": "code",
   "execution_count": 2,
   "id": "2249227a",
   "metadata": {},
   "outputs": [],
   "source": [
    "d1 = {\"ID\":22,\"Name\":'Naveen',\"Batch\":622}"
   ]
  },
  {
   "cell_type": "code",
   "execution_count": 3,
   "id": "be8d9826",
   "metadata": {},
   "outputs": [
    {
     "data": {
      "text/plain": [
       "{'ID': 22, 'Name': 'Naveen', 'Batch': 622}"
      ]
     },
     "execution_count": 3,
     "metadata": {},
     "output_type": "execute_result"
    }
   ],
   "source": [
    "d1"
   ]
  },
  {
   "cell_type": "code",
   "execution_count": 4,
   "id": "82d56888",
   "metadata": {},
   "outputs": [
    {
     "data": {
      "text/plain": [
       "dict_keys(['ID', 'Name', 'Batch'])"
      ]
     },
     "execution_count": 4,
     "metadata": {},
     "output_type": "execute_result"
    }
   ],
   "source": [
    "d1.keys()"
   ]
  },
  {
   "cell_type": "code",
   "execution_count": 5,
   "id": "1cc99ded",
   "metadata": {},
   "outputs": [
    {
     "data": {
      "text/plain": [
       "dict_values([22, 'Naveen', 622])"
      ]
     },
     "execution_count": 5,
     "metadata": {},
     "output_type": "execute_result"
    }
   ],
   "source": [
    "d1.values()"
   ]
  },
  {
   "cell_type": "code",
   "execution_count": 6,
   "id": "bbef3efb",
   "metadata": {},
   "outputs": [
    {
     "data": {
      "text/plain": [
       "dict_items([('ID', 22), ('Name', 'Naveen'), ('Batch', 622)])"
      ]
     },
     "execution_count": 6,
     "metadata": {},
     "output_type": "execute_result"
    }
   ],
   "source": [
    "d1.items()"
   ]
  },
  {
   "cell_type": "code",
   "execution_count": 7,
   "id": "d68b9412",
   "metadata": {},
   "outputs": [
    {
     "data": {
      "text/plain": [
       "22"
      ]
     },
     "execution_count": 7,
     "metadata": {},
     "output_type": "execute_result"
    }
   ],
   "source": [
    "d1['ID']"
   ]
  },
  {
   "cell_type": "code",
   "execution_count": 8,
   "id": "74540dbb",
   "metadata": {},
   "outputs": [
    {
     "data": {
      "text/plain": [
       "'Naveen'"
      ]
     },
     "execution_count": 8,
     "metadata": {},
     "output_type": "execute_result"
    }
   ],
   "source": [
    "d1['Name']"
   ]
  },
  {
   "cell_type": "code",
   "execution_count": 9,
   "id": "127f1c8c",
   "metadata": {},
   "outputs": [],
   "source": [
    "d1['ID']=24"
   ]
  },
  {
   "cell_type": "code",
   "execution_count": 11,
   "id": "883199c2",
   "metadata": {},
   "outputs": [
    {
     "data": {
      "text/plain": [
       "{'ID': 24, 'Name': 'Naveen', 'Batch': 622}"
      ]
     },
     "execution_count": 11,
     "metadata": {},
     "output_type": "execute_result"
    }
   ],
   "source": [
    "d1"
   ]
  },
  {
   "cell_type": "code",
   "execution_count": 12,
   "id": "96235d36",
   "metadata": {},
   "outputs": [],
   "source": [
    "d1.update({'Age':32})"
   ]
  },
  {
   "cell_type": "code",
   "execution_count": 13,
   "id": "e4adece8",
   "metadata": {},
   "outputs": [
    {
     "data": {
      "text/plain": [
       "{'ID': 24, 'Name': 'Naveen', 'Batch': 622, 'Age': 32}"
      ]
     },
     "execution_count": 13,
     "metadata": {},
     "output_type": "execute_result"
    }
   ],
   "source": [
    "d1"
   ]
  },
  {
   "cell_type": "code",
   "execution_count": 15,
   "id": "8131a4d7",
   "metadata": {},
   "outputs": [
    {
     "name": "stdout",
     "output_type": "stream",
     "text": [
      "The Name is : Naveen\n"
     ]
    }
   ],
   "source": [
    "print('The Name is :',d1['Name'])"
   ]
  },
  {
   "cell_type": "code",
   "execution_count": 16,
   "id": "9df5a69b",
   "metadata": {},
   "outputs": [],
   "source": [
    "del d1['ID']"
   ]
  },
  {
   "cell_type": "code",
   "execution_count": 17,
   "id": "266d3272",
   "metadata": {},
   "outputs": [
    {
     "data": {
      "text/plain": [
       "{'Name': 'Naveen', 'Batch': 622, 'Age': 32}"
      ]
     },
     "execution_count": 17,
     "metadata": {},
     "output_type": "execute_result"
    }
   ],
   "source": [
    "d1"
   ]
  },
  {
   "cell_type": "code",
   "execution_count": 18,
   "id": "9d79f575",
   "metadata": {},
   "outputs": [],
   "source": [
    "d1.update({\"Fees\":10000})"
   ]
  },
  {
   "cell_type": "code",
   "execution_count": 19,
   "id": "189f8f01",
   "metadata": {},
   "outputs": [
    {
     "data": {
      "text/plain": [
       "{'Name': 'Naveen', 'Batch': 622, 'Age': 32, 'Fees': 10000}"
      ]
     },
     "execution_count": 19,
     "metadata": {},
     "output_type": "execute_result"
    }
   ],
   "source": [
    "d1"
   ]
  },
  {
   "cell_type": "code",
   "execution_count": 20,
   "id": "2ef6dadb",
   "metadata": {},
   "outputs": [],
   "source": [
    "d1[\"Fees\"]=15000"
   ]
  },
  {
   "cell_type": "code",
   "execution_count": 21,
   "id": "94be8828",
   "metadata": {},
   "outputs": [
    {
     "data": {
      "text/plain": [
       "{'Name': 'Naveen', 'Batch': 622, 'Age': 32, 'Fees': 15000}"
      ]
     },
     "execution_count": 21,
     "metadata": {},
     "output_type": "execute_result"
    }
   ],
   "source": [
    "d1"
   ]
  },
  {
   "cell_type": "code",
   "execution_count": 22,
   "id": "f47e75c1",
   "metadata": {},
   "outputs": [],
   "source": [
    "d1.clear()"
   ]
  },
  {
   "cell_type": "code",
   "execution_count": 23,
   "id": "81386993",
   "metadata": {},
   "outputs": [
    {
     "data": {
      "text/plain": [
       "{}"
      ]
     },
     "execution_count": 23,
     "metadata": {},
     "output_type": "execute_result"
    }
   ],
   "source": [
    "d1"
   ]
  },
  {
   "cell_type": "code",
   "execution_count": 24,
   "id": "7480e005",
   "metadata": {},
   "outputs": [],
   "source": [
    "del d1"
   ]
  },
  {
   "cell_type": "code",
   "execution_count": 25,
   "id": "d2dffc73",
   "metadata": {},
   "outputs": [
    {
     "ename": "NameError",
     "evalue": "name 'd1' is not defined",
     "output_type": "error",
     "traceback": [
      "\u001b[1;31m---------------------------------------------------------------------------\u001b[0m",
      "\u001b[1;31mNameError\u001b[0m                                 Traceback (most recent call last)",
      "Input \u001b[1;32mIn [25]\u001b[0m, in \u001b[0;36m<cell line: 1>\u001b[1;34m()\u001b[0m\n\u001b[1;32m----> 1\u001b[0m \u001b[43md1\u001b[49m\n",
      "\u001b[1;31mNameError\u001b[0m: name 'd1' is not defined"
     ]
    }
   ],
   "source": [
    "d1"
   ]
  },
  {
   "cell_type": "code",
   "execution_count": 26,
   "id": "bfa5b429",
   "metadata": {},
   "outputs": [],
   "source": [
    "d2={\"ID\":22,\"Name\":'Naveen',\"Batch\":622,\"Age\":32,\"Martial Status\": 'single'}"
   ]
  },
  {
   "cell_type": "code",
   "execution_count": 27,
   "id": "cab3dbaa",
   "metadata": {},
   "outputs": [
    {
     "data": {
      "text/plain": [
       "{'ID': 22,\n",
       " 'Name': 'Naveen',\n",
       " 'Batch': 622,\n",
       " 'Age': 32,\n",
       " 'Martial Status': 'single'}"
      ]
     },
     "execution_count": 27,
     "metadata": {},
     "output_type": "execute_result"
    }
   ],
   "source": [
    "d2"
   ]
  },
  {
   "cell_type": "code",
   "execution_count": 28,
   "id": "3d34d56b",
   "metadata": {},
   "outputs": [],
   "source": [
    "del d2['Martial Status']"
   ]
  },
  {
   "cell_type": "code",
   "execution_count": 29,
   "id": "0dd6a8ce",
   "metadata": {},
   "outputs": [
    {
     "data": {
      "text/plain": [
       "{'ID': 22, 'Name': 'Naveen', 'Batch': 622, 'Age': 32}"
      ]
     },
     "execution_count": 29,
     "metadata": {},
     "output_type": "execute_result"
    }
   ],
   "source": [
    "d2"
   ]
  },
  {
   "cell_type": "code",
   "execution_count": 31,
   "id": "edb06059",
   "metadata": {},
   "outputs": [
    {
     "data": {
      "text/plain": [
       "32"
      ]
     },
     "execution_count": 31,
     "metadata": {},
     "output_type": "execute_result"
    }
   ],
   "source": [
    "d2.pop('Age')"
   ]
  },
  {
   "cell_type": "code",
   "execution_count": 32,
   "id": "811ae7b4",
   "metadata": {},
   "outputs": [
    {
     "data": {
      "text/plain": [
       "{'ID': 22, 'Name': 'Naveen', 'Batch': 622}"
      ]
     },
     "execution_count": 32,
     "metadata": {},
     "output_type": "execute_result"
    }
   ],
   "source": [
    "d2"
   ]
  },
  {
   "cell_type": "code",
   "execution_count": 36,
   "id": "dc3b47e3",
   "metadata": {},
   "outputs": [],
   "source": [
    "d3 = {1:['Red','Yellow','Gold'],2:['Blue','Black','Cobalt'],3:['Green','Orange','Ruby']}"
   ]
  },
  {
   "cell_type": "code",
   "execution_count": 37,
   "id": "f00817d5",
   "metadata": {},
   "outputs": [
    {
     "data": {
      "text/plain": [
       "{1: ['Red', 'Yellow', 'Gold'],\n",
       " 2: ['Blue', 'Black', 'Cobalt'],\n",
       " 3: ['Green', 'Orange', 'Ruby']}"
      ]
     },
     "execution_count": 37,
     "metadata": {},
     "output_type": "execute_result"
    }
   ],
   "source": [
    "d3"
   ]
  },
  {
   "cell_type": "code",
   "execution_count": 39,
   "id": "16480a32",
   "metadata": {},
   "outputs": [
    {
     "data": {
      "text/plain": [
       "'Yellow'"
      ]
     },
     "execution_count": 39,
     "metadata": {},
     "output_type": "execute_result"
    }
   ],
   "source": [
    "d3[1][1]"
   ]
  },
  {
   "cell_type": "code",
   "execution_count": 40,
   "id": "8b95e57a",
   "metadata": {},
   "outputs": [
    {
     "data": {
      "text/plain": [
       "'Blue'"
      ]
     },
     "execution_count": 40,
     "metadata": {},
     "output_type": "execute_result"
    }
   ],
   "source": [
    "d3[2][0]"
   ]
  },
  {
   "cell_type": "code",
   "execution_count": 41,
   "id": "6261a358",
   "metadata": {},
   "outputs": [
    {
     "data": {
      "text/plain": [
       "'Ruby'"
      ]
     },
     "execution_count": 41,
     "metadata": {},
     "output_type": "execute_result"
    }
   ],
   "source": [
    "d3[3][2]"
   ]
  },
  {
   "cell_type": "code",
   "execution_count": 42,
   "id": "4d36a10b",
   "metadata": {},
   "outputs": [],
   "source": [
    "d3[3][2] = 'Emerald'"
   ]
  },
  {
   "cell_type": "code",
   "execution_count": 43,
   "id": "b200f4a4",
   "metadata": {},
   "outputs": [
    {
     "data": {
      "text/plain": [
       "{1: ['Red', 'Yellow', 'Gold'],\n",
       " 2: ['Blue', 'Black', 'Cobalt'],\n",
       " 3: ['Green', 'Orange', 'Emerald']}"
      ]
     },
     "execution_count": 43,
     "metadata": {},
     "output_type": "execute_result"
    }
   ],
   "source": [
    "d3"
   ]
  },
  {
   "cell_type": "code",
   "execution_count": null,
   "id": "7a27d17e",
   "metadata": {},
   "outputs": [],
   "source": []
  },
  {
   "cell_type": "markdown",
   "id": "ca99dcfb",
   "metadata": {},
   "source": [
    "# Sets"
   ]
  },
  {
   "cell_type": "code",
   "execution_count": 45,
   "id": "8aca74cb",
   "metadata": {},
   "outputs": [],
   "source": [
    "# A python set is the collection of unordered items.Each items must be unique\n",
    "# we cannot access index and it is immutable which we cannot modify after creation and no dupicates are allowed\n",
    "# Unlike other collections in Python, there is no index attached to the elements of the set i.e, we cannot access directly \n",
    "# the elements of the set by index"
   ]
  },
  {
   "cell_type": "code",
   "execution_count": 46,
   "id": "6a08e2f8",
   "metadata": {},
   "outputs": [],
   "source": [
    "x = {10,20,30,40,50}"
   ]
  },
  {
   "cell_type": "code",
   "execution_count": 47,
   "id": "f2668ff7",
   "metadata": {},
   "outputs": [
    {
     "data": {
      "text/plain": [
       "{10, 20, 30, 40, 50}"
      ]
     },
     "execution_count": 47,
     "metadata": {},
     "output_type": "execute_result"
    }
   ],
   "source": [
    "x"
   ]
  },
  {
   "cell_type": "code",
   "execution_count": 55,
   "id": "14298f94",
   "metadata": {},
   "outputs": [],
   "source": [
    "y = ({22,33,44,55,22,66})"
   ]
  },
  {
   "cell_type": "code",
   "execution_count": 56,
   "id": "46b88eb3",
   "metadata": {},
   "outputs": [
    {
     "data": {
      "text/plain": [
       "{22, 33, 44, 55, 66}"
      ]
     },
     "execution_count": 56,
     "metadata": {},
     "output_type": "execute_result"
    }
   ],
   "source": [
    "y"
   ]
  },
  {
   "cell_type": "code",
   "execution_count": 57,
   "id": "dbec52ab",
   "metadata": {},
   "outputs": [
    {
     "data": {
      "text/plain": [
       "set"
      ]
     },
     "execution_count": 57,
     "metadata": {},
     "output_type": "execute_result"
    }
   ],
   "source": [
    "type(y)"
   ]
  },
  {
   "cell_type": "code",
   "execution_count": 60,
   "id": "17cc46db",
   "metadata": {},
   "outputs": [],
   "source": [
    "z = ([22,33,44,55,22,66,77,88,99])"
   ]
  },
  {
   "cell_type": "code",
   "execution_count": 61,
   "id": "bfd51670",
   "metadata": {},
   "outputs": [
    {
     "data": {
      "text/plain": [
       "[22, 33, 44, 55, 22, 66, 77, 88, 99]"
      ]
     },
     "execution_count": 61,
     "metadata": {},
     "output_type": "execute_result"
    }
   ],
   "source": [
    "z"
   ]
  },
  {
   "cell_type": "code",
   "execution_count": 63,
   "id": "a465377b",
   "metadata": {},
   "outputs": [],
   "source": [
    "days = {\"Mon\",\"Tue\",\"Wed\"}"
   ]
  },
  {
   "cell_type": "code",
   "execution_count": 64,
   "id": "2763cb1b",
   "metadata": {},
   "outputs": [
    {
     "data": {
      "text/plain": [
       "set"
      ]
     },
     "execution_count": 64,
     "metadata": {},
     "output_type": "execute_result"
    }
   ],
   "source": [
    "type(days)"
   ]
  },
  {
   "cell_type": "code",
   "execution_count": 67,
   "id": "4e279eaf",
   "metadata": {},
   "outputs": [],
   "source": [
    "days.remove(\"Mon\")"
   ]
  },
  {
   "cell_type": "code",
   "execution_count": 68,
   "id": "3a51d844",
   "metadata": {},
   "outputs": [
    {
     "data": {
      "text/plain": [
       "{'Tue', 'Wed'}"
      ]
     },
     "execution_count": 68,
     "metadata": {},
     "output_type": "execute_result"
    }
   ],
   "source": [
    "days"
   ]
  },
  {
   "cell_type": "code",
   "execution_count": 69,
   "id": "1a92d882",
   "metadata": {},
   "outputs": [
    {
     "data": {
      "text/plain": [
       "'Wed'"
      ]
     },
     "execution_count": 69,
     "metadata": {},
     "output_type": "execute_result"
    }
   ],
   "source": [
    "days.pop() # It can POP any element randomly in sets, better to specify with remove()"
   ]
  },
  {
   "cell_type": "code",
   "execution_count": 70,
   "id": "a9db494b",
   "metadata": {},
   "outputs": [],
   "source": [
    "days.clear()"
   ]
  },
  {
   "cell_type": "code",
   "execution_count": 71,
   "id": "64f6b685",
   "metadata": {},
   "outputs": [
    {
     "data": {
      "text/plain": [
       "set()"
      ]
     },
     "execution_count": 71,
     "metadata": {},
     "output_type": "execute_result"
    }
   ],
   "source": [
    "days"
   ]
  },
  {
   "cell_type": "code",
   "execution_count": 73,
   "id": "e1a1cf73",
   "metadata": {},
   "outputs": [],
   "source": [
    "del days"
   ]
  },
  {
   "cell_type": "code",
   "execution_count": 74,
   "id": "96042d44",
   "metadata": {},
   "outputs": [
    {
     "ename": "NameError",
     "evalue": "name 'days' is not defined",
     "output_type": "error",
     "traceback": [
      "\u001b[1;31m---------------------------------------------------------------------------\u001b[0m",
      "\u001b[1;31mNameError\u001b[0m                                 Traceback (most recent call last)",
      "Input \u001b[1;32mIn [74]\u001b[0m, in \u001b[0;36m<cell line: 1>\u001b[1;34m()\u001b[0m\n\u001b[1;32m----> 1\u001b[0m \u001b[43mdays\u001b[49m\n",
      "\u001b[1;31mNameError\u001b[0m: name 'days' is not defined"
     ]
    }
   ],
   "source": [
    "days"
   ]
  },
  {
   "cell_type": "code",
   "execution_count": null,
   "id": "def3a89f",
   "metadata": {},
   "outputs": [],
   "source": []
  },
  {
   "cell_type": "markdown",
   "id": "1d5b0983",
   "metadata": {},
   "source": [
    "# Loops"
   ]
  },
  {
   "cell_type": "code",
   "execution_count": 76,
   "id": "791e17ee",
   "metadata": {},
   "outputs": [],
   "source": [
    "# Loops - To determine condition is true or false\n",
    "# Two types - while and for loops"
   ]
  },
  {
   "cell_type": "markdown",
   "id": "256fbb7b",
   "metadata": {},
   "source": [
    "When doing loops - Example\n",
    "1. initializatin - i = 0\n",
    "2. condition - while(i<5)\n",
    "               print(i)\n",
    "3. Increment -  i = i+1"
   ]
  },
  {
   "cell_type": "code",
   "execution_count": 77,
   "id": "b17fd679",
   "metadata": {},
   "outputs": [
    {
     "name": "stdout",
     "output_type": "stream",
     "text": [
      "0\n",
      "1\n",
      "2\n",
      "3\n",
      "4\n"
     ]
    }
   ],
   "source": [
    "# initialization \n",
    "\n",
    "i = 0\n",
    "\n",
    "#condition\n",
    "while(i<5):\n",
    "    print(i)\n",
    "    i=i+1      #increment"
   ]
  },
  {
   "cell_type": "code",
   "execution_count": 79,
   "id": "b65bbf3d",
   "metadata": {},
   "outputs": [
    {
     "name": "stdout",
     "output_type": "stream",
     "text": [
      "0\n",
      "1\n",
      "2\n",
      "3\n",
      "4\n",
      "5\n",
      "6\n",
      "7\n"
     ]
    }
   ],
   "source": [
    "i = 0\n",
    "while(i<=7):\n",
    "    print(i)\n",
    "    i=i+1      "
   ]
  },
  {
   "cell_type": "code",
   "execution_count": 82,
   "id": "3c2e7a0c",
   "metadata": {},
   "outputs": [
    {
     "name": "stdout",
     "output_type": "stream",
     "text": [
      "The Value of i : 2\n",
      "The Value of i : 3\n",
      "The Value of i : 4\n",
      "The Value of i : 5\n",
      "The Value of i : 6\n",
      "The Value of i : 7\n",
      "The Value of i : 8\n",
      "The Value of i : 9\n"
     ]
    }
   ],
   "source": [
    "i = 2\n",
    "while(i<10):\n",
    "    print(\"The Value of i :\", i)\n",
    "    i=i+1   "
   ]
  },
  {
   "cell_type": "code",
   "execution_count": 89,
   "id": "59e08f13",
   "metadata": {},
   "outputs": [
    {
     "name": "stdout",
     "output_type": "stream",
     "text": [
      "10\n",
      "15\n",
      "20\n",
      "25\n",
      "30\n",
      "35\n",
      "40\n",
      "45\n",
      "50\n"
     ]
    }
   ],
   "source": [
    "k = 2\n",
    "while(k<=10):\n",
    "    print(5*k)\n",
    "    k=k+1"
   ]
  },
  {
   "cell_type": "code",
   "execution_count": 91,
   "id": "abd1e13d",
   "metadata": {},
   "outputs": [
    {
     "name": "stdout",
     "output_type": "stream",
     "text": [
      "Enter the value2\n",
      "2\n",
      "4\n",
      "6\n",
      "8\n",
      "10\n",
      "12\n",
      "14\n",
      "16\n",
      "18\n",
      "20\n"
     ]
    }
   ],
   "source": [
    "p = 1\n",
    "s = int(input(\"Enter the value\"))\n",
    "while(p<=10):\n",
    "    print(s*p)\n",
    "    p=p+1"
   ]
  },
  {
   "cell_type": "code",
   "execution_count": 93,
   "id": "c4f91cbb",
   "metadata": {},
   "outputs": [
    {
     "name": "stdout",
     "output_type": "stream",
     "text": [
      "Enter the value1\n",
      "1 * 2 = 2\n",
      "1 * 3 = 3\n",
      "1 * 4 = 4\n",
      "1 * 5 = 5\n",
      "1 * 6 = 6\n",
      "1 * 7 = 7\n",
      "1 * 8 = 8\n",
      "1 * 9 = 9\n",
      "1 * 10 = 10\n"
     ]
    }
   ],
   "source": [
    "p = 2\n",
    "s = int(input(\"Enter the value\"))\n",
    "while(p<=10):\n",
    "    print(s,'*',p,'=',s*p)\n",
    "    p=p+1"
   ]
  },
  {
   "cell_type": "code",
   "execution_count": 94,
   "id": "b905d19f",
   "metadata": {},
   "outputs": [
    {
     "name": "stdout",
     "output_type": "stream",
     "text": [
      "6\n",
      "7\n",
      "8\n",
      "9\n",
      "10\n",
      "11\n"
     ]
    }
   ],
   "source": [
    "l = 5\n",
    "\n",
    "while(l<=10):\n",
    "    l=l+1\n",
    "    print(l)\n",
    "    \n",
    "    "
   ]
  },
  {
   "cell_type": "code",
   "execution_count": 100,
   "id": "06affa00",
   "metadata": {},
   "outputs": [
    {
     "name": "stdout",
     "output_type": "stream",
     "text": [
      "2 4 6 8 10 "
     ]
    }
   ],
   "source": [
    "# to get output in horizontal\n",
    "m = 2\n",
    "\n",
    "while(m<=10):\n",
    "    print(m,end=' ')\n",
    "    m = m+2"
   ]
  },
  {
   "cell_type": "code",
   "execution_count": 106,
   "id": "6a0b244d",
   "metadata": {},
   "outputs": [
    {
     "name": "stdout",
     "output_type": "stream",
     "text": [
      "inside loop\n",
      "The Value of n 5\n",
      "inside loop\n",
      "The Value of n 7\n",
      "inside loop\n",
      "The Value of n 9\n",
      "inside loop\n",
      "The Value of n 11\n",
      "inside loop\n",
      "The Value of n 13\n",
      "inside loop\n",
      "The Value of n 15\n",
      "inside loop\n",
      "The Value of n 17\n",
      "inside loop\n",
      "The Value of n 19\n"
     ]
    }
   ],
   "source": [
    "n  = 5\n",
    "\n",
    "while(n<=20):\n",
    "    print(\"inside loop\")\n",
    "    print(\"The Value of n\",n)\n",
    "    n = n+2"
   ]
  },
  {
   "cell_type": "markdown",
   "id": "722810cb",
   "metadata": {},
   "source": [
    "# For loop"
   ]
  },
  {
   "cell_type": "code",
   "execution_count": null,
   "id": "3d83826c",
   "metadata": {},
   "outputs": [],
   "source": [
    "# for loops - is collection of objects\n",
    "\n",
    "# syntax for loop - for index in []\n",
    "\n",
    "# Range\n",
    "# range(start,stop,stepsize)"
   ]
  },
  {
   "cell_type": "code",
   "execution_count": 3,
   "id": "785763a9",
   "metadata": {},
   "outputs": [
    {
     "name": "stdout",
     "output_type": "stream",
     "text": [
      "10\n",
      "20\n",
      "30\n",
      "40\n"
     ]
    }
   ],
   "source": [
    "for index in [10,20,30,40]:\n",
    "    print(index)"
   ]
  },
  {
   "cell_type": "code",
   "execution_count": 5,
   "id": "1a77d863",
   "metadata": {},
   "outputs": [
    {
     "name": "stdout",
     "output_type": "stream",
     "text": [
      "A\n",
      "B\n",
      "C\n",
      "D\n"
     ]
    }
   ],
   "source": [
    "for index in ['A','B','C','D']:\n",
    "    print(index)"
   ]
  },
  {
   "cell_type": "code",
   "execution_count": 6,
   "id": "85478669",
   "metadata": {},
   "outputs": [
    {
     "name": "stdout",
     "output_type": "stream",
     "text": [
      "1\n",
      "2\n",
      "3\n",
      "4\n",
      "5\n"
     ]
    }
   ],
   "source": [
    "for i in [1,2,3,4,5]:\n",
    "    print(i)"
   ]
  },
  {
   "cell_type": "code",
   "execution_count": 8,
   "id": "f2d47d3e",
   "metadata": {},
   "outputs": [
    {
     "name": "stdout",
     "output_type": "stream",
     "text": [
      "E\n",
      "F\n",
      "G\n",
      "H\n",
      "10\n",
      "20\n"
     ]
    }
   ],
   "source": [
    "for p in ['E','F','G','H',10,20]:\n",
    "    print(p)"
   ]
  },
  {
   "cell_type": "code",
   "execution_count": 9,
   "id": "976c8361",
   "metadata": {},
   "outputs": [
    {
     "name": "stdout",
     "output_type": "stream",
     "text": [
      "apple\n",
      "mango\n",
      "guava\n",
      "grapes\n"
     ]
    }
   ],
   "source": [
    "for x in ['apple','mango','guava','grapes']:\n",
    "    print(x)"
   ]
  },
  {
   "cell_type": "code",
   "execution_count": 11,
   "id": "85cb4ed6",
   "metadata": {},
   "outputs": [
    {
     "name": "stdout",
     "output_type": "stream",
     "text": [
      "A\n",
      "10\n",
      "22.5\n",
      "Planet\n",
      "True\n"
     ]
    }
   ],
   "source": [
    "for c in ['A',10,22.5,'Planet','True']:\n",
    "    print(c)"
   ]
  },
  {
   "cell_type": "code",
   "execution_count": 37,
   "id": "36ea1d60",
   "metadata": {},
   "outputs": [],
   "source": [
    "list1 = [2,4,6,8,10]"
   ]
  },
  {
   "cell_type": "code",
   "execution_count": 38,
   "id": "bd0aaeef",
   "metadata": {},
   "outputs": [
    {
     "name": "stdout",
     "output_type": "stream",
     "text": [
      "2\n",
      "4\n",
      "6\n",
      "8\n",
      "10\n"
     ]
    }
   ],
   "source": [
    "for d in list1:\n",
    "    print(d)"
   ]
  },
  {
   "cell_type": "code",
   "execution_count": 17,
   "id": "043e625e",
   "metadata": {},
   "outputs": [],
   "source": [
    "list2 =['Naveen','TheinAmma','Ranga','Deepan','Rupavathi','Krithvik','Family']"
   ]
  },
  {
   "cell_type": "code",
   "execution_count": 18,
   "id": "08a74ece",
   "metadata": {},
   "outputs": [
    {
     "name": "stdout",
     "output_type": "stream",
     "text": [
      "Naveen\n",
      "TheinAmma\n",
      "Ranga\n",
      "Deepan\n",
      "Rupavathi\n",
      "Krithvik\n",
      "Family\n"
     ]
    }
   ],
   "source": [
    "for i in list2:\n",
    "    print(i)"
   ]
  },
  {
   "cell_type": "code",
   "execution_count": 22,
   "id": "22318483",
   "metadata": {},
   "outputs": [
    {
     "name": "stdout",
     "output_type": "stream",
     "text": [
      "Naveen  TheinAmma  Ranga  Deepan  Rupavathi  Krithvik  Family  "
     ]
    }
   ],
   "source": [
    "for i in list2:\n",
    "    print(i,end=\"  \")"
   ]
  },
  {
   "cell_type": "code",
   "execution_count": null,
   "id": "0e0cbbfe",
   "metadata": {},
   "outputs": [],
   "source": []
  },
  {
   "cell_type": "code",
   "execution_count": 24,
   "id": "2a9d732a",
   "metadata": {},
   "outputs": [],
   "source": [
    "# Range - Sequence of integers\n",
    "\n",
    "# range(5) - (0,1,2,3,4)"
   ]
  },
  {
   "cell_type": "code",
   "execution_count": 25,
   "id": "9cae901b",
   "metadata": {},
   "outputs": [
    {
     "data": {
      "text/plain": [
       "range(0, 5)"
      ]
     },
     "execution_count": 25,
     "metadata": {},
     "output_type": "execute_result"
    }
   ],
   "source": [
    "range(5)"
   ]
  },
  {
   "cell_type": "code",
   "execution_count": null,
   "id": "8151fa20",
   "metadata": {},
   "outputs": [],
   "source": [
    "# list(range(5))\n",
    "\n",
    "# output [0,1,2,3,4]"
   ]
  },
  {
   "cell_type": "code",
   "execution_count": 27,
   "id": "16226e31",
   "metadata": {},
   "outputs": [
    {
     "data": {
      "text/plain": [
       "range(0, 3)"
      ]
     },
     "execution_count": 27,
     "metadata": {},
     "output_type": "execute_result"
    }
   ],
   "source": [
    "range(3)"
   ]
  },
  {
   "cell_type": "code",
   "execution_count": null,
   "id": "63ed0c63",
   "metadata": {},
   "outputs": [],
   "source": [
    "# list(range(3))\n",
    "\n",
    "# output [0,1,2]"
   ]
  },
  {
   "cell_type": "code",
   "execution_count": 26,
   "id": "00045c60",
   "metadata": {},
   "outputs": [
    {
     "data": {
      "text/plain": [
       "range(0, 6)"
      ]
     },
     "execution_count": 26,
     "metadata": {},
     "output_type": "execute_result"
    }
   ],
   "source": [
    "range(6)"
   ]
  },
  {
   "cell_type": "code",
   "execution_count": null,
   "id": "6c34b749",
   "metadata": {},
   "outputs": [],
   "source": [
    "# list(range(6))\n",
    "\n",
    "# output [0,1,2,3,4,5]"
   ]
  },
  {
   "cell_type": "code",
   "execution_count": 45,
   "id": "41b01228",
   "metadata": {},
   "outputs": [
    {
     "name": "stdout",
     "output_type": "stream",
     "text": [
      "0\n",
      "1\n",
      "2\n",
      "3\n",
      "4\n"
     ]
    }
   ],
   "source": [
    "for i in range(5):\n",
    "    print(i)"
   ]
  },
  {
   "cell_type": "code",
   "execution_count": 46,
   "id": "42fff087",
   "metadata": {},
   "outputs": [
    {
     "name": "stdout",
     "output_type": "stream",
     "text": [
      "0\n",
      "1\n",
      "2\n",
      "3\n"
     ]
    }
   ],
   "source": [
    "for i in range(4):\n",
    "    print(i)"
   ]
  },
  {
   "cell_type": "code",
   "execution_count": 47,
   "id": "208d19f7",
   "metadata": {},
   "outputs": [
    {
     "name": "stdout",
     "output_type": "stream",
     "text": [
      "0 1 2 3 4 5 6 7 8 9 "
     ]
    }
   ],
   "source": [
    "for i in range(10):\n",
    "    print(i,end=\" \")"
   ]
  },
  {
   "cell_type": "code",
   "execution_count": 49,
   "id": "54959c0c",
   "metadata": {},
   "outputs": [
    {
     "name": "stdout",
     "output_type": "stream",
     "text": [
      "0 1 2 3 4 5 6 7 8 9 "
     ]
    }
   ],
   "source": [
    "for i in range(0,10):\n",
    "    print(i,end=\" \")"
   ]
  },
  {
   "cell_type": "code",
   "execution_count": 50,
   "id": "d533cf82",
   "metadata": {},
   "outputs": [
    {
     "name": "stdout",
     "output_type": "stream",
     "text": [
      "0\n",
      "1\n",
      "2\n",
      "3\n",
      "4\n",
      "5\n"
     ]
    }
   ],
   "source": [
    "for i in range(0,6):\n",
    "    print(i)"
   ]
  },
  {
   "cell_type": "code",
   "execution_count": null,
   "id": "07740571",
   "metadata": {},
   "outputs": [],
   "source": [
    "# list(range(0,6))\n",
    "\n",
    "# output [0,1,2,3,4,5]"
   ]
  },
  {
   "cell_type": "code",
   "execution_count": 55,
   "id": "b5219fad",
   "metadata": {},
   "outputs": [
    {
     "name": "stdout",
     "output_type": "stream",
     "text": [
      "5\n",
      "6\n",
      "7\n",
      "8\n",
      "9\n"
     ]
    }
   ],
   "source": [
    "for i in range(5,10):\n",
    "    print(i)"
   ]
  },
  {
   "cell_type": "code",
   "execution_count": 56,
   "id": "6bc8c021",
   "metadata": {},
   "outputs": [],
   "source": [
    "# range(start,end,jump/skip)\n",
    "# list(range(5,30,5)) - [5,10,15,20,25]"
   ]
  },
  {
   "cell_type": "code",
   "execution_count": 57,
   "id": "a342d7f5",
   "metadata": {},
   "outputs": [
    {
     "data": {
      "text/plain": [
       "range(2, 10, 2)"
      ]
     },
     "execution_count": 57,
     "metadata": {},
     "output_type": "execute_result"
    }
   ],
   "source": [
    "range(2,10,2)"
   ]
  },
  {
   "cell_type": "code",
   "execution_count": 61,
   "id": "41afc66c",
   "metadata": {},
   "outputs": [
    {
     "name": "stdout",
     "output_type": "stream",
     "text": [
      "2\n",
      "4\n",
      "6\n",
      "8\n"
     ]
    }
   ],
   "source": [
    "for i in range(2,10,2):\n",
    "    print(i)"
   ]
  },
  {
   "cell_type": "code",
   "execution_count": 62,
   "id": "37fff774",
   "metadata": {},
   "outputs": [
    {
     "name": "stdout",
     "output_type": "stream",
     "text": [
      "10\n",
      "20\n",
      "30\n",
      "40\n",
      "50\n",
      "60\n",
      "70\n",
      "80\n",
      "90\n"
     ]
    }
   ],
   "source": [
    "for i in range(10,100,10):\n",
    "    print(i)"
   ]
  },
  {
   "cell_type": "code",
   "execution_count": 63,
   "id": "3481a8df",
   "metadata": {},
   "outputs": [
    {
     "name": "stdout",
     "output_type": "stream",
     "text": [
      "10\n",
      "20\n",
      "30\n",
      "40\n",
      "50\n",
      "60\n",
      "70\n",
      "80\n",
      "90\n",
      "100\n"
     ]
    }
   ],
   "source": [
    "for i in range(10,101,10):\n",
    "    print(i)"
   ]
  },
  {
   "cell_type": "code",
   "execution_count": 67,
   "id": "702816ab",
   "metadata": {},
   "outputs": [
    {
     "name": "stdout",
     "output_type": "stream",
     "text": [
      "2\n",
      "4\n",
      "6\n",
      "8\n",
      "10\n",
      "12\n",
      "14\n",
      "16\n",
      "18\n",
      "20\n"
     ]
    }
   ],
   "source": [
    "for i in range(1,11):\n",
    "    print(2*i)"
   ]
  },
  {
   "cell_type": "code",
   "execution_count": null,
   "id": "7365ae67",
   "metadata": {},
   "outputs": [],
   "source": []
  },
  {
   "cell_type": "code",
   "execution_count": 66,
   "id": "72a018c6",
   "metadata": {},
   "outputs": [
    {
     "name": "stdout",
     "output_type": "stream",
     "text": [
      "1.0\n",
      "0.6666666666666666\n",
      "0.5\n",
      "0.4\n",
      "0.3333333333333333\n",
      "0.2857142857142857\n",
      "0.25\n",
      "0.2222222222222222\n",
      "0.2\n"
     ]
    }
   ],
   "source": [
    "for i in range(2,11):\n",
    "    print(2/i)"
   ]
  },
  {
   "cell_type": "code",
   "execution_count": 74,
   "id": "e7044a32",
   "metadata": {},
   "outputs": [
    {
     "name": "stdout",
     "output_type": "stream",
     "text": [
      "Enter number3\n",
      "3\n",
      "6\n",
      "9\n",
      "12\n",
      "15\n",
      "18\n",
      "21\n",
      "24\n",
      "27\n",
      "30\n"
     ]
    }
   ],
   "source": [
    "n = int(input('Enter number'))\n",
    "\n",
    "for i in range(1,11):\n",
    "    print(n*i)"
   ]
  },
  {
   "cell_type": "code",
   "execution_count": 76,
   "id": "0dda1634",
   "metadata": {},
   "outputs": [
    {
     "name": "stdout",
     "output_type": "stream",
     "text": [
      "Enter number5\n",
      "5 * 1 = 5\n",
      "5 * 2 = 10\n",
      "5 * 3 = 15\n",
      "5 * 4 = 20\n",
      "5 * 5 = 25\n",
      "5 * 6 = 30\n",
      "5 * 7 = 35\n",
      "5 * 8 = 40\n",
      "5 * 9 = 45\n",
      "5 * 10 = 50\n"
     ]
    }
   ],
   "source": [
    "n = int(input('Enter number'))\n",
    "\n",
    "for i in range(1,11):\n",
    "    print(n,'*',i,'=',n*i,)"
   ]
  },
  {
   "cell_type": "code",
   "execution_count": 77,
   "id": "0d4beede",
   "metadata": {},
   "outputs": [
    {
     "name": "stdout",
     "output_type": "stream",
     "text": [
      "[0]\n",
      "[0, 1]\n",
      "[0, 1, 2]\n",
      "[0, 1, 2, 3]\n",
      "[0, 1, 2, 3, 4]\n"
     ]
    }
   ],
   "source": [
    "k = []\n",
    "\n",
    "for i in range(5):\n",
    "    k.append(i)\n",
    "    print(k)  # Why it is printing 5 times is print statement is in for loop"
   ]
  },
  {
   "cell_type": "code",
   "execution_count": 79,
   "id": "b517b4e5",
   "metadata": {},
   "outputs": [
    {
     "name": "stdout",
     "output_type": "stream",
     "text": [
      "[0] [0, 1] [0, 1, 2] [0, 1, 2, 3] [0, 1, 2, 3, 4] [0, 1, 2, 3, 4, 5] [0, 1, 2, 3, 4, 5, 6] [0, 1, 2, 3, 4, 5, 6, 7] [0, 1, 2, 3, 4, 5, 6, 7, 8] [0, 1, 2, 3, 4, 5, 6, 7, 8, 9] "
     ]
    }
   ],
   "source": [
    "x = []\n",
    "\n",
    "for i in range(10):\n",
    "    x.append(i)\n",
    "    print(x,end=\" \")"
   ]
  },
  {
   "cell_type": "code",
   "execution_count": 80,
   "id": "125ab0e4",
   "metadata": {},
   "outputs": [
    {
     "name": "stdout",
     "output_type": "stream",
     "text": [
      "[0]\n",
      "[0, 1]\n",
      "[0, 1, 2]\n",
      "[0, 1, 2, 3]\n",
      "[0, 1, 2, 3, 4]\n",
      "[0, 1, 2, 3, 4, 5]\n",
      "[0, 1, 2, 3, 4, 5, 6]\n",
      "[0, 1, 2, 3, 4, 5, 6, 7]\n",
      "[0, 1, 2, 3, 4, 5, 6, 7, 8]\n",
      "[0, 1, 2, 3, 4, 5, 6, 7, 8, 9]\n"
     ]
    }
   ],
   "source": [
    "x = []\n",
    "\n",
    "for i in range(10):\n",
    "    x.append(i)\n",
    "    print(x)"
   ]
  },
  {
   "cell_type": "code",
   "execution_count": 78,
   "id": "bedbb35d",
   "metadata": {},
   "outputs": [
    {
     "name": "stdout",
     "output_type": "stream",
     "text": [
      "[0, 1, 2, 3, 4]\n"
     ]
    }
   ],
   "source": [
    "k = []\n",
    "\n",
    "for i in range(5):\n",
    "    k.append(i)\n",
    "print(k)      # Why it is printing 1 times is print statement is outside of for loop"
   ]
  },
  {
   "cell_type": "code",
   "execution_count": 82,
   "id": "8b4a12c2",
   "metadata": {},
   "outputs": [
    {
     "name": "stdout",
     "output_type": "stream",
     "text": [
      "[10, 12, 14, 16, 18] "
     ]
    }
   ],
   "source": [
    "y = []\n",
    "\n",
    "for i in range(10,20,2):\n",
    "    y.append(i)\n",
    "print(y,end=\" \")"
   ]
  },
  {
   "cell_type": "code",
   "execution_count": 85,
   "id": "dcd85cb3",
   "metadata": {},
   "outputs": [
    {
     "name": "stdout",
     "output_type": "stream",
     "text": [
      "[10, 12, 14, 16, 18, 20, 22, 24, 26, 28, 30, 32, 34, 36, 38]\n"
     ]
    }
   ],
   "source": [
    "y = []\n",
    "\n",
    "for i in range(10,40,2):\n",
    "    y.append(i)\n",
    "print(y)"
   ]
  },
  {
   "cell_type": "code",
   "execution_count": 91,
   "id": "1cdcc8d0",
   "metadata": {},
   "outputs": [
    {
     "name": "stdout",
     "output_type": "stream",
     "text": [
      "Enter CityChennai\n",
      "['Chennai']\n",
      "Enter Citybanglore\n",
      "['Chennai', 'banglore']\n",
      "Enter Cityerode\n",
      "['Chennai', 'banglore', 'erode']\n",
      "Enter CityKGF\n",
      "['Chennai', 'banglore', 'erode', 'KGF']\n",
      "Enter CityVellore\n",
      "['Chennai', 'banglore', 'erode', 'KGF', 'Vellore']\n"
     ]
    }
   ],
   "source": [
    "k = []\n",
    "\n",
    "for i in range(5):\n",
    "    string1 = input(\"Enter City\")\n",
    "    k.append(string1)\n",
    "    print(k)"
   ]
  },
  {
   "cell_type": "code",
   "execution_count": 92,
   "id": "c86e8f09",
   "metadata": {},
   "outputs": [
    {
     "name": "stdout",
     "output_type": "stream",
     "text": [
      "Enter CityChennai\n",
      "Enter Citybangalore\n",
      "Enter Cityvellore\n",
      "Enter CityKGF\n",
      "Enter CityErode\n",
      "['Chennai', 'bangalore', 'vellore', 'KGF', 'Erode']\n"
     ]
    }
   ],
   "source": [
    "k = []\n",
    "\n",
    "for i in range(5):\n",
    "    string1 = input(\"Enter City\")\n",
    "    k.append(string1)\n",
    "print(k)"
   ]
  },
  {
   "cell_type": "code",
   "execution_count": null,
   "id": "a45a23bc",
   "metadata": {},
   "outputs": [],
   "source": []
  },
  {
   "cell_type": "markdown",
   "id": "8f1ce058",
   "metadata": {},
   "source": [
    "# if - else constructs"
   ]
  },
  {
   "cell_type": "code",
   "execution_count": 97,
   "id": "a80a479c",
   "metadata": {},
   "outputs": [
    {
     "name": "stdout",
     "output_type": "stream",
     "text": [
      "Good\n"
     ]
    }
   ],
   "source": [
    "marks = 90\n",
    "\n",
    "if (marks>50):\n",
    "    print(\"Good\")\n",
    "else:\n",
    "    print(\"Average\")"
   ]
  },
  {
   "cell_type": "code",
   "execution_count": 98,
   "id": "38e5442e",
   "metadata": {},
   "outputs": [
    {
     "name": "stdout",
     "output_type": "stream",
     "text": [
      "Average\n"
     ]
    }
   ],
   "source": [
    "marks = 49\n",
    "\n",
    "if (marks>50):\n",
    "    print(\"Good\")\n",
    "else:\n",
    "    print(\"Average\")"
   ]
  },
  {
   "cell_type": "code",
   "execution_count": 99,
   "id": "11c8fc50",
   "metadata": {},
   "outputs": [
    {
     "name": "stdout",
     "output_type": "stream",
     "text": [
      "Even\n"
     ]
    }
   ],
   "source": [
    "if (10%2==0):\n",
    "    print(\"Even\")\n",
    "else:\n",
    "    print(\"Odd\")"
   ]
  },
  {
   "cell_type": "code",
   "execution_count": 100,
   "id": "41ccea28",
   "metadata": {},
   "outputs": [
    {
     "name": "stdout",
     "output_type": "stream",
     "text": [
      "Odd\n"
     ]
    }
   ],
   "source": [
    "if (13%2==0):\n",
    "    print(\"Even\")\n",
    "else:\n",
    "    print(\"Odd\")"
   ]
  },
  {
   "cell_type": "code",
   "execution_count": 101,
   "id": "cc4f78fd",
   "metadata": {},
   "outputs": [
    {
     "name": "stdout",
     "output_type": "stream",
     "text": [
      "Even\n"
     ]
    }
   ],
   "source": [
    "p = 12\n",
    "\n",
    "if (p%2==0):\n",
    "    print(\"Even\")\n",
    "else:\n",
    "    print(\"Odd\")"
   ]
  },
  {
   "cell_type": "code",
   "execution_count": 102,
   "id": "067bae64",
   "metadata": {},
   "outputs": [
    {
     "name": "stdout",
     "output_type": "stream",
     "text": [
      "Enter Number17\n",
      "Odd\n"
     ]
    }
   ],
   "source": [
    "p = int(input(\"Enter Number\"))\n",
    "\n",
    "if (p%2==0):\n",
    "    print(\"Even\")\n",
    "else:\n",
    "    print(\"Odd\")"
   ]
  },
  {
   "cell_type": "code",
   "execution_count": 103,
   "id": "3b844a4f",
   "metadata": {},
   "outputs": [
    {
     "name": "stdout",
     "output_type": "stream",
     "text": [
      "Enter Number20\n",
      "Even\n"
     ]
    }
   ],
   "source": [
    "p = int(input(\"Enter Number\"))\n",
    "\n",
    "if (p%2==0):\n",
    "    print(\"Even\")\n",
    "else:\n",
    "    print(\"Odd\")"
   ]
  },
  {
   "cell_type": "code",
   "execution_count": 105,
   "id": "258b0dd8",
   "metadata": {},
   "outputs": [
    {
     "name": "stdout",
     "output_type": "stream",
     "text": [
      "Enter Number17\n",
      "Odd\n"
     ]
    }
   ],
   "source": [
    "p = int(input(\"Enter Number\"))\n",
    "\n",
    "if (p%2!=0):\n",
    "    print(\"Odd\")\n",
    "else:\n",
    "    print(\"Even\")"
   ]
  },
  {
   "cell_type": "code",
   "execution_count": 106,
   "id": "5f28cacf",
   "metadata": {},
   "outputs": [
    {
     "name": "stdout",
     "output_type": "stream",
     "text": [
      "Enter Number5\n",
      "Odd\n"
     ]
    }
   ],
   "source": [
    "p = int(input(\"Enter Number\"))\n",
    "\n",
    "if (p%2!=0):\n",
    "    print(\"Odd\")\n",
    "else:\n",
    "    print(\"Even\")"
   ]
  },
  {
   "cell_type": "code",
   "execution_count": 107,
   "id": "0eb404fd",
   "metadata": {},
   "outputs": [
    {
     "name": "stdout",
     "output_type": "stream",
     "text": [
      "Enter Grade90\n",
      "Very Good\n"
     ]
    }
   ],
   "source": [
    "grade = int(input(\"Enter Grade\"))\n",
    "\n",
    "if(grade>90):\n",
    "    print(\"Excellent\")\n",
    "elif grade>80 and grade<=90:\n",
    "    print(\"Very Good\")\n",
    "elif grade>70 and grade<=80:\n",
    "    print(\"Good\")\n",
    "elif grade>60 and grade<=70:\n",
    "    print(\"Average\")\n",
    "else:\n",
    "    print(\"Poor\")"
   ]
  },
  {
   "cell_type": "code",
   "execution_count": 110,
   "id": "c7bed107",
   "metadata": {},
   "outputs": [
    {
     "name": "stdout",
     "output_type": "stream",
     "text": [
      "Enter Grade = 80\n",
      "Good\n"
     ]
    }
   ],
   "source": [
    "grade = int(input(\"Enter Grade = \"))\n",
    "\n",
    "if(grade>90):\n",
    "    print(\"Excellent\")\n",
    "elif grade>80 and grade<=90:\n",
    "    print(\"Very Good\")\n",
    "elif grade>70 and grade<=80:\n",
    "    print(\"Good\")\n",
    "elif grade>60 and grade<=70:\n",
    "    print(\"Average\")\n",
    "else:\n",
    "    print(\"Poor\")"
   ]
  },
  {
   "cell_type": "code",
   "execution_count": 111,
   "id": "e945a4f7",
   "metadata": {},
   "outputs": [
    {
     "name": "stdout",
     "output_type": "stream",
     "text": [
      "Enter Grade = 60\n",
      "Poor\n"
     ]
    }
   ],
   "source": [
    "grade = int(input(\"Enter Grade = \"))\n",
    "\n",
    "if(grade>90):\n",
    "    print(\"Excellent\")\n",
    "elif grade>80 and grade<=90:\n",
    "    print(\"Very Good\")\n",
    "elif grade>70 and grade<=80:\n",
    "    print(\"Good\")\n",
    "elif grade>60 and grade<=70:\n",
    "    print(\"Average\")\n",
    "else:\n",
    "    print(\"Poor\")"
   ]
  },
  {
   "cell_type": "code",
   "execution_count": 113,
   "id": "01a403ce",
   "metadata": {},
   "outputs": [
    {
     "name": "stdout",
     "output_type": "stream",
     "text": [
      "Enter Grade = 100\n",
      "Excellent\n"
     ]
    }
   ],
   "source": [
    "grade = int(input(\"Enter Grade = \"))\n",
    "\n",
    "if(grade>90):\n",
    "    print(\"Excellent\")\n",
    "elif grade>80 and grade<=90:\n",
    "    print(\"Very Good\")\n",
    "elif grade>70 and grade<=80:\n",
    "    print(\"Good\")\n",
    "elif grade>60 and grade<=70:\n",
    "    print(\"Average\")\n",
    "else:\n",
    "    print(\"Poor\")"
   ]
  },
  {
   "cell_type": "code",
   "execution_count": null,
   "id": "37c71f4f",
   "metadata": {},
   "outputs": [],
   "source": []
  },
  {
   "cell_type": "markdown",
   "id": "b6795ae4",
   "metadata": {},
   "source": [
    "# Break and Continue"
   ]
  },
  {
   "cell_type": "markdown",
   "id": "1c350d7c",
   "metadata": {},
   "source": [
    "# Break"
   ]
  },
  {
   "cell_type": "code",
   "execution_count": null,
   "id": "202bcf5a",
   "metadata": {},
   "outputs": [],
   "source": []
  },
  {
   "cell_type": "code",
   "execution_count": 2,
   "id": "6f9a238c",
   "metadata": {},
   "outputs": [
    {
     "name": "stdout",
     "output_type": "stream",
     "text": [
      "Apple\n",
      "Mango\n",
      "Grapes\n",
      "Orange\n"
     ]
    }
   ],
   "source": [
    "for i in [\"Apple\",\"Mango\",\"Grapes\",\"Orange\"]:\n",
    "    print(i)"
   ]
  },
  {
   "cell_type": "code",
   "execution_count": 5,
   "id": "9a624f05",
   "metadata": {},
   "outputs": [
    {
     "name": "stdout",
     "output_type": "stream",
     "text": [
      "Apple\n",
      "Mango\n"
     ]
    }
   ],
   "source": [
    "for i in [\"Apple\",\"Mango\",\"Grapes\",\"Orange\"]:\n",
    "    if  (i==\"Grapes\"):\n",
    "        break\n",
    "    print(i)"
   ]
  },
  {
   "cell_type": "code",
   "execution_count": 8,
   "id": "f7856ccc",
   "metadata": {},
   "outputs": [
    {
     "name": "stdout",
     "output_type": "stream",
     "text": [
      "1\n",
      "2\n",
      "3\n",
      "4\n",
      "5\n",
      "6\n",
      "7\n"
     ]
    }
   ],
   "source": [
    "for x in [1,2,3,4,5,6,7,8,9]:\n",
    "    if  (x==8):\n",
    "        break\n",
    "    print(x)"
   ]
  },
  {
   "cell_type": "code",
   "execution_count": 16,
   "id": "57f6003a",
   "metadata": {},
   "outputs": [
    {
     "name": "stdout",
     "output_type": "stream",
     "text": [
      "1\n",
      "2\n",
      "3\n",
      "4\n",
      "5\n",
      "6\n",
      "7\n",
      "End Loop\n"
     ]
    }
   ],
   "source": [
    "for x in [1,2,3,4,5,6,7,8,9]:\n",
    "    if  (x==8):\n",
    "        break\n",
    "    print(x)    \n",
    "    \n",
    "print(\"End Loop\")"
   ]
  },
  {
   "cell_type": "code",
   "execution_count": 17,
   "id": "b9e4255f",
   "metadata": {},
   "outputs": [
    {
     "name": "stdout",
     "output_type": "stream",
     "text": [
      "1\n",
      "End Loop Inside\n",
      "2\n",
      "End Loop Inside\n",
      "3\n",
      "End Loop Inside\n",
      "4\n",
      "End Loop Inside\n",
      "5\n",
      "End Loop Inside\n",
      "6\n",
      "End Loop Inside\n",
      "7\n",
      "End Loop Inside\n",
      "End Loop Outside\n"
     ]
    }
   ],
   "source": [
    "for x in [1,2,3,4,5,6,7,8,9]:\n",
    "    if  (x==8):\n",
    "        break\n",
    "    print(x)\n",
    "    print(\"End Loop Inside\")\n",
    "    \n",
    "print(\"End Loop Outside\")"
   ]
  },
  {
   "cell_type": "code",
   "execution_count": 18,
   "id": "20e35289",
   "metadata": {},
   "outputs": [
    {
     "name": "stdout",
     "output_type": "stream",
     "text": [
      "1\n",
      "End Loop\n",
      "2\n",
      "End Loop\n",
      "3\n",
      "End Loop\n",
      "4\n",
      "End Loop\n",
      "5\n",
      "End Loop\n"
     ]
    }
   ],
   "source": [
    "for x in [1,2,3,4,5]:\n",
    "    print(x)\n",
    "    print(\"End Loop\")"
   ]
  },
  {
   "cell_type": "code",
   "execution_count": 19,
   "id": "b6d6fd0c",
   "metadata": {},
   "outputs": [
    {
     "name": "stdout",
     "output_type": "stream",
     "text": [
      "1\n",
      "End Loop\n",
      "2\n",
      "End Loop\n",
      "3\n",
      "End Loop\n",
      "4\n",
      "End Loop\n",
      "5\n",
      "End Loop\n",
      "Completed\n"
     ]
    }
   ],
   "source": [
    "for x in [1,2,3,4,5]:\n",
    "    print(x)\n",
    "    print(\"End Loop\")\n",
    "print(\"Completed\")"
   ]
  },
  {
   "cell_type": "code",
   "execution_count": 24,
   "id": "6135011e",
   "metadata": {},
   "outputs": [
    {
     "name": "stdout",
     "output_type": "stream",
     "text": [
      "2\n",
      "End Loop\n",
      "3\n",
      "End Loop\n",
      "4\n",
      "End Loop\n",
      "5\n",
      "End Loop\n",
      "6\n",
      "End Loop\n",
      "7\n",
      "End Loop\n",
      "Completed\n"
     ]
    }
   ],
   "source": [
    "for x in range(2,8):\n",
    "    print(x)\n",
    "    print(\"End Loop\")\n",
    "print(\"Completed\")"
   ]
  },
  {
   "cell_type": "code",
   "execution_count": null,
   "id": "c5c1cc2c",
   "metadata": {},
   "outputs": [],
   "source": []
  },
  {
   "cell_type": "markdown",
   "id": "2c34abbc",
   "metadata": {},
   "source": [
    "# continue"
   ]
  },
  {
   "cell_type": "code",
   "execution_count": 27,
   "id": "f7dd02a4",
   "metadata": {},
   "outputs": [
    {
     "name": "stdout",
     "output_type": "stream",
     "text": [
      "Apple\n",
      "Mango\n",
      "Grapes\n",
      "Pineapple\n"
     ]
    }
   ],
   "source": [
    "for i in [\"Apple\",\"Mango\",\"Grapes\",\"Orange\",\"Pineapple\"]:\n",
    "    if (i==\"Orange\"):\n",
    "        continue\n",
    "    print(i)"
   ]
  },
  {
   "cell_type": "code",
   "execution_count": 28,
   "id": "704e5f1a",
   "metadata": {},
   "outputs": [
    {
     "name": "stdout",
     "output_type": "stream",
     "text": [
      "Apple\n",
      "Mango\n",
      "Grapes\n",
      "Orange\n"
     ]
    }
   ],
   "source": [
    "for i in [\"Apple\",\"Mango\",\"Grapes\",\"Orange\",\"Pineapple\"]:\n",
    "    if (i==\"Pineapple\"):\n",
    "        continue\n",
    "    print(i)"
   ]
  },
  {
   "cell_type": "code",
   "execution_count": 29,
   "id": "90bc6342",
   "metadata": {},
   "outputs": [
    {
     "name": "stdout",
     "output_type": "stream",
     "text": [
      "10\n",
      "20\n",
      "30\n",
      "40\n",
      "50\n",
      "60\n",
      "70\n",
      "80\n",
      "90\n",
      "100\n"
     ]
    }
   ],
   "source": [
    "for i in [10,20,30,40,50,60,70,80,90,100]:\n",
    "    if (i==\"50\"):\n",
    "        continue\n",
    "    print(i)"
   ]
  },
  {
   "cell_type": "code",
   "execution_count": 33,
   "id": "a7392f3b",
   "metadata": {},
   "outputs": [
    {
     "name": "stdout",
     "output_type": "stream",
     "text": [
      "10 20 30 40 60 70 80 90 100 "
     ]
    }
   ],
   "source": [
    "for i in [10,20,30,40,50,60,70,80,90,100]:\n",
    "    if (i==50):\n",
    "        continue\n",
    "    print(i,end=\" \")"
   ]
  },
  {
   "cell_type": "code",
   "execution_count": 34,
   "id": "c521c2bc",
   "metadata": {},
   "outputs": [
    {
     "name": "stdout",
     "output_type": "stream",
     "text": [
      "50 "
     ]
    }
   ],
   "source": [
    "for i in [10,20,30,40,50,60,70,80,90,100]:\n",
    "    if (i!=50):\n",
    "        continue\n",
    "    print(i,end=\" \")"
   ]
  },
  {
   "cell_type": "code",
   "execution_count": 36,
   "id": "a0d526d5",
   "metadata": {},
   "outputs": [
    {
     "name": "stdout",
     "output_type": "stream",
     "text": [
      "10\n",
      "20\n",
      "30\n",
      "40\n",
      "60\n",
      "70\n",
      "80\n",
      "90\n",
      "100\n",
      "End\n"
     ]
    }
   ],
   "source": [
    "for i in [10,20,30,40,50,60,70,80,90,100]:\n",
    "    if (i==50):\n",
    "        continue\n",
    "    print(i)\n",
    "print(\"End\")"
   ]
  },
  {
   "cell_type": "code",
   "execution_count": null,
   "id": "195c2319",
   "metadata": {},
   "outputs": [],
   "source": []
  },
  {
   "cell_type": "markdown",
   "id": "9b93785a",
   "metadata": {},
   "source": [
    "# List Comprehension - Used whenever we need data specific data from the provided list"
   ]
  },
  {
   "cell_type": "code",
   "execution_count": 41,
   "id": "3cba0290",
   "metadata": {},
   "outputs": [
    {
     "name": "stdout",
     "output_type": "stream",
     "text": [
      "[1, 2, 3, 4, 5]\n"
     ]
    }
   ],
   "source": [
    "list1 = [1,2,3,4,5]\n",
    "\n",
    "m = [i for i in list1]\n",
    "\n",
    "print(m)"
   ]
  },
  {
   "cell_type": "code",
   "execution_count": 43,
   "id": "96ea6e69",
   "metadata": {},
   "outputs": [
    {
     "name": "stdout",
     "output_type": "stream",
     "text": [
      "[5, 6, 7, 8, 9]\n"
     ]
    }
   ],
   "source": [
    "list2 = [5,6,7,8,9,]\n",
    "\n",
    "d = [i for i in list2]\n",
    "\n",
    "print(d)"
   ]
  },
  {
   "cell_type": "code",
   "execution_count": 45,
   "id": "09747778",
   "metadata": {},
   "outputs": [
    {
     "name": "stdout",
     "output_type": "stream",
     "text": [
      "[10, 20, 30, 40, 50, 60]\n"
     ]
    }
   ],
   "source": [
    "list3 = [10,20,25,30,35,40,45,50,55,60]\n",
    "\n",
    "c = [i for i in list3 if i%2==0]\n",
    "\n",
    "print(c)"
   ]
  },
  {
   "cell_type": "code",
   "execution_count": 46,
   "id": "5d40d3c6",
   "metadata": {},
   "outputs": [
    {
     "data": {
      "text/plain": [
       "[0, 1, 2, 3, 4, 5, 6, 7, 8, 9, 10, 11, 12, 13, 14, 15, 16, 17, 18, 19]"
      ]
     },
     "execution_count": 46,
     "metadata": {},
     "output_type": "execute_result"
    }
   ],
   "source": [
    "p = [i for i in range(20)]\n",
    "\n",
    "p"
   ]
  },
  {
   "cell_type": "code",
   "execution_count": 47,
   "id": "b771cbc2",
   "metadata": {},
   "outputs": [
    {
     "data": {
      "text/plain": [
       "[0, 2, 4, 6, 8, 10, 12, 14, 16, 18]"
      ]
     },
     "execution_count": 47,
     "metadata": {},
     "output_type": "execute_result"
    }
   ],
   "source": [
    "p = [i for i in range(20) if i%2==0]\n",
    "\n",
    "p"
   ]
  },
  {
   "cell_type": "code",
   "execution_count": 48,
   "id": "ac5d56ab",
   "metadata": {},
   "outputs": [
    {
     "data": {
      "text/plain": [
       "[1, 3, 5, 7, 9, 11, 13, 15, 17, 19]"
      ]
     },
     "execution_count": 48,
     "metadata": {},
     "output_type": "execute_result"
    }
   ],
   "source": [
    "p = [i for i in range(20) if i%2!=0]\n",
    "\n",
    "p"
   ]
  },
  {
   "cell_type": "code",
   "execution_count": 49,
   "id": "b79afca2",
   "metadata": {},
   "outputs": [
    {
     "data": {
      "text/plain": [
       "[0, 4, 16, 36, 64, 100, 144, 196, 256, 324]"
      ]
     },
     "execution_count": 49,
     "metadata": {},
     "output_type": "execute_result"
    }
   ],
   "source": [
    "k = [i**2 for i in range(20) if i%2==0]\n",
    "\n",
    "k"
   ]
  },
  {
   "cell_type": "code",
   "execution_count": 52,
   "id": "56401aa1",
   "metadata": {},
   "outputs": [
    {
     "data": {
      "text/plain": [
       "[0, 5, 10, 15, 20, 25]"
      ]
     },
     "execution_count": 52,
     "metadata": {},
     "output_type": "execute_result"
    }
   ],
   "source": [
    "j = [i for i in range(0,30,5)]\n",
    "\n",
    "j"
   ]
  },
  {
   "cell_type": "code",
   "execution_count": 55,
   "id": "cba8a93f",
   "metadata": {},
   "outputs": [
    {
     "data": {
      "text/plain": [
       "[1, 2, 3]"
      ]
     },
     "execution_count": 55,
     "metadata": {},
     "output_type": "execute_result"
    }
   ],
   "source": [
    "dict = {1:100,2:200,3:300}\n",
    "s = [k for k in dict]    # k is capturing keys in dictionary\n",
    "s"
   ]
  },
  {
   "cell_type": "code",
   "execution_count": 57,
   "id": "9c7293a3",
   "metadata": {},
   "outputs": [
    {
     "data": {
      "text/plain": [
       "[100, 200, 300]"
      ]
     },
     "execution_count": 57,
     "metadata": {},
     "output_type": "execute_result"
    }
   ],
   "source": [
    "dict1 = {1:100,2:200,3:300}\n",
    "s = [k for k in dict1.values()]    # k is capturing values in dictionary\n",
    "s"
   ]
  },
  {
   "cell_type": "code",
   "execution_count": 58,
   "id": "bdcf77a0",
   "metadata": {},
   "outputs": [
    {
     "data": {
      "text/plain": [
       "[(1, 100), (2, 200), (3, 300)]"
      ]
     },
     "execution_count": 58,
     "metadata": {},
     "output_type": "execute_result"
    }
   ],
   "source": [
    "dict1 = {1:100,2:200,3:300}\n",
    "s = [k for k in dict1.items()]    # k is capturing items(everything) in dictionary\n",
    "s"
   ]
  },
  {
   "cell_type": "code",
   "execution_count": 59,
   "id": "30cb6060",
   "metadata": {},
   "outputs": [
    {
     "data": {
      "text/plain": [
       "[0, 3125, 100000, 759375, 3200000, 9765625]"
      ]
     },
     "execution_count": 59,
     "metadata": {},
     "output_type": "execute_result"
    }
   ],
   "source": [
    "j = [i**5 for i in range(0,30,5)]\n",
    "\n",
    "j"
   ]
  },
  {
   "cell_type": "code",
   "execution_count": 60,
   "id": "b9ecabba",
   "metadata": {},
   "outputs": [
    {
     "data": {
      "text/plain": [
       "[0, 25, 100, 225, 400, 625]"
      ]
     },
     "execution_count": 60,
     "metadata": {},
     "output_type": "execute_result"
    }
   ],
   "source": [
    "j = [i**2 for i in range(0,30,5)]\n",
    "\n",
    "j"
   ]
  },
  {
   "cell_type": "code",
   "execution_count": null,
   "id": "19dc3d62",
   "metadata": {},
   "outputs": [],
   "source": []
  },
  {
   "cell_type": "markdown",
   "id": "c6aa532b",
   "metadata": {},
   "source": [
    "# String functions - are predefined functions"
   ]
  },
  {
   "cell_type": "code",
   "execution_count": 70,
   "id": "c138a9b0",
   "metadata": {},
   "outputs": [],
   "source": [
    "# upper() - converts strings to upper case\n",
    "# lower() - converts strings to lower case\n",
    "# swap () - swaps strings from upper to lower and lower to upper case\n",
    "# capitalize() - converts first char to capital\n",
    "# title() converts each char of first letter to caps\n",
    "# split() splits the entire sentence/char into list\n",
    "# islower() defines the char is upper or lower by True or False\n",
    "# isupper() defines the char is upper or lower by True or False\n",
    "# isdigit() will check the data is alpha by true or False\n",
    "# isalpha() will check the data is alpha by true or False\n",
    "# alnum() mixed of alpha and numeric\n",
    "# startswith() helps to find the starting char\n",
    "# endswith() helps to find the ending char\n",
    "# find() finds the position of the char counts every letter including spaces \n",
    "# count() the number of letters in the variable\n",
    "# replace() the char \n",
    "# len() find the lenth of the list\n",
    "# join() join() string method returns a string by joining all the elements of an iterable(list,string,tuple), separated by a string separator\n",
    "# casefold() ignores matching of words by lowercase and uppercase"
   ]
  },
  {
   "cell_type": "code",
   "execution_count": null,
   "id": "54181b16",
   "metadata": {},
   "outputs": [],
   "source": []
  },
  {
   "cell_type": "code",
   "execution_count": 63,
   "id": "226bd7e3",
   "metadata": {},
   "outputs": [],
   "source": [
    "word = (\"computer\")"
   ]
  },
  {
   "cell_type": "code",
   "execution_count": 64,
   "id": "1f6b897a",
   "metadata": {},
   "outputs": [
    {
     "data": {
      "text/plain": [
       "'computer'"
      ]
     },
     "execution_count": 64,
     "metadata": {},
     "output_type": "execute_result"
    }
   ],
   "source": [
    "word\n"
   ]
  },
  {
   "cell_type": "code",
   "execution_count": 65,
   "id": "a906d5cc",
   "metadata": {},
   "outputs": [
    {
     "data": {
      "text/plain": [
       "'COMPUTER'"
      ]
     },
     "execution_count": 65,
     "metadata": {},
     "output_type": "execute_result"
    }
   ],
   "source": [
    "word.upper() # upper() - converts strings to upper case"
   ]
  },
  {
   "cell_type": "code",
   "execution_count": 67,
   "id": "7869cf28",
   "metadata": {},
   "outputs": [
    {
     "data": {
      "text/plain": [
       "'MOBILE'"
      ]
     },
     "execution_count": 67,
     "metadata": {},
     "output_type": "execute_result"
    }
   ],
   "source": [
    "word2 = ('MOBILE')\n",
    "word2"
   ]
  },
  {
   "cell_type": "code",
   "execution_count": 68,
   "id": "c51c1ddf",
   "metadata": {},
   "outputs": [
    {
     "data": {
      "text/plain": [
       "'mobile'"
      ]
     },
     "execution_count": 68,
     "metadata": {},
     "output_type": "execute_result"
    }
   ],
   "source": [
    "word2.lower() # lower() - converts strings to lower case"
   ]
  },
  {
   "cell_type": "code",
   "execution_count": 69,
   "id": "46eb9c4e",
   "metadata": {},
   "outputs": [
    {
     "data": {
      "text/plain": [
       "'TEsLa'"
      ]
     },
     "execution_count": 69,
     "metadata": {},
     "output_type": "execute_result"
    }
   ],
   "source": [
    "word3 = ('TEsLa')\n",
    "word3"
   ]
  },
  {
   "cell_type": "code",
   "execution_count": 72,
   "id": "78ddee8e",
   "metadata": {},
   "outputs": [
    {
     "data": {
      "text/plain": [
       "'teSlA'"
      ]
     },
     "execution_count": 72,
     "metadata": {},
     "output_type": "execute_result"
    }
   ],
   "source": [
    "word3.swapcase()  # swap () - swaps strings from upper to lower and lower to upper case"
   ]
  },
  {
   "cell_type": "code",
   "execution_count": 73,
   "id": "871fa1ad",
   "metadata": {},
   "outputs": [
    {
     "data": {
      "text/plain": [
       "'NAVEEN'"
      ]
     },
     "execution_count": 73,
     "metadata": {},
     "output_type": "execute_result"
    }
   ],
   "source": [
    "word4 = ('NAVEEN')\n",
    "word4"
   ]
  },
  {
   "cell_type": "code",
   "execution_count": 74,
   "id": "a446ec46",
   "metadata": {},
   "outputs": [
    {
     "data": {
      "text/plain": [
       "'naveen'"
      ]
     },
     "execution_count": 74,
     "metadata": {},
     "output_type": "execute_result"
    }
   ],
   "source": [
    "word4.lower()"
   ]
  },
  {
   "cell_type": "code",
   "execution_count": 75,
   "id": "500e7740",
   "metadata": {},
   "outputs": [
    {
     "data": {
      "text/plain": [
       "'naveen'"
      ]
     },
     "execution_count": 75,
     "metadata": {},
     "output_type": "execute_result"
    }
   ],
   "source": [
    "n = word4.lower()\n",
    "n"
   ]
  },
  {
   "cell_type": "code",
   "execution_count": 76,
   "id": "6cce1cc3",
   "metadata": {},
   "outputs": [
    {
     "data": {
      "text/plain": [
       "'NAVEEN'"
      ]
     },
     "execution_count": 76,
     "metadata": {},
     "output_type": "execute_result"
    }
   ],
   "source": [
    "na = word4.upper()\n",
    "na"
   ]
  },
  {
   "cell_type": "code",
   "execution_count": 78,
   "id": "e0909b53",
   "metadata": {},
   "outputs": [
    {
     "data": {
      "text/plain": [
       "'Naveen'"
      ]
     },
     "execution_count": 78,
     "metadata": {},
     "output_type": "execute_result"
    }
   ],
   "source": [
    "nav = word4.capitalize()  # capitalize() - converts first char to capital\n",
    "nav"
   ]
  },
  {
   "cell_type": "code",
   "execution_count": 79,
   "id": "bce39721",
   "metadata": {},
   "outputs": [
    {
     "data": {
      "text/plain": [
       "'naveen kumar'"
      ]
     },
     "execution_count": 79,
     "metadata": {},
     "output_type": "execute_result"
    }
   ],
   "source": [
    "word5 = (\"naveen kumar\")\n",
    "word5"
   ]
  },
  {
   "cell_type": "code",
   "execution_count": 80,
   "id": "32b1e767",
   "metadata": {},
   "outputs": [
    {
     "data": {
      "text/plain": [
       "'Naveen Kumar'"
      ]
     },
     "execution_count": 80,
     "metadata": {},
     "output_type": "execute_result"
    }
   ],
   "source": [
    "new = word5.title() # title() converts each char of first letter to caps\n",
    "new"
   ]
  },
  {
   "cell_type": "code",
   "execution_count": 81,
   "id": "03c2a11e",
   "metadata": {},
   "outputs": [],
   "source": [
    "word6 = (\"i love my dad ranga he is the greatest\")"
   ]
  },
  {
   "cell_type": "code",
   "execution_count": 82,
   "id": "fa8010c3",
   "metadata": {},
   "outputs": [
    {
     "data": {
      "text/plain": [
       "'I Love My Dad Ranga He Is The Greatest'"
      ]
     },
     "execution_count": 82,
     "metadata": {},
     "output_type": "execute_result"
    }
   ],
   "source": [
    "n1 = word6.title() # title() converts each char of first letter to caps\n",
    "n1"
   ]
  },
  {
   "cell_type": "code",
   "execution_count": 104,
   "id": "b034be07",
   "metadata": {},
   "outputs": [
    {
     "data": {
      "text/plain": [
       "'Naveen kumar'"
      ]
     },
     "execution_count": 104,
     "metadata": {},
     "output_type": "execute_result"
    }
   ],
   "source": [
    "q = word5.capitalize()\n",
    "q"
   ]
  },
  {
   "cell_type": "code",
   "execution_count": 84,
   "id": "19e98e6c",
   "metadata": {},
   "outputs": [
    {
     "data": {
      "text/plain": [
       "'Naveen Kumar'"
      ]
     },
     "execution_count": 84,
     "metadata": {},
     "output_type": "execute_result"
    }
   ],
   "source": [
    "word5.title()"
   ]
  },
  {
   "cell_type": "code",
   "execution_count": 85,
   "id": "de3a6522",
   "metadata": {},
   "outputs": [
    {
     "data": {
      "text/plain": [
       "'I love my dad ranga he is the greatest'"
      ]
     },
     "execution_count": 85,
     "metadata": {},
     "output_type": "execute_result"
    }
   ],
   "source": [
    "word6.capitalize()"
   ]
  },
  {
   "cell_type": "code",
   "execution_count": 86,
   "id": "442b7bfe",
   "metadata": {},
   "outputs": [
    {
     "data": {
      "text/plain": [
       "['i', 'love', 'my', 'dad', 'ranga', 'he', 'is', 'the', 'greatest']"
      ]
     },
     "execution_count": 86,
     "metadata": {},
     "output_type": "execute_result"
    }
   ],
   "source": [
    "word6.split() # split() splits the entire sentence into list"
   ]
  },
  {
   "cell_type": "code",
   "execution_count": 94,
   "id": "a946bf0a",
   "metadata": {},
   "outputs": [],
   "source": [
    "word8 = [\"Ranganathan Thenmozhi|Deepan Naveen | Rupavathi Krithvik\"]"
   ]
  },
  {
   "cell_type": "code",
   "execution_count": 99,
   "id": "b8b1d736",
   "metadata": {},
   "outputs": [
    {
     "data": {
      "text/plain": [
       "'Ranganathan Thenmozhi'"
      ]
     },
     "execution_count": 99,
     "metadata": {},
     "output_type": "execute_result"
    }
   ],
   "source": [
    "m = word8[0].strip().split(\"|\")[0]\n",
    "m"
   ]
  },
  {
   "cell_type": "code",
   "execution_count": 102,
   "id": "49edcc24",
   "metadata": {},
   "outputs": [
    {
     "data": {
      "text/plain": [
       "'naveen kumar'"
      ]
     },
     "execution_count": 102,
     "metadata": {},
     "output_type": "execute_result"
    }
   ],
   "source": [
    "word5"
   ]
  },
  {
   "cell_type": "code",
   "execution_count": 105,
   "id": "1d6c9e19",
   "metadata": {},
   "outputs": [
    {
     "data": {
      "text/plain": [
       "'Naveen kumar'"
      ]
     },
     "execution_count": 105,
     "metadata": {},
     "output_type": "execute_result"
    }
   ],
   "source": [
    "q"
   ]
  },
  {
   "cell_type": "code",
   "execution_count": 100,
   "id": "26274475",
   "metadata": {},
   "outputs": [
    {
     "data": {
      "text/plain": [
       "False"
      ]
     },
     "execution_count": 100,
     "metadata": {},
     "output_type": "execute_result"
    }
   ],
   "source": [
    "word5.isupper() # isupper() defines the char is upper or lower by True or False"
   ]
  },
  {
   "cell_type": "code",
   "execution_count": 101,
   "id": "6ef652ac",
   "metadata": {},
   "outputs": [
    {
     "data": {
      "text/plain": [
       "True"
      ]
     },
     "execution_count": 101,
     "metadata": {},
     "output_type": "execute_result"
    }
   ],
   "source": [
    "word5.islower() # islower() defines the char is upper or lower by True or False"
   ]
  },
  {
   "cell_type": "code",
   "execution_count": 106,
   "id": "de856ff7",
   "metadata": {},
   "outputs": [
    {
     "data": {
      "text/plain": [
       "False"
      ]
     },
     "execution_count": 106,
     "metadata": {},
     "output_type": "execute_result"
    }
   ],
   "source": [
    "q.isupper() "
   ]
  },
  {
   "cell_type": "code",
   "execution_count": 107,
   "id": "98f54a15",
   "metadata": {},
   "outputs": [
    {
     "data": {
      "text/plain": [
       "'1234'"
      ]
     },
     "execution_count": 107,
     "metadata": {},
     "output_type": "execute_result"
    }
   ],
   "source": [
    "test = \"1234\"\n",
    "test"
   ]
  },
  {
   "cell_type": "code",
   "execution_count": 108,
   "id": "628c9184",
   "metadata": {},
   "outputs": [
    {
     "data": {
      "text/plain": [
       "False"
      ]
     },
     "execution_count": 108,
     "metadata": {},
     "output_type": "execute_result"
    }
   ],
   "source": [
    "test.isalpha() # isalpha() will check the data is alpha by true or False"
   ]
  },
  {
   "cell_type": "code",
   "execution_count": 109,
   "id": "867efb68",
   "metadata": {},
   "outputs": [
    {
     "data": {
      "text/plain": [
       "True"
      ]
     },
     "execution_count": 109,
     "metadata": {},
     "output_type": "execute_result"
    }
   ],
   "source": [
    "test.isdigit() # isdigit() will check the data is alpha by true or False"
   ]
  },
  {
   "cell_type": "code",
   "execution_count": 113,
   "id": "806b2790",
   "metadata": {},
   "outputs": [
    {
     "data": {
      "text/plain": [
       "'naveen kumar'"
      ]
     },
     "execution_count": 113,
     "metadata": {},
     "output_type": "execute_result"
    }
   ],
   "source": [
    "word5"
   ]
  },
  {
   "cell_type": "code",
   "execution_count": 114,
   "id": "d2f6a384",
   "metadata": {},
   "outputs": [
    {
     "data": {
      "text/plain": [
       "False"
      ]
     },
     "execution_count": 114,
     "metadata": {},
     "output_type": "execute_result"
    }
   ],
   "source": [
    "word5.isalpha() = # There should not be any space between the char to use this function"
   ]
  },
  {
   "cell_type": "code",
   "execution_count": 111,
   "id": "20ac8eb4",
   "metadata": {},
   "outputs": [
    {
     "data": {
      "text/plain": [
       "False"
      ]
     },
     "execution_count": 111,
     "metadata": {},
     "output_type": "execute_result"
    }
   ],
   "source": [
    "word5.isdigit()"
   ]
  },
  {
   "cell_type": "code",
   "execution_count": 115,
   "id": "216fd627",
   "metadata": {},
   "outputs": [
    {
     "data": {
      "text/plain": [
       "'Naveen'"
      ]
     },
     "execution_count": 115,
     "metadata": {},
     "output_type": "execute_result"
    }
   ],
   "source": [
    "nav"
   ]
  },
  {
   "cell_type": "code",
   "execution_count": 116,
   "id": "d5f39079",
   "metadata": {},
   "outputs": [
    {
     "data": {
      "text/plain": [
       "True"
      ]
     },
     "execution_count": 116,
     "metadata": {},
     "output_type": "execute_result"
    }
   ],
   "source": [
    "nav.isalpha()"
   ]
  },
  {
   "cell_type": "code",
   "execution_count": 117,
   "id": "696595db",
   "metadata": {},
   "outputs": [
    {
     "data": {
      "text/plain": [
       "'naveen2205'"
      ]
     },
     "execution_count": 117,
     "metadata": {},
     "output_type": "execute_result"
    }
   ],
   "source": [
    "z = \"naveen2205\"\n",
    "z"
   ]
  },
  {
   "cell_type": "code",
   "execution_count": 118,
   "id": "85a04c15",
   "metadata": {},
   "outputs": [
    {
     "data": {
      "text/plain": [
       "False"
      ]
     },
     "execution_count": 118,
     "metadata": {},
     "output_type": "execute_result"
    }
   ],
   "source": [
    "z.isalpha()"
   ]
  },
  {
   "cell_type": "code",
   "execution_count": 119,
   "id": "d67209d3",
   "metadata": {},
   "outputs": [
    {
     "data": {
      "text/plain": [
       "False"
      ]
     },
     "execution_count": 119,
     "metadata": {},
     "output_type": "execute_result"
    }
   ],
   "source": [
    "z.isdigit()"
   ]
  },
  {
   "cell_type": "code",
   "execution_count": 121,
   "id": "eda88cde",
   "metadata": {},
   "outputs": [
    {
     "data": {
      "text/plain": [
       "True"
      ]
     },
     "execution_count": 121,
     "metadata": {},
     "output_type": "execute_result"
    }
   ],
   "source": [
    "z.isalnum()  # alnum() mixed of alpha and numeric"
   ]
  },
  {
   "cell_type": "code",
   "execution_count": 122,
   "id": "a374b14a",
   "metadata": {},
   "outputs": [
    {
     "data": {
      "text/plain": [
       "'there are many galaxies'"
      ]
     },
     "execution_count": 122,
     "metadata": {},
     "output_type": "execute_result"
    }
   ],
   "source": [
    "x = \"there are many galaxies\"\n",
    "x"
   ]
  },
  {
   "cell_type": "code",
   "execution_count": 123,
   "id": "c329cd25",
   "metadata": {},
   "outputs": [
    {
     "data": {
      "text/plain": [
       "True"
      ]
     },
     "execution_count": 123,
     "metadata": {},
     "output_type": "execute_result"
    }
   ],
   "source": [
    "x.startswith(\"there\")  # startswith() helps to find the starting char"
   ]
  },
  {
   "cell_type": "code",
   "execution_count": 124,
   "id": "95fb1501",
   "metadata": {},
   "outputs": [
    {
     "data": {
      "text/plain": [
       "False"
      ]
     },
     "execution_count": 124,
     "metadata": {},
     "output_type": "execute_result"
    }
   ],
   "source": [
    "x.startswith(\"are\")"
   ]
  },
  {
   "cell_type": "code",
   "execution_count": 125,
   "id": "ef39b02c",
   "metadata": {},
   "outputs": [
    {
     "data": {
      "text/plain": [
       "True"
      ]
     },
     "execution_count": 125,
     "metadata": {},
     "output_type": "execute_result"
    }
   ],
   "source": [
    "x.endswith(\"galaxies\") # endswith() helps to find the ending char"
   ]
  },
  {
   "cell_type": "code",
   "execution_count": 126,
   "id": "db0b00a0",
   "metadata": {},
   "outputs": [
    {
     "data": {
      "text/plain": [
       "'i love my dad ranga he is the greatest'"
      ]
     },
     "execution_count": 126,
     "metadata": {},
     "output_type": "execute_result"
    }
   ],
   "source": [
    "word6"
   ]
  },
  {
   "cell_type": "code",
   "execution_count": 128,
   "id": "6288739d",
   "metadata": {},
   "outputs": [
    {
     "data": {
      "text/plain": [
       "14"
      ]
     },
     "execution_count": 128,
     "metadata": {},
     "output_type": "execute_result"
    }
   ],
   "source": [
    "word6.find(\"ranga\") # find() finds the position of the char counts every letter including spaces"
   ]
  },
  {
   "cell_type": "code",
   "execution_count": 129,
   "id": "aadcd07a",
   "metadata": {},
   "outputs": [
    {
     "data": {
      "text/plain": [
       "30"
      ]
     },
     "execution_count": 129,
     "metadata": {},
     "output_type": "execute_result"
    }
   ],
   "source": [
    "word6.find(\"greatest\")"
   ]
  },
  {
   "cell_type": "code",
   "execution_count": 130,
   "id": "b7ce0dad",
   "metadata": {},
   "outputs": [
    {
     "data": {
      "text/plain": [
       "0"
      ]
     },
     "execution_count": 130,
     "metadata": {},
     "output_type": "execute_result"
    }
   ],
   "source": [
    "word6.find(\"i\")"
   ]
  },
  {
   "cell_type": "code",
   "execution_count": 131,
   "id": "bf7e6b6a",
   "metadata": {},
   "outputs": [
    {
     "data": {
      "text/plain": [
       "2"
      ]
     },
     "execution_count": 131,
     "metadata": {},
     "output_type": "execute_result"
    }
   ],
   "source": [
    "word6.find(\"love\")"
   ]
  },
  {
   "cell_type": "code",
   "execution_count": 135,
   "id": "0a5210ea",
   "metadata": {},
   "outputs": [
    {
     "data": {
      "text/plain": [
       "-1"
      ]
     },
     "execution_count": 135,
     "metadata": {},
     "output_type": "execute_result"
    }
   ],
   "source": [
    "word6.find(\"he\",28,30)"
   ]
  },
  {
   "cell_type": "code",
   "execution_count": 139,
   "id": "374c0ffe",
   "metadata": {},
   "outputs": [
    {
     "data": {
      "text/plain": [
       "10"
      ]
     },
     "execution_count": 139,
     "metadata": {},
     "output_type": "execute_result"
    }
   ],
   "source": [
    "word6.find(\"dad\",2,30)"
   ]
  },
  {
   "cell_type": "code",
   "execution_count": 140,
   "id": "aadee99f",
   "metadata": {},
   "outputs": [
    {
     "data": {
      "text/plain": [
       "5"
      ]
     },
     "execution_count": 140,
     "metadata": {},
     "output_type": "execute_result"
    }
   ],
   "source": [
    "word6.count('e') # count() the number of letters in the variable"
   ]
  },
  {
   "cell_type": "code",
   "execution_count": 141,
   "id": "a7ed458d",
   "metadata": {},
   "outputs": [
    {
     "data": {
      "text/plain": [
       "2"
      ]
     },
     "execution_count": 141,
     "metadata": {},
     "output_type": "execute_result"
    }
   ],
   "source": [
    "word6.count('r')"
   ]
  },
  {
   "cell_type": "code",
   "execution_count": 142,
   "id": "36cab6c2",
   "metadata": {},
   "outputs": [
    {
     "data": {
      "text/plain": [
       "'i love my dad ranga he is the legend'"
      ]
     },
     "execution_count": 142,
     "metadata": {},
     "output_type": "execute_result"
    }
   ],
   "source": [
    "word6.replace('greatest','legend') # replace() the char "
   ]
  },
  {
   "cell_type": "code",
   "execution_count": 143,
   "id": "ae32a5aa",
   "metadata": {},
   "outputs": [
    {
     "data": {
      "text/plain": [
       "38"
      ]
     },
     "execution_count": 143,
     "metadata": {},
     "output_type": "execute_result"
    }
   ],
   "source": [
    "len(word6) #len() finds the length of the list"
   ]
  },
  {
   "cell_type": "markdown",
   "id": "b91cc6d3",
   "metadata": {},
   "source": [
    "# join() string method returns a string by joining all the elements of an iterable(list,string,tuple), separated by a string separator\n"
   ]
  },
  {
   "cell_type": "code",
   "execution_count": 149,
   "id": "9ed2fbee",
   "metadata": {},
   "outputs": [
    {
     "data": {
      "text/plain": [
       "['Why', 'God', 'didnt', 'hear', 'my', 'prayer']"
      ]
     },
     "execution_count": 149,
     "metadata": {},
     "output_type": "execute_result"
    }
   ],
   "source": [
    "w = [\"Why\", \"God\", \"didnt\", \"hear\", \"my\", \"prayer\"]\n",
    "w"
   ]
  },
  {
   "cell_type": "code",
   "execution_count": 147,
   "id": "c1d3c3a2",
   "metadata": {},
   "outputs": [],
   "source": [
    "# join elements of text with no space"
   ]
  },
  {
   "cell_type": "code",
   "execution_count": 150,
   "id": "0acdd096",
   "metadata": {},
   "outputs": [
    {
     "data": {
      "text/plain": [
       "'WhyGoddidnthearmyprayer'"
      ]
     },
     "execution_count": 150,
     "metadata": {},
     "output_type": "execute_result"
    }
   ],
   "source": [
    "''.join(w)"
   ]
  },
  {
   "cell_type": "code",
   "execution_count": null,
   "id": "48489d6e",
   "metadata": {},
   "outputs": [],
   "source": [
    "# join elements of text with space"
   ]
  },
  {
   "cell_type": "code",
   "execution_count": 151,
   "id": "6e68eeda",
   "metadata": {},
   "outputs": [
    {
     "data": {
      "text/plain": [
       "'Why God didnt hear my prayer'"
      ]
     },
     "execution_count": 151,
     "metadata": {},
     "output_type": "execute_result"
    }
   ],
   "source": [
    "' '.join(w)"
   ]
  },
  {
   "cell_type": "code",
   "execution_count": null,
   "id": "6e20224b",
   "metadata": {},
   "outputs": [],
   "source": [
    "# casefold() ignores matching of words by lowercase and uppercase"
   ]
  },
  {
   "cell_type": "code",
   "execution_count": 152,
   "id": "b0969053",
   "metadata": {},
   "outputs": [
    {
     "name": "stdout",
     "output_type": "stream",
     "text": [
      "True\n"
     ]
    }
   ],
   "source": [
    "s1 = \"Tesla\"\n",
    "s2 = \"tesla\"\n",
    "\n",
    "if s1.casefold()==s2.casefold():\n",
    "    print(\"True\")\n",
    "else:\n",
    "    print(\"False\")"
   ]
  },
  {
   "cell_type": "code",
   "execution_count": 153,
   "id": "6cbbf087",
   "metadata": {},
   "outputs": [
    {
     "name": "stdout",
     "output_type": "stream",
     "text": [
      "False\n"
     ]
    }
   ],
   "source": [
    "t1 = \"Naveen\"\n",
    "t2 = \"Kumar\"\n",
    "\n",
    "if t1.casefold()==t2.casefold():\n",
    "    print(\"True\")\n",
    "else:\n",
    "    print(\"False\")"
   ]
  },
  {
   "cell_type": "markdown",
   "id": "0a5d4caa",
   "metadata": {},
   "source": [
    "# %s %d %f"
   ]
  },
  {
   "cell_type": "markdown",
   "id": "28cb66e6",
   "metadata": {},
   "source": [
    "Python uses C- style string formatting to create, new formatted strings. The \"%\" operator is used to format a set variables\n",
    "enclosed in a tuple(a fixed size list), together with a format string, which contains normal text together with \"argument\n",
    "specifiers\", special symbols like \"%s\" and \"%d\""
   ]
  },
  {
   "cell_type": "code",
   "execution_count": 159,
   "id": "34346487",
   "metadata": {},
   "outputs": [
    {
     "name": "stdout",
     "output_type": "stream",
     "text": [
      "Hello, naveen\n"
     ]
    }
   ],
   "source": [
    "name = \"naveen\"\n",
    "print(\"Hello, %s\"% name)"
   ]
  },
  {
   "cell_type": "code",
   "execution_count": 164,
   "id": "0db79005",
   "metadata": {},
   "outputs": [
    {
     "name": "stdout",
     "output_type": "stream",
     "text": [
      "naveen at the age 32 is getting a salary of 80000.001200\n",
      "Salary =80000.00\n"
     ]
    }
   ],
   "source": [
    "name = \"naveen\"\n",
    "age = 32\n",
    "salary = 80000.0012\n",
    "print(\"%s at the age %d is getting a salary of %f\" % (name,age,salary))\n",
    "\n",
    "print(\"Salary =%0.2f\" % salary)    # getting output of 2 decimals"
   ]
  },
  {
   "cell_type": "code",
   "execution_count": null,
   "id": "b5a6cb21",
   "metadata": {},
   "outputs": [],
   "source": []
  },
  {
   "cell_type": "markdown",
   "id": "9f78176a",
   "metadata": {},
   "source": [
    "# string.format functions"
   ]
  },
  {
   "cell_type": "code",
   "execution_count": 166,
   "id": "b45bd1ce",
   "metadata": {},
   "outputs": [
    {
     "name": "stdout",
     "output_type": "stream",
     "text": [
      "Naveen will rise from all odds\n"
     ]
    }
   ],
   "source": [
    "print(\"Naveen will {} from all {}\".format(\"rise\",\"odds\"))"
   ]
  },
  {
   "cell_type": "code",
   "execution_count": 167,
   "id": "dfa3f698",
   "metadata": {},
   "outputs": [
    {
     "name": "stdout",
     "output_type": "stream",
     "text": [
      "Naveen will rise from all odds\n"
     ]
    }
   ],
   "source": [
    "print(\"Naveen will {0} from all {1}\".format(\"rise\",\"odds\"))"
   ]
  },
  {
   "cell_type": "code",
   "execution_count": 173,
   "id": "51290537",
   "metadata": {},
   "outputs": [
    {
     "name": "stdout",
     "output_type": "stream",
     "text": [
      "Naveen will rise from all odds,rise rise rise\n"
     ]
    }
   ],
   "source": [
    "print(\"Naveen will {0} from all {1},{0} {0} {0}\".format(\"rise\",\"odds\"))"
   ]
  },
  {
   "cell_type": "code",
   "execution_count": null,
   "id": "aeef5e06",
   "metadata": {},
   "outputs": [],
   "source": []
  },
  {
   "cell_type": "markdown",
   "id": "a35934e2",
   "metadata": {},
   "source": [
    "# Functions"
   ]
  },
  {
   "cell_type": "markdown",
   "id": "36b54e0b",
   "metadata": {},
   "source": [
    "functions is a group of related statements that perform a specific task \n",
    "functions help break our program into smaller and modular chunks. As our program grows larger and larger, functions make it\n",
    "more organnized and manageable \n",
    "\n",
    "help(), print(), int(), float(), str(), type(), range(), min(), max(), len(), input(), list()"
   ]
  },
  {
   "cell_type": "code",
   "execution_count": null,
   "id": "dfdc7b6c",
   "metadata": {},
   "outputs": [],
   "source": []
  },
  {
   "cell_type": "code",
   "execution_count": 174,
   "id": "3f894459",
   "metadata": {},
   "outputs": [],
   "source": [
    "# Built in function(pre defined) - print() int() float() len() str() input() etc\n",
    "# User defined functions\n",
    "# Anonymous function or lambda functions"
   ]
  },
  {
   "cell_type": "code",
   "execution_count": 189,
   "id": "1a587a08",
   "metadata": {},
   "outputs": [
    {
     "name": "stdout",
     "output_type": "stream",
     "text": [
      "\n",
      "Welcome to Python 3.9's help utility!\n",
      "\n",
      "If this is your first time using Python, you should definitely check out\n",
      "the tutorial on the Internet at https://docs.python.org/3.9/tutorial/.\n",
      "\n",
      "Enter the name of any module, keyword, or topic to get help on writing\n",
      "Python programs and using Python modules.  To quit this help utility and\n",
      "return to the interpreter, just type \"quit\".\n",
      "\n",
      "To get a list of available modules, keywords, symbols, or topics, type\n",
      "\"modules\", \"keywords\", \"symbols\", or \"topics\".  Each module also comes\n",
      "with a one-line summary of what it does; to list the modules whose name\n",
      "or summary contain a given string such as \"spam\", type \"modules spam\".\n",
      "\n",
      "help> min\n",
      "Help on built-in function min in module builtins:\n",
      "\n",
      "min(...)\n",
      "    min(iterable, *[, default=obj, key=func]) -> value\n",
      "    min(arg1, arg2, *args, *[, key=func]) -> value\n",
      "    \n",
      "    With a single iterable argument, return its smallest item. The\n",
      "    default keyword-only argument specifies an object to return if\n",
      "    the provided iterable is empty.\n",
      "    With two or more arguments, return the smallest argument.\n",
      "\n",
      "help> max\n",
      "Help on built-in function max in module builtins:\n",
      "\n",
      "max(...)\n",
      "    max(iterable, *[, default=obj, key=func]) -> value\n",
      "    max(arg1, arg2, *args, *[, key=func]) -> value\n",
      "    \n",
      "    With a single iterable argument, return its biggest item. The\n",
      "    default keyword-only argument specifies an object to return if\n",
      "    the provided iterable is empty.\n",
      "    With two or more arguments, return the largest argument.\n",
      "\n",
      "help> input\n",
      "Help on method raw_input in module ipykernel.kernelbase:\n",
      "\n",
      "input = raw_input(prompt='') method of ipykernel.ipkernel.IPythonKernel instance\n",
      "    Forward raw_input to frontends\n",
      "    \n",
      "    Raises\n",
      "    ------\n",
      "    StdinNotImplementedError if active frontend doesn't support stdin.\n",
      "\n",
      "help> len\n",
      "Help on built-in function len in module builtins:\n",
      "\n",
      "len(obj, /)\n",
      "    Return the number of items in a container.\n",
      "\n",
      "help> symbols\n",
      "\n",
      "Here is a list of the punctuation symbols which Python assigns special meaning\n",
      "to. Enter any symbol to get more help.\n",
      "\n",
      "!=                  +                   <=                  __\n",
      "\"                   +=                  <>                  `\n",
      "\"\"\"                 ,                   ==                  b\"\n",
      "%                   -                   >                   b'\n",
      "%=                  -=                  >=                  f\"\n",
      "&                   .                   >>                  f'\n",
      "&=                  ...                 >>=                 j\n",
      "'                   /                   @                   r\"\n",
      "'''                 //                  J                   r'\n",
      "(                   //=                 [                   u\"\n",
      ")                   /=                  \\                   u'\n",
      "*                   :                   ]                   |\n",
      "**                  <                   ^                   |=\n",
      "**=                 <<                  ^=                  ~\n",
      "*=                  <<=                 _                   \n",
      "\n",
      "help> keywords\n",
      "\n",
      "Here is a list of the Python keywords.  Enter any keyword to get more help.\n",
      "\n",
      "False               break               for                 not\n",
      "None                class               from                or\n",
      "True                continue            global              pass\n",
      "__peg_parser__      def                 if                  raise\n",
      "and                 del                 import              return\n",
      "as                  elif                in                  try\n",
      "assert              else                is                  while\n",
      "async               except              lambda              with\n",
      "await               finally             nonlocal            yield\n",
      "\n",
      "help> topic\n",
      "No Python documentation found for 'topic'.\n",
      "Use help() to get the interactive help utility.\n",
      "Use help(str) for help on the str class.\n",
      "\n",
      "help> topics\n",
      "\n",
      "Here is a list of available topics.  Enter any topic name to get more help.\n",
      "\n",
      "ASSERTION           DELETION            LOOPING             SHIFTING\n",
      "ASSIGNMENT          DICTIONARIES        MAPPINGMETHODS      SLICINGS\n",
      "ATTRIBUTEMETHODS    DICTIONARYLITERALS  MAPPINGS            SPECIALATTRIBUTES\n",
      "ATTRIBUTES          DYNAMICFEATURES     METHODS             SPECIALIDENTIFIERS\n",
      "AUGMENTEDASSIGNMENT ELLIPSIS            MODULES             SPECIALMETHODS\n",
      "BASICMETHODS        EXCEPTIONS          NAMESPACES          STRINGMETHODS\n",
      "BINARY              EXECUTION           NONE                STRINGS\n",
      "BITWISE             EXPRESSIONS         NUMBERMETHODS       SUBSCRIPTS\n",
      "BOOLEAN             FLOAT               NUMBERS             TRACEBACKS\n",
      "CALLABLEMETHODS     FORMATTING          OBJECTS             TRUTHVALUE\n",
      "CALLS               FRAMEOBJECTS        OPERATORS           TUPLELITERALS\n",
      "CLASSES             FRAMES              PACKAGES            TUPLES\n",
      "CODEOBJECTS         FUNCTIONS           POWER               TYPEOBJECTS\n",
      "COMPARISON          IDENTIFIERS         PRECEDENCE          TYPES\n",
      "COMPLEX             IMPORTING           PRIVATENAMES        UNARY\n",
      "CONDITIONAL         INTEGER             RETURNING           UNICODE\n",
      "CONTEXTMANAGERS     LISTLITERALS        SCOPING             \n",
      "CONVERSIONS         LISTS               SEQUENCEMETHODS     \n",
      "DEBUGGING           LITERALS            SEQUENCES           \n",
      "\n",
      "\n",
      "You are now leaving help and returning to the Python interpreter.\n",
      "If you want to ask for help on a particular object directly from the\n",
      "interpreter, you can type \"help(object)\".  Executing \"help('string')\"\n",
      "has the same effect as typing a particular string at the help> prompt.\n"
     ]
    }
   ],
   "source": [
    "help()"
   ]
  },
  {
   "cell_type": "code",
   "execution_count": 184,
   "id": "3195ff94",
   "metadata": {},
   "outputs": [],
   "source": [
    "list5 = [1,2,3,4,5,6,7,8,9,10]"
   ]
  },
  {
   "cell_type": "code",
   "execution_count": 186,
   "id": "1cfea023",
   "metadata": {},
   "outputs": [
    {
     "data": {
      "text/plain": [
       "1"
      ]
     },
     "execution_count": 186,
     "metadata": {},
     "output_type": "execute_result"
    }
   ],
   "source": [
    "min(list5)"
   ]
  },
  {
   "cell_type": "code",
   "execution_count": 188,
   "id": "e5914599",
   "metadata": {},
   "outputs": [
    {
     "data": {
      "text/plain": [
       "10"
      ]
     },
     "execution_count": 188,
     "metadata": {},
     "output_type": "execute_result"
    }
   ],
   "source": [
    "max(list5)"
   ]
  },
  {
   "cell_type": "code",
   "execution_count": null,
   "id": "dffc91e5",
   "metadata": {},
   "outputs": [],
   "source": []
  },
  {
   "cell_type": "markdown",
   "id": "985e736a",
   "metadata": {},
   "source": [
    "# User - defined functions"
   ]
  },
  {
   "cell_type": "code",
   "execution_count": 193,
   "id": "a442e9f5",
   "metadata": {},
   "outputs": [],
   "source": [
    "# function definition\n",
    "\n",
    "def function1():\n",
    "    print(\"Hello\")"
   ]
  },
  {
   "cell_type": "code",
   "execution_count": 195,
   "id": "962cfb47",
   "metadata": {},
   "outputs": [
    {
     "name": "stdout",
     "output_type": "stream",
     "text": [
      "Hello\n"
     ]
    }
   ],
   "source": [
    "# calling function\n",
    "\n",
    "function1()"
   ]
  },
  {
   "cell_type": "code",
   "execution_count": 196,
   "id": "ffcd5c4e",
   "metadata": {},
   "outputs": [],
   "source": [
    "def function2():\n",
    "    print(\"inside function2\")"
   ]
  },
  {
   "cell_type": "code",
   "execution_count": 198,
   "id": "399c4793",
   "metadata": {},
   "outputs": [
    {
     "name": "stdout",
     "output_type": "stream",
     "text": [
      "inside function2\n"
     ]
    }
   ],
   "source": [
    "function2()"
   ]
  },
  {
   "cell_type": "code",
   "execution_count": 199,
   "id": "a92d2ba8",
   "metadata": {},
   "outputs": [],
   "source": [
    "def function3():\n",
    "    print(\"learning\")\n",
    "    print(\"Python\")\n",
    "    print(\"backtracking\")"
   ]
  },
  {
   "cell_type": "code",
   "execution_count": 200,
   "id": "2a8b91a5",
   "metadata": {},
   "outputs": [
    {
     "name": "stdout",
     "output_type": "stream",
     "text": [
      "learning\n",
      "Python\n",
      "backtracking\n"
     ]
    }
   ],
   "source": [
    "function3()"
   ]
  },
  {
   "cell_type": "code",
   "execution_count": 204,
   "id": "58fcea86",
   "metadata": {},
   "outputs": [],
   "source": [
    "def addition():\n",
    "    a = 10\n",
    "    b = 20\n",
    "    c = a+b\n",
    "    print(\"The value of c =\",c)"
   ]
  },
  {
   "cell_type": "code",
   "execution_count": 205,
   "id": "3542db6b",
   "metadata": {},
   "outputs": [
    {
     "name": "stdout",
     "output_type": "stream",
     "text": [
      "The value of c = 30\n"
     ]
    }
   ],
   "source": [
    "addition()"
   ]
  },
  {
   "cell_type": "code",
   "execution_count": 206,
   "id": "7a6ba64a",
   "metadata": {},
   "outputs": [],
   "source": [
    "def subtraction():\n",
    "    a = 10\n",
    "    b = 20\n",
    "    c = b - a \n",
    "    print(\"The value of c =\",c)"
   ]
  },
  {
   "cell_type": "code",
   "execution_count": 207,
   "id": "940965c3",
   "metadata": {},
   "outputs": [
    {
     "name": "stdout",
     "output_type": "stream",
     "text": [
      "The value of c = 10\n"
     ]
    }
   ],
   "source": [
    "subtraction()"
   ]
  },
  {
   "cell_type": "code",
   "execution_count": 212,
   "id": "07ceb2ec",
   "metadata": {},
   "outputs": [],
   "source": [
    "def multiply_fun():\n",
    "    a = 5\n",
    "    b = 6\n",
    "    c = a*b\n",
    "    print(\"Multiplication value c = \",c)"
   ]
  },
  {
   "cell_type": "code",
   "execution_count": 213,
   "id": "e4098825",
   "metadata": {},
   "outputs": [
    {
     "name": "stdout",
     "output_type": "stream",
     "text": [
      "Multiplication value c =  30\n"
     ]
    }
   ],
   "source": [
    "multiply_fun()"
   ]
  },
  {
   "cell_type": "code",
   "execution_count": 218,
   "id": "bae27fba",
   "metadata": {},
   "outputs": [],
   "source": [
    "def square_fun():\n",
    "    x = 7\n",
    "    print(\"The value of square x = 6 :\", x**2)"
   ]
  },
  {
   "cell_type": "code",
   "execution_count": 219,
   "id": "27f409d2",
   "metadata": {},
   "outputs": [
    {
     "name": "stdout",
     "output_type": "stream",
     "text": [
      "The value of square x = 6 : 49\n"
     ]
    }
   ],
   "source": [
    "square_fun()"
   ]
  },
  {
   "cell_type": "code",
   "execution_count": 222,
   "id": "e64862f1",
   "metadata": {},
   "outputs": [],
   "source": [
    "def area_of_circle():\n",
    "    pi = 3.14\n",
    "    radius = 5\n",
    "    area = pi*(radius**2)\n",
    "    print(\"Area of circle = \",area)\n",
    "    print(\"Area of circle with pi =\",3.14,\"radius =\",5, \":\",area)"
   ]
  },
  {
   "cell_type": "code",
   "execution_count": 223,
   "id": "807598be",
   "metadata": {},
   "outputs": [
    {
     "name": "stdout",
     "output_type": "stream",
     "text": [
      "Area of circle =  78.5\n",
      "Area of circle with pi = 3.14 radius = 5 : 78.5\n"
     ]
    }
   ],
   "source": [
    "area_of_circle()"
   ]
  },
  {
   "cell_type": "code",
   "execution_count": 225,
   "id": "e34585a6",
   "metadata": {},
   "outputs": [],
   "source": [
    "def area_of_rectangle():\n",
    "    length = 200\n",
    "    breadth = 100\n",
    "    area_rect = length*breadth\n",
    "    print(\"Area of rectangle =\", area_rect)\n",
    "    print(\"Area of rectangle length =\",length,\"breadth =\", breadth,\":\",area_rect)"
   ]
  },
  {
   "cell_type": "code",
   "execution_count": 227,
   "id": "9dee000f",
   "metadata": {},
   "outputs": [
    {
     "name": "stdout",
     "output_type": "stream",
     "text": [
      "Area of rectangle = 20000\n",
      "Area of rectangle length = 200 breadth = 100 : 20000\n"
     ]
    }
   ],
   "source": [
    "area_of_rectangle()"
   ]
  },
  {
   "cell_type": "code",
   "execution_count": null,
   "id": "665e016c",
   "metadata": {},
   "outputs": [],
   "source": []
  },
  {
   "cell_type": "code",
   "execution_count": 1,
   "id": "4b378cfd",
   "metadata": {},
   "outputs": [],
   "source": [
    "def squareroot_fun():\n",
    "    x = 25\n",
    "    y = x**(1/2)\n",
    "    print(\"The square root of\",x, \"is\",y)"
   ]
  },
  {
   "cell_type": "code",
   "execution_count": 2,
   "id": "8299e264",
   "metadata": {},
   "outputs": [
    {
     "name": "stdout",
     "output_type": "stream",
     "text": [
      "The square root of 25 is 5.0\n"
     ]
    }
   ],
   "source": [
    "squareroot_fun()"
   ]
  },
  {
   "cell_type": "code",
   "execution_count": 4,
   "id": "d4eaee59",
   "metadata": {},
   "outputs": [],
   "source": [
    "def squareroot_fun():\n",
    "    x = int(input(\"Enter the value\"))\n",
    "    y = x**(1/2)\n",
    "    print(\"The square root of\",x, \"is\",y)"
   ]
  },
  {
   "cell_type": "code",
   "execution_count": 5,
   "id": "0175dbec",
   "metadata": {},
   "outputs": [
    {
     "name": "stdout",
     "output_type": "stream",
     "text": [
      "Enter the value60\n",
      "The square root of 60 is 7.745966692414834\n"
     ]
    }
   ],
   "source": [
    "squareroot_fun()"
   ]
  },
  {
   "cell_type": "code",
   "execution_count": 6,
   "id": "af8f0aba",
   "metadata": {},
   "outputs": [
    {
     "name": "stdout",
     "output_type": "stream",
     "text": [
      "Enter the value50\n",
      "The square root of 50 is 7.0710678118654755\n"
     ]
    }
   ],
   "source": [
    "squareroot_fun()"
   ]
  },
  {
   "cell_type": "code",
   "execution_count": 7,
   "id": "b5a2c792",
   "metadata": {},
   "outputs": [
    {
     "name": "stdout",
     "output_type": "stream",
     "text": [
      "Enter the value36\n",
      "The square root of 36 is 6.0\n"
     ]
    }
   ],
   "source": [
    "squareroot_fun()"
   ]
  },
  {
   "cell_type": "code",
   "execution_count": 8,
   "id": "973b4b53",
   "metadata": {},
   "outputs": [],
   "source": [
    "def area_of_circle():\n",
    "    pi = 3.14\n",
    "    radius = 12\n",
    "    area = pi*(radius**2)\n",
    "    print(\"The area of circle =\",area)"
   ]
  },
  {
   "cell_type": "code",
   "execution_count": 9,
   "id": "0e32c3e4",
   "metadata": {},
   "outputs": [
    {
     "name": "stdout",
     "output_type": "stream",
     "text": [
      "The area of circle = 452.16\n"
     ]
    }
   ],
   "source": [
    "area_of_circle()"
   ]
  },
  {
   "cell_type": "code",
   "execution_count": 10,
   "id": "9d7dd925",
   "metadata": {},
   "outputs": [],
   "source": [
    "def area_of_circle():\n",
    "    pi = 3.14\n",
    "    radius = int(input(\"Enter radius\"))\n",
    "    area = pi*(radius**2)\n",
    "    print(\"The area of circle =\",area)"
   ]
  },
  {
   "cell_type": "code",
   "execution_count": 11,
   "id": "83f11e21",
   "metadata": {},
   "outputs": [
    {
     "name": "stdout",
     "output_type": "stream",
     "text": [
      "Enter radius10\n",
      "The area of circle = 314.0\n"
     ]
    }
   ],
   "source": [
    "area_of_circle()"
   ]
  },
  {
   "cell_type": "code",
   "execution_count": 13,
   "id": "63cd14d1",
   "metadata": {},
   "outputs": [],
   "source": [
    "def sq():\n",
    "    x = int(input(\"Enter any number\"))\n",
    "    square_root = x**(1/2)\n",
    "    print(\"The square root of x\",x,\"is\",square_root)\n",
    "    square = x**2\n",
    "    print(\"The square of x\",x,\"is\",square)"
   ]
  },
  {
   "cell_type": "code",
   "execution_count": 14,
   "id": "8c656691",
   "metadata": {},
   "outputs": [
    {
     "name": "stdout",
     "output_type": "stream",
     "text": [
      "Enter any number25\n",
      "The square root of x 25 is 5.0\n",
      "The square of x 25 is 625\n"
     ]
    }
   ],
   "source": [
    "sq()"
   ]
  },
  {
   "cell_type": "code",
   "execution_count": 15,
   "id": "586c89e7",
   "metadata": {},
   "outputs": [
    {
     "name": "stdout",
     "output_type": "stream",
     "text": [
      "Enter any number363\n",
      "The square root of x 363 is 19.05255888325765\n",
      "The square of x 363 is 131769\n"
     ]
    }
   ],
   "source": [
    "sq()"
   ]
  },
  {
   "cell_type": "code",
   "execution_count": 19,
   "id": "a45c0f53",
   "metadata": {},
   "outputs": [],
   "source": [
    "def sq1():\n",
    "    x = int(input(\"Enter any number\"))\n",
    "    square_root = x**(1/2)\n",
    "    print(\"The square root of x\",x,\"is\",round(square_root,2))    # To control the decimal value in output\n",
    "    square = x**2\n",
    "    print(\"The square of x\",x,\"is\",round(square,2))   # To control the decimal value in output"
   ]
  },
  {
   "cell_type": "code",
   "execution_count": 21,
   "id": "8b584d2f",
   "metadata": {},
   "outputs": [
    {
     "name": "stdout",
     "output_type": "stream",
     "text": [
      "Enter any number363\n",
      "The square root of x 363 is 19.05\n",
      "The square of x 363 is 131769\n"
     ]
    }
   ],
   "source": [
    "sq1()    # To control the decimal value in output"
   ]
  },
  {
   "cell_type": "code",
   "execution_count": null,
   "id": "0805c04f",
   "metadata": {},
   "outputs": [],
   "source": [
    "3"
   ]
  },
  {
   "cell_type": "code",
   "execution_count": 22,
   "id": "db2d4116",
   "metadata": {},
   "outputs": [],
   "source": [
    "R = 24.071953"
   ]
  },
  {
   "cell_type": "code",
   "execution_count": 23,
   "id": "7f1c0c89",
   "metadata": {},
   "outputs": [
    {
     "data": {
      "text/plain": [
       "24.07"
      ]
     },
     "execution_count": 23,
     "metadata": {},
     "output_type": "execute_result"
    }
   ],
   "source": [
    "round(R,2)"
   ]
  },
  {
   "cell_type": "code",
   "execution_count": 32,
   "id": "caeaae3a",
   "metadata": {},
   "outputs": [],
   "source": [
    "def area_rect():\n",
    "    l = float(input(\"Enter length\"))\n",
    "    b = float(input(\"Enter breadth\"))\n",
    "    area = l*b\n",
    "    print(area,round(area,2))"
   ]
  },
  {
   "cell_type": "code",
   "execution_count": 30,
   "id": "7f0b32c9",
   "metadata": {},
   "outputs": [
    {
     "name": "stdout",
     "output_type": "stream",
     "text": [
      "Enter length22.05\n",
      "Enter breadth12.05\n",
      "265.70250000000004 265.7\n"
     ]
    }
   ],
   "source": [
    "area_rect()"
   ]
  },
  {
   "cell_type": "code",
   "execution_count": null,
   "id": "0b776793",
   "metadata": {},
   "outputs": [],
   "source": []
  },
  {
   "cell_type": "markdown",
   "id": "d53c4c59",
   "metadata": {},
   "source": [
    "# Parametric functions"
   ]
  },
  {
   "cell_type": "code",
   "execution_count": 34,
   "id": "c6a4230a",
   "metadata": {},
   "outputs": [],
   "source": [
    "# a and b are arguments/parameters\n",
    "\n",
    "def add_f(a,b):\n",
    "    result = a+b\n",
    "    print(\"result =\", result)"
   ]
  },
  {
   "cell_type": "code",
   "execution_count": 35,
   "id": "5d537963",
   "metadata": {},
   "outputs": [
    {
     "name": "stdout",
     "output_type": "stream",
     "text": [
      "result = 30\n"
     ]
    }
   ],
   "source": [
    "a = 10\n",
    "b =20\n",
    "add_f(a,b)"
   ]
  },
  {
   "cell_type": "code",
   "execution_count": 36,
   "id": "e0624957",
   "metadata": {},
   "outputs": [],
   "source": [
    "def sub(a,b):\n",
    "    res = a - b\n",
    "    print(\"Result =\", res)"
   ]
  },
  {
   "cell_type": "code",
   "execution_count": 37,
   "id": "7e44a73f",
   "metadata": {},
   "outputs": [
    {
     "name": "stdout",
     "output_type": "stream",
     "text": [
      "Result = 25\n"
     ]
    }
   ],
   "source": [
    "a = 50\n",
    "b = 25\n",
    "sub(a,b)"
   ]
  },
  {
   "cell_type": "code",
   "execution_count": 38,
   "id": "7d44dbcc",
   "metadata": {},
   "outputs": [],
   "source": [
    "def square(a):\n",
    "    ans = a**2\n",
    "    print('Answer = ',ans)"
   ]
  },
  {
   "cell_type": "code",
   "execution_count": 39,
   "id": "55eaebfe",
   "metadata": {},
   "outputs": [
    {
     "name": "stdout",
     "output_type": "stream",
     "text": [
      "Answer =  625\n"
     ]
    }
   ],
   "source": [
    "a = 25\n",
    "square(25)"
   ]
  },
  {
   "cell_type": "code",
   "execution_count": 40,
   "id": "aec148cb",
   "metadata": {},
   "outputs": [],
   "source": [
    "def area_of_circle(radius):\n",
    "    pi = 3.14\n",
    "    area = pi*(radius**2)\n",
    "    print(\"The area of circle =\",area)"
   ]
  },
  {
   "cell_type": "code",
   "execution_count": 41,
   "id": "36af10d8",
   "metadata": {},
   "outputs": [
    {
     "name": "stdout",
     "output_type": "stream",
     "text": [
      "Enter radius22\n",
      "The area of circle = 1519.76\n"
     ]
    }
   ],
   "source": [
    "radius = int(input(\"Enter radius\"))\n",
    "area_of_circle(radius)"
   ]
  },
  {
   "cell_type": "code",
   "execution_count": 43,
   "id": "2dfa0640",
   "metadata": {},
   "outputs": [],
   "source": [
    "def sq2(x):\n",
    "    square_root = x**(1/2)\n",
    "    print(\"The square root of x\",x,\"is\",round(square_root,2))    # To control the decimal value in output\n",
    "    square = x**2\n",
    "    print(\"The square of x\",x,\"is\",round(square,2))   # To control the decimal value in output"
   ]
  },
  {
   "cell_type": "code",
   "execution_count": 44,
   "id": "ce2cc563",
   "metadata": {},
   "outputs": [
    {
     "name": "stdout",
     "output_type": "stream",
     "text": [
      "Enter any number5\n",
      "The square root of x 5 is 2.24\n",
      "The square of x 5 is 25\n"
     ]
    }
   ],
   "source": [
    "x = int(input(\"Enter any number\"))\n",
    "sq2(x)"
   ]
  },
  {
   "cell_type": "code",
   "execution_count": null,
   "id": "30639685",
   "metadata": {},
   "outputs": [],
   "source": []
  },
  {
   "cell_type": "code",
   "execution_count": 50,
   "id": "b25299a2",
   "metadata": {},
   "outputs": [],
   "source": [
    "def func1():\n",
    "    for i in range(1,11):\n",
    "        print(i,end=\" \")\n",
    "    "
   ]
  },
  {
   "cell_type": "code",
   "execution_count": 51,
   "id": "c31d3714",
   "metadata": {},
   "outputs": [
    {
     "name": "stdout",
     "output_type": "stream",
     "text": [
      "1 2 3 4 5 6 7 8 9 10 "
     ]
    }
   ],
   "source": [
    "func1()"
   ]
  },
  {
   "cell_type": "code",
   "execution_count": 52,
   "id": "1fb7c2b6",
   "metadata": {},
   "outputs": [],
   "source": [
    "def func2(y):\n",
    "    for i in range(1,11):\n",
    "        print(i,end=\" \")"
   ]
  },
  {
   "cell_type": "code",
   "execution_count": 53,
   "id": "1e421a67",
   "metadata": {},
   "outputs": [
    {
     "name": "stdout",
     "output_type": "stream",
     "text": [
      "1 2 3 4 5 6 7 8 9 10 "
     ]
    }
   ],
   "source": [
    "y =10\n",
    "func2(y)"
   ]
  },
  {
   "cell_type": "code",
   "execution_count": 56,
   "id": "8843e35f",
   "metadata": {},
   "outputs": [],
   "source": [
    "def func3():\n",
    "    for i in range(0,11,2):\n",
    "        print(i,end=\" \")"
   ]
  },
  {
   "cell_type": "code",
   "execution_count": 57,
   "id": "a8345678",
   "metadata": {},
   "outputs": [
    {
     "name": "stdout",
     "output_type": "stream",
     "text": [
      "0 2 4 6 8 10 "
     ]
    }
   ],
   "source": [
    "func3()"
   ]
  },
  {
   "cell_type": "code",
   "execution_count": 59,
   "id": "7221a321",
   "metadata": {},
   "outputs": [],
   "source": [
    "def table_fun(x):\n",
    "    for i in range(1,11):\n",
    "        print(x,\"*\",i,\"=\",x*i)"
   ]
  },
  {
   "cell_type": "code",
   "execution_count": 60,
   "id": "69f40cb5",
   "metadata": {},
   "outputs": [
    {
     "name": "stdout",
     "output_type": "stream",
     "text": [
      "Enter number5\n",
      "5 * 1 = 5\n",
      "5 * 2 = 10\n",
      "5 * 3 = 15\n",
      "5 * 4 = 20\n",
      "5 * 5 = 25\n",
      "5 * 6 = 30\n",
      "5 * 7 = 35\n",
      "5 * 8 = 40\n",
      "5 * 9 = 45\n",
      "5 * 10 = 50\n"
     ]
    }
   ],
   "source": [
    "x = int(input(\"Enter number\"))\n",
    "table_fun(x)\n",
    "    "
   ]
  },
  {
   "cell_type": "code",
   "execution_count": 61,
   "id": "79e73df3",
   "metadata": {},
   "outputs": [],
   "source": [
    "def test_f():\n",
    "    list1 = []\n",
    "    for i in range(1,10):\n",
    "        list1.append(i)\n",
    "    print(list1)"
   ]
  },
  {
   "cell_type": "code",
   "execution_count": 62,
   "id": "3fa37ad7",
   "metadata": {},
   "outputs": [
    {
     "name": "stdout",
     "output_type": "stream",
     "text": [
      "[1, 2, 3, 4, 5, 6, 7, 8, 9]\n"
     ]
    }
   ],
   "source": [
    "test_f()"
   ]
  },
  {
   "cell_type": "code",
   "execution_count": 67,
   "id": "8781c642",
   "metadata": {},
   "outputs": [
    {
     "name": "stdout",
     "output_type": "stream",
     "text": [
      "['A', 'B', 'C']\n"
     ]
    }
   ],
   "source": [
    "def test_f2():\n",
    "    list2 = []\n",
    "    for i in ['A','B','C']:\n",
    "        list2.append(i)\n",
    "    print(list2)\n",
    "test_f2()"
   ]
  },
  {
   "cell_type": "code",
   "execution_count": 72,
   "id": "29f657a4",
   "metadata": {},
   "outputs": [
    {
     "name": "stdout",
     "output_type": "stream",
     "text": [
      "Enter Planet NameMercury\n",
      "Enter Planet NameVenus\n",
      "Enter Planet Nameearth\n",
      "Enter Planet NameMars\n",
      "Enter Planet NameJupiter\n",
      "['Mercury', 'Venus', 'earth', 'Mars', 'Jupiter']\n"
     ]
    }
   ],
   "source": [
    "def test_f3():\n",
    "    list3 = []\n",
    "    for i in range(0,5):\n",
    "        planet = input(\"Enter Planet Name\")\n",
    "        list3.append(planet)\n",
    "    print(list3)    \n",
    "test_f3()"
   ]
  },
  {
   "cell_type": "code",
   "execution_count": 76,
   "id": "ebd42ff8",
   "metadata": {},
   "outputs": [
    {
     "name": "stdout",
     "output_type": "stream",
     "text": [
      "[0, 2, 4, 6, 8, 10, 12, 14, 16, 18]\n"
     ]
    }
   ],
   "source": [
    "def test_f4():\n",
    "    list4 = []\n",
    "    for i in range(20):\n",
    "        if i%2==0:\n",
    "            list4.append(i)\n",
    "    print(list4)\n",
    "test_f4()"
   ]
  },
  {
   "cell_type": "code",
   "execution_count": null,
   "id": "5ef7931a",
   "metadata": {},
   "outputs": [],
   "source": []
  },
  {
   "cell_type": "code",
   "execution_count": 75,
   "id": "39f3329b",
   "metadata": {},
   "outputs": [
    {
     "name": "stdout",
     "output_type": "stream",
     "text": [
      "[1, 3, 5, 7, 9, 11, 13, 15, 17, 19]\n"
     ]
    }
   ],
   "source": [
    "def test_f5():\n",
    "    list5 = []\n",
    "    for i in range(20):\n",
    "        if i%2!=0:\n",
    "            list5.append(i)\n",
    "    print(list5)\n",
    "test_f5()"
   ]
  },
  {
   "cell_type": "code",
   "execution_count": null,
   "id": "af39da6a",
   "metadata": {},
   "outputs": [],
   "source": []
  },
  {
   "cell_type": "code",
   "execution_count": null,
   "id": "00c21052",
   "metadata": {},
   "outputs": [],
   "source": []
  },
  {
   "cell_type": "code",
   "execution_count": 14,
   "id": "8a429fd6",
   "metadata": {},
   "outputs": [
    {
     "name": "stdout",
     "output_type": "stream",
     "text": [
      "['John', 'Janet', 'James', 'Julie']\n",
      "['45', '40', '12', '8']\n",
      "['father', 'mother', 'son', 'daughter']\n"
     ]
    }
   ],
   "source": [
    "family = [['John', '45', 'father'] ,['Janet', '40', 'mother'],['James', '12', 'son'],['Julie', '8', 'daughter']]\n",
    "\n",
    "\n",
    "\n",
    "name = [item[0] for item in family]\n",
    "\n",
    "age = [item[1] for item in family]\n",
    "\n",
    "relationship = [item[2] for item in family]\n",
    "\n",
    "\n",
    "\n",
    "print(name)\n",
    "\n",
    "print(age)\n",
    "\n",
    "print(relationship)"
   ]
  },
  {
   "cell_type": "code",
   "execution_count": null,
   "id": "f61ba85f",
   "metadata": {},
   "outputs": [],
   "source": []
  },
  {
   "cell_type": "code",
   "execution_count": null,
   "id": "eafbe57b",
   "metadata": {},
   "outputs": [],
   "source": []
  },
  {
   "cell_type": "code",
   "execution_count": null,
   "id": "b76decc4",
   "metadata": {},
   "outputs": [],
   "source": []
  },
  {
   "cell_type": "code",
   "execution_count": null,
   "id": "699ac65d",
   "metadata": {},
   "outputs": [],
   "source": []
  },
  {
   "cell_type": "code",
   "execution_count": null,
   "id": "875a180c",
   "metadata": {},
   "outputs": [],
   "source": []
  },
  {
   "cell_type": "code",
   "execution_count": null,
   "id": "8d344050",
   "metadata": {},
   "outputs": [],
   "source": []
  },
  {
   "cell_type": "code",
   "execution_count": null,
   "id": "8b751b69",
   "metadata": {},
   "outputs": [],
   "source": []
  },
  {
   "cell_type": "code",
   "execution_count": null,
   "id": "b056b1b3",
   "metadata": {},
   "outputs": [],
   "source": []
  },
  {
   "cell_type": "code",
   "execution_count": null,
   "id": "07304252",
   "metadata": {},
   "outputs": [],
   "source": []
  },
  {
   "cell_type": "code",
   "execution_count": null,
   "id": "a5da5200",
   "metadata": {},
   "outputs": [],
   "source": []
  },
  {
   "cell_type": "code",
   "execution_count": null,
   "id": "76a6b8b3",
   "metadata": {},
   "outputs": [],
   "source": []
  },
  {
   "cell_type": "code",
   "execution_count": null,
   "id": "55e9d653",
   "metadata": {},
   "outputs": [],
   "source": []
  },
  {
   "cell_type": "code",
   "execution_count": null,
   "id": "d5a91b51",
   "metadata": {},
   "outputs": [],
   "source": []
  },
  {
   "cell_type": "code",
   "execution_count": null,
   "id": "18dd3eb9",
   "metadata": {},
   "outputs": [],
   "source": []
  },
  {
   "cell_type": "code",
   "execution_count": null,
   "id": "756d2850",
   "metadata": {},
   "outputs": [],
   "source": []
  },
  {
   "cell_type": "code",
   "execution_count": null,
   "id": "af3bb60f",
   "metadata": {},
   "outputs": [],
   "source": []
  },
  {
   "cell_type": "code",
   "execution_count": null,
   "id": "8d878aba",
   "metadata": {},
   "outputs": [],
   "source": []
  },
  {
   "cell_type": "code",
   "execution_count": null,
   "id": "c51f149a",
   "metadata": {},
   "outputs": [],
   "source": []
  },
  {
   "cell_type": "code",
   "execution_count": null,
   "id": "a65fc349",
   "metadata": {},
   "outputs": [],
   "source": []
  },
  {
   "cell_type": "code",
   "execution_count": null,
   "id": "1bc5162c",
   "metadata": {},
   "outputs": [],
   "source": []
  },
  {
   "cell_type": "code",
   "execution_count": null,
   "id": "4150a911",
   "metadata": {},
   "outputs": [],
   "source": []
  },
  {
   "cell_type": "code",
   "execution_count": null,
   "id": "0c94dc2d",
   "metadata": {},
   "outputs": [],
   "source": []
  },
  {
   "cell_type": "code",
   "execution_count": null,
   "id": "b3fbe64b",
   "metadata": {},
   "outputs": [],
   "source": []
  },
  {
   "cell_type": "code",
   "execution_count": null,
   "id": "c342d164",
   "metadata": {},
   "outputs": [],
   "source": []
  },
  {
   "cell_type": "code",
   "execution_count": null,
   "id": "98e80706",
   "metadata": {},
   "outputs": [],
   "source": []
  },
  {
   "cell_type": "code",
   "execution_count": null,
   "id": "dd821161",
   "metadata": {},
   "outputs": [],
   "source": []
  },
  {
   "cell_type": "code",
   "execution_count": null,
   "id": "fafb02bd",
   "metadata": {},
   "outputs": [],
   "source": []
  },
  {
   "cell_type": "code",
   "execution_count": null,
   "id": "e671bedb",
   "metadata": {},
   "outputs": [],
   "source": []
  },
  {
   "cell_type": "code",
   "execution_count": null,
   "id": "664f0530",
   "metadata": {},
   "outputs": [],
   "source": []
  },
  {
   "cell_type": "code",
   "execution_count": null,
   "id": "7545ed0c",
   "metadata": {},
   "outputs": [],
   "source": []
  },
  {
   "cell_type": "code",
   "execution_count": null,
   "id": "4c0e37cf",
   "metadata": {},
   "outputs": [],
   "source": []
  },
  {
   "cell_type": "code",
   "execution_count": null,
   "id": "515d7313",
   "metadata": {},
   "outputs": [],
   "source": []
  },
  {
   "cell_type": "code",
   "execution_count": null,
   "id": "a9bd0c6a",
   "metadata": {},
   "outputs": [],
   "source": []
  },
  {
   "cell_type": "code",
   "execution_count": null,
   "id": "1157aaeb",
   "metadata": {},
   "outputs": [],
   "source": []
  },
  {
   "cell_type": "code",
   "execution_count": null,
   "id": "904e1c65",
   "metadata": {},
   "outputs": [],
   "source": []
  },
  {
   "cell_type": "code",
   "execution_count": null,
   "id": "61bbb2c4",
   "metadata": {},
   "outputs": [],
   "source": []
  },
  {
   "cell_type": "code",
   "execution_count": null,
   "id": "78059195",
   "metadata": {},
   "outputs": [],
   "source": []
  },
  {
   "cell_type": "code",
   "execution_count": null,
   "id": "88643bb8",
   "metadata": {},
   "outputs": [],
   "source": []
  },
  {
   "cell_type": "code",
   "execution_count": null,
   "id": "a0c225f5",
   "metadata": {},
   "outputs": [],
   "source": []
  },
  {
   "cell_type": "code",
   "execution_count": null,
   "id": "f19a0e75",
   "metadata": {},
   "outputs": [],
   "source": []
  },
  {
   "cell_type": "code",
   "execution_count": null,
   "id": "1092c068",
   "metadata": {},
   "outputs": [],
   "source": []
  },
  {
   "cell_type": "code",
   "execution_count": null,
   "id": "497cab59",
   "metadata": {},
   "outputs": [],
   "source": []
  },
  {
   "cell_type": "code",
   "execution_count": null,
   "id": "2222daac",
   "metadata": {},
   "outputs": [],
   "source": []
  },
  {
   "cell_type": "code",
   "execution_count": null,
   "id": "3a0c5dc0",
   "metadata": {},
   "outputs": [],
   "source": []
  },
  {
   "cell_type": "code",
   "execution_count": null,
   "id": "3170662a",
   "metadata": {},
   "outputs": [],
   "source": []
  },
  {
   "cell_type": "code",
   "execution_count": null,
   "id": "c710eac3",
   "metadata": {},
   "outputs": [],
   "source": []
  },
  {
   "cell_type": "code",
   "execution_count": null,
   "id": "a4eaf178",
   "metadata": {},
   "outputs": [],
   "source": []
  },
  {
   "cell_type": "code",
   "execution_count": null,
   "id": "8e3e117d",
   "metadata": {},
   "outputs": [],
   "source": []
  },
  {
   "cell_type": "code",
   "execution_count": null,
   "id": "ae282688",
   "metadata": {},
   "outputs": [],
   "source": []
  },
  {
   "cell_type": "code",
   "execution_count": null,
   "id": "ff3cadb1",
   "metadata": {},
   "outputs": [],
   "source": []
  },
  {
   "cell_type": "code",
   "execution_count": null,
   "id": "6fe5ca99",
   "metadata": {},
   "outputs": [],
   "source": []
  },
  {
   "cell_type": "code",
   "execution_count": null,
   "id": "9b3014b3",
   "metadata": {},
   "outputs": [],
   "source": []
  },
  {
   "cell_type": "code",
   "execution_count": null,
   "id": "7c1e6fd6",
   "metadata": {},
   "outputs": [],
   "source": []
  },
  {
   "cell_type": "code",
   "execution_count": null,
   "id": "9f0d62db",
   "metadata": {},
   "outputs": [],
   "source": []
  },
  {
   "cell_type": "code",
   "execution_count": null,
   "id": "a1665499",
   "metadata": {},
   "outputs": [],
   "source": []
  },
  {
   "cell_type": "code",
   "execution_count": null,
   "id": "ec452975",
   "metadata": {},
   "outputs": [],
   "source": []
  },
  {
   "cell_type": "code",
   "execution_count": null,
   "id": "5ceaf9ce",
   "metadata": {},
   "outputs": [],
   "source": []
  },
  {
   "cell_type": "code",
   "execution_count": null,
   "id": "55b673ec",
   "metadata": {},
   "outputs": [],
   "source": []
  },
  {
   "cell_type": "code",
   "execution_count": null,
   "id": "2c3e2933",
   "metadata": {},
   "outputs": [],
   "source": []
  },
  {
   "cell_type": "code",
   "execution_count": null,
   "id": "64d02034",
   "metadata": {},
   "outputs": [],
   "source": []
  },
  {
   "cell_type": "code",
   "execution_count": null,
   "id": "31cd46f9",
   "metadata": {},
   "outputs": [],
   "source": []
  },
  {
   "cell_type": "code",
   "execution_count": null,
   "id": "090fb976",
   "metadata": {},
   "outputs": [],
   "source": []
  },
  {
   "cell_type": "code",
   "execution_count": null,
   "id": "f556e17b",
   "metadata": {},
   "outputs": [],
   "source": []
  },
  {
   "cell_type": "code",
   "execution_count": null,
   "id": "53975680",
   "metadata": {},
   "outputs": [],
   "source": []
  },
  {
   "cell_type": "code",
   "execution_count": null,
   "id": "daf05195",
   "metadata": {},
   "outputs": [],
   "source": []
  },
  {
   "cell_type": "code",
   "execution_count": null,
   "id": "f2e206dd",
   "metadata": {},
   "outputs": [],
   "source": []
  },
  {
   "cell_type": "code",
   "execution_count": null,
   "id": "dd3f2931",
   "metadata": {},
   "outputs": [],
   "source": []
  },
  {
   "cell_type": "code",
   "execution_count": null,
   "id": "343f0425",
   "metadata": {},
   "outputs": [],
   "source": []
  },
  {
   "cell_type": "code",
   "execution_count": null,
   "id": "2e160088",
   "metadata": {},
   "outputs": [],
   "source": []
  },
  {
   "cell_type": "code",
   "execution_count": null,
   "id": "83b5e98e",
   "metadata": {},
   "outputs": [],
   "source": []
  },
  {
   "cell_type": "code",
   "execution_count": null,
   "id": "2a69ba48",
   "metadata": {},
   "outputs": [],
   "source": []
  },
  {
   "cell_type": "code",
   "execution_count": null,
   "id": "54f963c5",
   "metadata": {},
   "outputs": [],
   "source": []
  },
  {
   "cell_type": "code",
   "execution_count": null,
   "id": "71e24d92",
   "metadata": {},
   "outputs": [],
   "source": []
  },
  {
   "cell_type": "code",
   "execution_count": null,
   "id": "18cd15df",
   "metadata": {},
   "outputs": [],
   "source": []
  },
  {
   "cell_type": "code",
   "execution_count": null,
   "id": "7ddb6504",
   "metadata": {},
   "outputs": [],
   "source": []
  },
  {
   "cell_type": "code",
   "execution_count": null,
   "id": "fa047934",
   "metadata": {},
   "outputs": [],
   "source": []
  },
  {
   "cell_type": "code",
   "execution_count": null,
   "id": "700cd6f9",
   "metadata": {},
   "outputs": [],
   "source": []
  },
  {
   "cell_type": "code",
   "execution_count": null,
   "id": "3e55faaf",
   "metadata": {},
   "outputs": [],
   "source": []
  },
  {
   "cell_type": "code",
   "execution_count": null,
   "id": "aa7c8a61",
   "metadata": {},
   "outputs": [],
   "source": []
  },
  {
   "cell_type": "code",
   "execution_count": null,
   "id": "c149c20f",
   "metadata": {},
   "outputs": [],
   "source": []
  },
  {
   "cell_type": "code",
   "execution_count": null,
   "id": "cdf37676",
   "metadata": {},
   "outputs": [],
   "source": []
  },
  {
   "cell_type": "code",
   "execution_count": null,
   "id": "c0cd0ae2",
   "metadata": {},
   "outputs": [],
   "source": []
  },
  {
   "cell_type": "code",
   "execution_count": null,
   "id": "678d7c05",
   "metadata": {},
   "outputs": [],
   "source": []
  },
  {
   "cell_type": "code",
   "execution_count": null,
   "id": "9a8a8e19",
   "metadata": {},
   "outputs": [],
   "source": []
  },
  {
   "cell_type": "code",
   "execution_count": null,
   "id": "e92ab267",
   "metadata": {},
   "outputs": [],
   "source": []
  },
  {
   "cell_type": "code",
   "execution_count": null,
   "id": "e2822072",
   "metadata": {},
   "outputs": [],
   "source": []
  },
  {
   "cell_type": "code",
   "execution_count": null,
   "id": "ad1810cb",
   "metadata": {},
   "outputs": [],
   "source": []
  },
  {
   "cell_type": "code",
   "execution_count": null,
   "id": "9816ecd4",
   "metadata": {},
   "outputs": [],
   "source": []
  },
  {
   "cell_type": "code",
   "execution_count": null,
   "id": "0d47742c",
   "metadata": {},
   "outputs": [],
   "source": []
  },
  {
   "cell_type": "code",
   "execution_count": null,
   "id": "5913558d",
   "metadata": {},
   "outputs": [],
   "source": []
  },
  {
   "cell_type": "code",
   "execution_count": null,
   "id": "0d7860ff",
   "metadata": {},
   "outputs": [],
   "source": []
  },
  {
   "cell_type": "code",
   "execution_count": null,
   "id": "d33cf4db",
   "metadata": {},
   "outputs": [],
   "source": []
  },
  {
   "cell_type": "code",
   "execution_count": null,
   "id": "986c0d38",
   "metadata": {},
   "outputs": [],
   "source": []
  },
  {
   "cell_type": "code",
   "execution_count": null,
   "id": "a71e4615",
   "metadata": {},
   "outputs": [],
   "source": []
  },
  {
   "cell_type": "code",
   "execution_count": null,
   "id": "b4ad22eb",
   "metadata": {},
   "outputs": [],
   "source": []
  },
  {
   "cell_type": "code",
   "execution_count": null,
   "id": "25813e93",
   "metadata": {},
   "outputs": [],
   "source": []
  },
  {
   "cell_type": "code",
   "execution_count": null,
   "id": "70e94941",
   "metadata": {},
   "outputs": [],
   "source": []
  },
  {
   "cell_type": "code",
   "execution_count": null,
   "id": "55f4aeeb",
   "metadata": {},
   "outputs": [],
   "source": []
  },
  {
   "cell_type": "code",
   "execution_count": null,
   "id": "9640d7ce",
   "metadata": {},
   "outputs": [],
   "source": []
  },
  {
   "cell_type": "code",
   "execution_count": null,
   "id": "e620c2eb",
   "metadata": {},
   "outputs": [],
   "source": []
  },
  {
   "cell_type": "code",
   "execution_count": null,
   "id": "c6f88a75",
   "metadata": {},
   "outputs": [],
   "source": []
  },
  {
   "cell_type": "code",
   "execution_count": null,
   "id": "375c51fe",
   "metadata": {},
   "outputs": [],
   "source": []
  },
  {
   "cell_type": "code",
   "execution_count": null,
   "id": "28e3ac1b",
   "metadata": {},
   "outputs": [],
   "source": []
  },
  {
   "cell_type": "code",
   "execution_count": null,
   "id": "b07d1de8",
   "metadata": {},
   "outputs": [],
   "source": []
  },
  {
   "cell_type": "code",
   "execution_count": null,
   "id": "ac9a0099",
   "metadata": {},
   "outputs": [],
   "source": []
  },
  {
   "cell_type": "code",
   "execution_count": null,
   "id": "2f77c0c3",
   "metadata": {},
   "outputs": [],
   "source": []
  },
  {
   "cell_type": "code",
   "execution_count": null,
   "id": "f17b97cd",
   "metadata": {},
   "outputs": [],
   "source": []
  },
  {
   "cell_type": "code",
   "execution_count": null,
   "id": "f700a127",
   "metadata": {},
   "outputs": [],
   "source": []
  },
  {
   "cell_type": "code",
   "execution_count": null,
   "id": "9bd919f3",
   "metadata": {},
   "outputs": [],
   "source": []
  },
  {
   "cell_type": "code",
   "execution_count": null,
   "id": "a3e29286",
   "metadata": {},
   "outputs": [],
   "source": []
  },
  {
   "cell_type": "code",
   "execution_count": null,
   "id": "075e955f",
   "metadata": {},
   "outputs": [],
   "source": []
  },
  {
   "cell_type": "code",
   "execution_count": null,
   "id": "b9dc4af7",
   "metadata": {},
   "outputs": [],
   "source": []
  },
  {
   "cell_type": "code",
   "execution_count": null,
   "id": "b20e2c87",
   "metadata": {},
   "outputs": [],
   "source": []
  },
  {
   "cell_type": "code",
   "execution_count": null,
   "id": "9ffc0552",
   "metadata": {},
   "outputs": [],
   "source": []
  },
  {
   "cell_type": "code",
   "execution_count": null,
   "id": "024b5db4",
   "metadata": {},
   "outputs": [],
   "source": []
  },
  {
   "cell_type": "code",
   "execution_count": null,
   "id": "b6c720bc",
   "metadata": {},
   "outputs": [],
   "source": []
  },
  {
   "cell_type": "code",
   "execution_count": null,
   "id": "e21f1d43",
   "metadata": {},
   "outputs": [],
   "source": []
  },
  {
   "cell_type": "code",
   "execution_count": null,
   "id": "4738a179",
   "metadata": {},
   "outputs": [],
   "source": []
  },
  {
   "cell_type": "code",
   "execution_count": null,
   "id": "e1845acb",
   "metadata": {},
   "outputs": [],
   "source": []
  },
  {
   "cell_type": "code",
   "execution_count": null,
   "id": "bf75f096",
   "metadata": {},
   "outputs": [],
   "source": []
  },
  {
   "cell_type": "code",
   "execution_count": null,
   "id": "29351e51",
   "metadata": {},
   "outputs": [],
   "source": []
  },
  {
   "cell_type": "code",
   "execution_count": null,
   "id": "d96569c9",
   "metadata": {},
   "outputs": [],
   "source": []
  },
  {
   "cell_type": "code",
   "execution_count": null,
   "id": "8a4576e7",
   "metadata": {},
   "outputs": [],
   "source": []
  },
  {
   "cell_type": "code",
   "execution_count": null,
   "id": "075d7083",
   "metadata": {},
   "outputs": [],
   "source": []
  },
  {
   "cell_type": "code",
   "execution_count": null,
   "id": "f5de9eba",
   "metadata": {},
   "outputs": [],
   "source": []
  },
  {
   "cell_type": "code",
   "execution_count": null,
   "id": "62e54647",
   "metadata": {},
   "outputs": [],
   "source": []
  },
  {
   "cell_type": "code",
   "execution_count": null,
   "id": "ba2532e6",
   "metadata": {},
   "outputs": [],
   "source": []
  },
  {
   "cell_type": "code",
   "execution_count": null,
   "id": "5f73077d",
   "metadata": {},
   "outputs": [],
   "source": []
  },
  {
   "cell_type": "code",
   "execution_count": null,
   "id": "94c94691",
   "metadata": {},
   "outputs": [],
   "source": []
  },
  {
   "cell_type": "code",
   "execution_count": null,
   "id": "ccb106a1",
   "metadata": {},
   "outputs": [],
   "source": []
  },
  {
   "cell_type": "code",
   "execution_count": null,
   "id": "6ad8ec94",
   "metadata": {},
   "outputs": [],
   "source": []
  },
  {
   "cell_type": "code",
   "execution_count": null,
   "id": "feda64ca",
   "metadata": {},
   "outputs": [],
   "source": []
  },
  {
   "cell_type": "code",
   "execution_count": null,
   "id": "52cca395",
   "metadata": {},
   "outputs": [],
   "source": []
  },
  {
   "cell_type": "code",
   "execution_count": null,
   "id": "58c0d356",
   "metadata": {},
   "outputs": [],
   "source": []
  },
  {
   "cell_type": "code",
   "execution_count": null,
   "id": "09664ab2",
   "metadata": {},
   "outputs": [],
   "source": []
  },
  {
   "cell_type": "code",
   "execution_count": null,
   "id": "4a6c5673",
   "metadata": {},
   "outputs": [],
   "source": []
  },
  {
   "cell_type": "code",
   "execution_count": null,
   "id": "3cf70779",
   "metadata": {},
   "outputs": [],
   "source": []
  },
  {
   "cell_type": "code",
   "execution_count": null,
   "id": "206d8c68",
   "metadata": {},
   "outputs": [],
   "source": []
  },
  {
   "cell_type": "code",
   "execution_count": null,
   "id": "994bb8d6",
   "metadata": {},
   "outputs": [],
   "source": []
  },
  {
   "cell_type": "code",
   "execution_count": null,
   "id": "92c37fb1",
   "metadata": {},
   "outputs": [],
   "source": []
  },
  {
   "cell_type": "code",
   "execution_count": null,
   "id": "de8fd473",
   "metadata": {},
   "outputs": [],
   "source": []
  },
  {
   "cell_type": "code",
   "execution_count": null,
   "id": "94b9eb97",
   "metadata": {},
   "outputs": [],
   "source": []
  },
  {
   "cell_type": "code",
   "execution_count": null,
   "id": "41ba2462",
   "metadata": {},
   "outputs": [],
   "source": []
  },
  {
   "cell_type": "code",
   "execution_count": null,
   "id": "d2c6b637",
   "metadata": {},
   "outputs": [],
   "source": []
  },
  {
   "cell_type": "code",
   "execution_count": null,
   "id": "6eb4801c",
   "metadata": {},
   "outputs": [],
   "source": []
  },
  {
   "cell_type": "code",
   "execution_count": null,
   "id": "e8baccb0",
   "metadata": {},
   "outputs": [],
   "source": []
  },
  {
   "cell_type": "code",
   "execution_count": null,
   "id": "e6e8a3bb",
   "metadata": {},
   "outputs": [],
   "source": []
  },
  {
   "cell_type": "code",
   "execution_count": null,
   "id": "7f1f752f",
   "metadata": {},
   "outputs": [],
   "source": []
  },
  {
   "cell_type": "code",
   "execution_count": null,
   "id": "3e28104b",
   "metadata": {},
   "outputs": [],
   "source": []
  },
  {
   "cell_type": "code",
   "execution_count": null,
   "id": "a5bdd50b",
   "metadata": {},
   "outputs": [],
   "source": []
  },
  {
   "cell_type": "code",
   "execution_count": null,
   "id": "ce293346",
   "metadata": {},
   "outputs": [],
   "source": []
  },
  {
   "cell_type": "code",
   "execution_count": null,
   "id": "1e4d0ffe",
   "metadata": {},
   "outputs": [],
   "source": []
  },
  {
   "cell_type": "code",
   "execution_count": null,
   "id": "08364694",
   "metadata": {},
   "outputs": [],
   "source": []
  },
  {
   "cell_type": "code",
   "execution_count": null,
   "id": "512f2788",
   "metadata": {},
   "outputs": [],
   "source": []
  },
  {
   "cell_type": "code",
   "execution_count": null,
   "id": "6bc7fd1c",
   "metadata": {},
   "outputs": [],
   "source": []
  },
  {
   "cell_type": "code",
   "execution_count": null,
   "id": "44f8d065",
   "metadata": {},
   "outputs": [],
   "source": []
  },
  {
   "cell_type": "code",
   "execution_count": null,
   "id": "fdf06385",
   "metadata": {},
   "outputs": [],
   "source": []
  },
  {
   "cell_type": "code",
   "execution_count": null,
   "id": "6629dbe2",
   "metadata": {},
   "outputs": [],
   "source": []
  },
  {
   "cell_type": "code",
   "execution_count": null,
   "id": "68d5352d",
   "metadata": {},
   "outputs": [],
   "source": []
  },
  {
   "cell_type": "code",
   "execution_count": null,
   "id": "b1ed1fd8",
   "metadata": {},
   "outputs": [],
   "source": []
  },
  {
   "cell_type": "code",
   "execution_count": null,
   "id": "60e58b55",
   "metadata": {},
   "outputs": [],
   "source": []
  },
  {
   "cell_type": "code",
   "execution_count": null,
   "id": "7bf40489",
   "metadata": {},
   "outputs": [],
   "source": []
  },
  {
   "cell_type": "code",
   "execution_count": null,
   "id": "d2eaa960",
   "metadata": {},
   "outputs": [],
   "source": []
  },
  {
   "cell_type": "code",
   "execution_count": null,
   "id": "e1cdff90",
   "metadata": {},
   "outputs": [],
   "source": []
  },
  {
   "cell_type": "code",
   "execution_count": null,
   "id": "d2c308f1",
   "metadata": {},
   "outputs": [],
   "source": []
  },
  {
   "cell_type": "code",
   "execution_count": null,
   "id": "4ee36945",
   "metadata": {},
   "outputs": [],
   "source": []
  },
  {
   "cell_type": "code",
   "execution_count": null,
   "id": "f88defb8",
   "metadata": {},
   "outputs": [],
   "source": []
  },
  {
   "cell_type": "code",
   "execution_count": null,
   "id": "527daa2a",
   "metadata": {},
   "outputs": [],
   "source": []
  },
  {
   "cell_type": "code",
   "execution_count": null,
   "id": "5a22e886",
   "metadata": {},
   "outputs": [],
   "source": []
  },
  {
   "cell_type": "code",
   "execution_count": null,
   "id": "f777d13a",
   "metadata": {},
   "outputs": [],
   "source": []
  },
  {
   "cell_type": "code",
   "execution_count": null,
   "id": "e4f8e37c",
   "metadata": {},
   "outputs": [],
   "source": []
  },
  {
   "cell_type": "code",
   "execution_count": null,
   "id": "7425b0f0",
   "metadata": {},
   "outputs": [],
   "source": []
  },
  {
   "cell_type": "code",
   "execution_count": null,
   "id": "c134c10d",
   "metadata": {},
   "outputs": [],
   "source": []
  },
  {
   "cell_type": "code",
   "execution_count": null,
   "id": "0d2c8363",
   "metadata": {},
   "outputs": [],
   "source": []
  },
  {
   "cell_type": "code",
   "execution_count": null,
   "id": "7eefbe0f",
   "metadata": {},
   "outputs": [],
   "source": []
  },
  {
   "cell_type": "code",
   "execution_count": null,
   "id": "e5ef7aec",
   "metadata": {},
   "outputs": [],
   "source": []
  },
  {
   "cell_type": "code",
   "execution_count": null,
   "id": "40c9c2a3",
   "metadata": {},
   "outputs": [],
   "source": []
  },
  {
   "cell_type": "code",
   "execution_count": null,
   "id": "9fb25e58",
   "metadata": {},
   "outputs": [],
   "source": []
  },
  {
   "cell_type": "code",
   "execution_count": null,
   "id": "29c99eb0",
   "metadata": {},
   "outputs": [],
   "source": []
  },
  {
   "cell_type": "code",
   "execution_count": null,
   "id": "3748ee12",
   "metadata": {},
   "outputs": [],
   "source": []
  },
  {
   "cell_type": "code",
   "execution_count": null,
   "id": "bff03f5f",
   "metadata": {},
   "outputs": [],
   "source": []
  },
  {
   "cell_type": "code",
   "execution_count": null,
   "id": "97dd616b",
   "metadata": {},
   "outputs": [],
   "source": []
  },
  {
   "cell_type": "code",
   "execution_count": null,
   "id": "5fb7408b",
   "metadata": {},
   "outputs": [],
   "source": []
  },
  {
   "cell_type": "code",
   "execution_count": null,
   "id": "e14d85bb",
   "metadata": {},
   "outputs": [],
   "source": []
  },
  {
   "cell_type": "code",
   "execution_count": null,
   "id": "8cd57d4a",
   "metadata": {},
   "outputs": [],
   "source": []
  },
  {
   "cell_type": "code",
   "execution_count": null,
   "id": "2390b622",
   "metadata": {},
   "outputs": [],
   "source": []
  },
  {
   "cell_type": "code",
   "execution_count": null,
   "id": "e588f44f",
   "metadata": {},
   "outputs": [],
   "source": []
  },
  {
   "cell_type": "code",
   "execution_count": null,
   "id": "4e70413f",
   "metadata": {},
   "outputs": [],
   "source": []
  },
  {
   "cell_type": "code",
   "execution_count": null,
   "id": "a5bb1549",
   "metadata": {},
   "outputs": [],
   "source": []
  },
  {
   "cell_type": "code",
   "execution_count": null,
   "id": "faaf9ba1",
   "metadata": {},
   "outputs": [],
   "source": []
  },
  {
   "cell_type": "code",
   "execution_count": null,
   "id": "7bf88810",
   "metadata": {},
   "outputs": [],
   "source": []
  },
  {
   "cell_type": "code",
   "execution_count": null,
   "id": "469da10d",
   "metadata": {},
   "outputs": [],
   "source": []
  },
  {
   "cell_type": "code",
   "execution_count": null,
   "id": "bd994633",
   "metadata": {},
   "outputs": [],
   "source": []
  },
  {
   "cell_type": "code",
   "execution_count": null,
   "id": "7bf42ea9",
   "metadata": {},
   "outputs": [],
   "source": []
  },
  {
   "cell_type": "code",
   "execution_count": null,
   "id": "9e5021e8",
   "metadata": {},
   "outputs": [],
   "source": []
  },
  {
   "cell_type": "code",
   "execution_count": null,
   "id": "10da23ad",
   "metadata": {},
   "outputs": [],
   "source": []
  }
 ],
 "metadata": {
  "kernelspec": {
   "display_name": "Python 3 (ipykernel)",
   "language": "python",
   "name": "python3"
  },
  "language_info": {
   "codemirror_mode": {
    "name": "ipython",
    "version": 3
   },
   "file_extension": ".py",
   "mimetype": "text/x-python",
   "name": "python",
   "nbconvert_exporter": "python",
   "pygments_lexer": "ipython3",
   "version": "3.9.12"
  }
 },
 "nbformat": 4,
 "nbformat_minor": 5
}
