{
 "cells": [
  {
   "cell_type": "markdown",
   "id": "46a74e27",
   "metadata": {},
   "source": [
    "# Functions Contd"
   ]
  },
  {
   "cell_type": "markdown",
   "id": "43c4b5de",
   "metadata": {},
   "source": [
    "# Global and Local Variables"
   ]
  },
  {
   "cell_type": "code",
   "execution_count": 1,
   "id": "c79862d2",
   "metadata": {},
   "outputs": [],
   "source": [
    "testx = 100 # Glonbal Variables can be accessed outside functions"
   ]
  },
  {
   "cell_type": "code",
   "execution_count": 2,
   "id": "4760255a",
   "metadata": {},
   "outputs": [],
   "source": [
    "def func():\n",
    "    p = 45   # local variables can be accessed only inside the functions\n",
    "    print(p)"
   ]
  },
  {
   "cell_type": "code",
   "execution_count": 4,
   "id": "61f3dbf5",
   "metadata": {},
   "outputs": [
    {
     "name": "stdout",
     "output_type": "stream",
     "text": [
      "45\n"
     ]
    }
   ],
   "source": [
    "func()"
   ]
  },
  {
   "cell_type": "code",
   "execution_count": 16,
   "id": "1a58abb7",
   "metadata": {},
   "outputs": [],
   "source": [
    "def func1():\n",
    "    global testx  # keyword to access the global variable\n",
    "    p = 45   # local variables can be accessed only inside the functions\n",
    "    print(p)\n",
    "    print(testx)"
   ]
  },
  {
   "cell_type": "code",
   "execution_count": 17,
   "id": "94fb208b",
   "metadata": {},
   "outputs": [
    {
     "name": "stdout",
     "output_type": "stream",
     "text": [
      "45\n",
      "100\n"
     ]
    }
   ],
   "source": [
    "func1()"
   ]
  },
  {
   "cell_type": "code",
   "execution_count": 1,
   "id": "5a2fb0bb",
   "metadata": {},
   "outputs": [],
   "source": [
    "m = 345"
   ]
  },
  {
   "cell_type": "code",
   "execution_count": 2,
   "id": "8d522375",
   "metadata": {},
   "outputs": [],
   "source": [
    "def function2():\n",
    "    m = 22\n",
    "    print(m)"
   ]
  },
  {
   "cell_type": "code",
   "execution_count": 4,
   "id": "50bd2367",
   "metadata": {},
   "outputs": [
    {
     "name": "stdout",
     "output_type": "stream",
     "text": [
      "22\n"
     ]
    }
   ],
   "source": [
    "function2()"
   ]
  },
  {
   "cell_type": "code",
   "execution_count": 5,
   "id": "6f13e5ef",
   "metadata": {},
   "outputs": [
    {
     "data": {
      "text/plain": [
       "345"
      ]
     },
     "execution_count": 5,
     "metadata": {},
     "output_type": "execute_result"
    }
   ],
   "source": [
    "m"
   ]
  },
  {
   "cell_type": "code",
   "execution_count": 10,
   "id": "472b4c16",
   "metadata": {},
   "outputs": [],
   "source": [
    "def f1():\n",
    "    p = 10\n",
    "    print(p)"
   ]
  },
  {
   "cell_type": "code",
   "execution_count": 14,
   "id": "70907b79",
   "metadata": {},
   "outputs": [],
   "source": [
    "def f2():\n",
    "    f1()"
   ]
  },
  {
   "cell_type": "code",
   "execution_count": 15,
   "id": "b56b1e64",
   "metadata": {},
   "outputs": [
    {
     "name": "stdout",
     "output_type": "stream",
     "text": [
      "10\n"
     ]
    }
   ],
   "source": [
    "f2()"
   ]
  },
  {
   "cell_type": "code",
   "execution_count": 16,
   "id": "50ea30b9",
   "metadata": {},
   "outputs": [],
   "source": [
    "def fun1():\n",
    "    a = 10\n",
    "    b = 5\n",
    "    print(\"Add = \", a+b)"
   ]
  },
  {
   "cell_type": "code",
   "execution_count": 19,
   "id": "91f35178",
   "metadata": {},
   "outputs": [],
   "source": [
    "def fun2():\n",
    "    fun1()\n",
    "    c = 20\n",
    "    d = 25\n",
    "    print(\"Sub = \", d-c)"
   ]
  },
  {
   "cell_type": "code",
   "execution_count": 20,
   "id": "48a19743",
   "metadata": {},
   "outputs": [
    {
     "name": "stdout",
     "output_type": "stream",
     "text": [
      "Add =  15\n",
      "Sub =  5\n"
     ]
    }
   ],
   "source": [
    "fun2()"
   ]
  },
  {
   "cell_type": "code",
   "execution_count": null,
   "id": "20c51838",
   "metadata": {},
   "outputs": [],
   "source": []
  },
  {
   "cell_type": "markdown",
   "id": "698903ca",
   "metadata": {},
   "source": [
    "# Return Keyword"
   ]
  },
  {
   "cell_type": "code",
   "execution_count": 21,
   "id": "0c25aa1f",
   "metadata": {},
   "outputs": [],
   "source": [
    "def funct():\n",
    "    x = 20\n",
    "    y = 25\n",
    "    z = x + y\n",
    "    return z  # Will hold the variable outside the function\n",
    "   "
   ]
  },
  {
   "cell_type": "code",
   "execution_count": 22,
   "id": "2929a282",
   "metadata": {},
   "outputs": [
    {
     "data": {
      "text/plain": [
       "45"
      ]
     },
     "execution_count": 22,
     "metadata": {},
     "output_type": "execute_result"
    }
   ],
   "source": [
    "funct()"
   ]
  },
  {
   "cell_type": "code",
   "execution_count": 24,
   "id": "d8a2ef41",
   "metadata": {},
   "outputs": [],
   "source": [
    "h = funct()"
   ]
  },
  {
   "cell_type": "code",
   "execution_count": 25,
   "id": "f76bb87a",
   "metadata": {},
   "outputs": [
    {
     "data": {
      "text/plain": [
       "45"
      ]
     },
     "execution_count": 25,
     "metadata": {},
     "output_type": "execute_result"
    }
   ],
   "source": [
    "h"
   ]
  },
  {
   "cell_type": "code",
   "execution_count": 33,
   "id": "a0a89acf",
   "metadata": {},
   "outputs": [],
   "source": [
    "def funct3():\n",
    "    k = 24\n",
    "    j = h-k   # Getting the value from h (funct()) \n",
    "    print(j)"
   ]
  },
  {
   "cell_type": "code",
   "execution_count": 35,
   "id": "5016d06f",
   "metadata": {},
   "outputs": [
    {
     "name": "stdout",
     "output_type": "stream",
     "text": [
      "21\n"
     ]
    }
   ],
   "source": [
    "funct3()"
   ]
  },
  {
   "cell_type": "code",
   "execution_count": 27,
   "id": "005ccb84",
   "metadata": {},
   "outputs": [],
   "source": [
    "# Without using return function variable isnot callable outside\n",
    "\n",
    "def funct2():\n",
    "    x = 25\n",
    "    y = 30\n",
    "    z = x + y\n",
    "    print(z)"
   ]
  },
  {
   "cell_type": "code",
   "execution_count": 28,
   "id": "564149cc",
   "metadata": {},
   "outputs": [
    {
     "name": "stdout",
     "output_type": "stream",
     "text": [
      "55\n"
     ]
    }
   ],
   "source": [
    "funct2()"
   ]
  },
  {
   "cell_type": "code",
   "execution_count": 32,
   "id": "8472543a",
   "metadata": {},
   "outputs": [
    {
     "name": "stdout",
     "output_type": "stream",
     "text": [
      "55\n"
     ]
    }
   ],
   "source": [
    "m = funct2() # Unable to call the variable outside"
   ]
  },
  {
   "cell_type": "code",
   "execution_count": null,
   "id": "a741583a",
   "metadata": {},
   "outputs": [],
   "source": []
  },
  {
   "cell_type": "markdown",
   "id": "3e1ab365",
   "metadata": {},
   "source": [
    "# Variable Number of Arguments"
   ]
  },
  {
   "cell_type": "markdown",
   "id": "f99d70c8",
   "metadata": {},
   "source": [
    "In case where you don't know the exact number of arguments that you want to pass to a function, you can use the following \n",
    "syntax with *args:"
   ]
  },
  {
   "cell_type": "code",
   "execution_count": 39,
   "id": "2cf5bc3b",
   "metadata": {},
   "outputs": [],
   "source": [
    "def plusfunction(*args):\n",
    "    return sum(args)"
   ]
  },
  {
   "cell_type": "code",
   "execution_count": 40,
   "id": "ce370c31",
   "metadata": {},
   "outputs": [
    {
     "data": {
      "text/plain": [
       "6"
      ]
     },
     "execution_count": 40,
     "metadata": {},
     "output_type": "execute_result"
    }
   ],
   "source": [
    "# calling the function\n",
    "\n",
    "plusfunction(1,2,3)"
   ]
  },
  {
   "cell_type": "code",
   "execution_count": 41,
   "id": "d38fd396",
   "metadata": {},
   "outputs": [
    {
     "data": {
      "text/plain": [
       "49"
      ]
     },
     "execution_count": 41,
     "metadata": {},
     "output_type": "execute_result"
    }
   ],
   "source": [
    "plusfunction(4,5,6,7,8,9,10) # can able to pass many number of values with the help of *arg function."
   ]
  },
  {
   "cell_type": "code",
   "execution_count": 42,
   "id": "24c02710",
   "metadata": {},
   "outputs": [],
   "source": [
    "def maxfunction(*args):\n",
    "    return max(args) # max function predefined to find the max value"
   ]
  },
  {
   "cell_type": "code",
   "execution_count": 43,
   "id": "b2c545c2",
   "metadata": {},
   "outputs": [
    {
     "data": {
      "text/plain": [
       "6"
      ]
     },
     "execution_count": 43,
     "metadata": {},
     "output_type": "execute_result"
    }
   ],
   "source": [
    "maxfunction(1,2,3,4,5,6)"
   ]
  },
  {
   "cell_type": "code",
   "execution_count": 44,
   "id": "c7947d72",
   "metadata": {},
   "outputs": [
    {
     "data": {
      "text/plain": [
       "999"
      ]
     },
     "execution_count": 44,
     "metadata": {},
     "output_type": "execute_result"
    }
   ],
   "source": [
    "maxfunction(80,77,22,999)"
   ]
  },
  {
   "cell_type": "code",
   "execution_count": 45,
   "id": "f2d9fb19",
   "metadata": {},
   "outputs": [],
   "source": [
    "def minfunction(*x):  # min predefined function we can use any variable for *args but we need to use the same variable to call the function\n",
    "    return min(x)"
   ]
  },
  {
   "cell_type": "code",
   "execution_count": 46,
   "id": "ff7d032c",
   "metadata": {},
   "outputs": [
    {
     "data": {
      "text/plain": [
       "1"
      ]
     },
     "execution_count": 46,
     "metadata": {},
     "output_type": "execute_result"
    }
   ],
   "source": [
    "minfunction(1,2,3,4,5)"
   ]
  },
  {
   "cell_type": "code",
   "execution_count": 47,
   "id": "d2e7c35f",
   "metadata": {},
   "outputs": [
    {
     "data": {
      "text/plain": [
       "222"
      ]
     },
     "execution_count": 47,
     "metadata": {},
     "output_type": "execute_result"
    }
   ],
   "source": [
    "minfunction(222,333,456,2000)"
   ]
  },
  {
   "cell_type": "code",
   "execution_count": 53,
   "id": "5ea2404d",
   "metadata": {},
   "outputs": [],
   "source": [
    "# Trying with user defined function\n",
    "\n",
    "def sumfunc(*num):\n",
    "    \n",
    "    s = 1\n",
    "    for n in num:\n",
    "        s = s+n\n",
    "    return s"
   ]
  },
  {
   "cell_type": "code",
   "execution_count": 54,
   "id": "ad73ffd1",
   "metadata": {},
   "outputs": [
    {
     "data": {
      "text/plain": [
       "7"
      ]
     },
     "execution_count": 54,
     "metadata": {},
     "output_type": "execute_result"
    }
   ],
   "source": [
    "sumfunc(1,2,3)"
   ]
  },
  {
   "cell_type": "code",
   "execution_count": null,
   "id": "60719b01",
   "metadata": {},
   "outputs": [],
   "source": [
    "# def sumfunc1(*nums):\n",
    "    \n",
    "    s = 2\n",
    "    for n in nums:\n",
    "        s+=n\n",
    "    return s"
   ]
  },
  {
   "cell_type": "code",
   "execution_count": 58,
   "id": "a77b9bb5",
   "metadata": {},
   "outputs": [
    {
     "data": {
      "text/plain": [
       "12"
      ]
     },
     "execution_count": 58,
     "metadata": {},
     "output_type": "execute_result"
    }
   ],
   "source": [
    "sumfunc1(2,3,5)"
   ]
  },
  {
   "cell_type": "markdown",
   "id": "b75cebe2",
   "metadata": {},
   "source": [
    "# Anonymous or lambda function"
   ]
  },
  {
   "cell_type": "raw",
   "id": "76482bd0",
   "metadata": {},
   "source": [
    "lambda\n",
    "\n",
    "A lamba function is a small function containing a single expression. Lambda function can also act as anonymous functions\n",
    "where they dont require any name. These are very helpful when we have to perform small task with less codes\n",
    "\n",
    "The expression is composed of:\n",
    "\n",
    "The Keyword: lambda\n",
    "A bound variable: x\n",
    "A body: x*2\n",
    "\n",
    "# lambda variable:expression"
   ]
  },
  {
   "cell_type": "code",
   "execution_count": 4,
   "id": "2312f1d5",
   "metadata": {},
   "outputs": [],
   "source": [
    "x1 = lambda x: x+2"
   ]
  },
  {
   "cell_type": "code",
   "execution_count": 5,
   "id": "c8fa2f27",
   "metadata": {},
   "outputs": [
    {
     "data": {
      "text/plain": [
       "12"
      ]
     },
     "execution_count": 5,
     "metadata": {},
     "output_type": "execute_result"
    }
   ],
   "source": [
    "x1(10)"
   ]
  },
  {
   "cell_type": "code",
   "execution_count": 6,
   "id": "ca935c7e",
   "metadata": {},
   "outputs": [
    {
     "data": {
      "text/plain": [
       "22"
      ]
     },
     "execution_count": 6,
     "metadata": {},
     "output_type": "execute_result"
    }
   ],
   "source": [
    "x1(20)"
   ]
  },
  {
   "cell_type": "code",
   "execution_count": 7,
   "id": "d4cb4c3d",
   "metadata": {},
   "outputs": [],
   "source": [
    "x2 = lambda x,y: x+y"
   ]
  },
  {
   "cell_type": "code",
   "execution_count": 8,
   "id": "48c47f18",
   "metadata": {},
   "outputs": [
    {
     "data": {
      "text/plain": [
       "5"
      ]
     },
     "execution_count": 8,
     "metadata": {},
     "output_type": "execute_result"
    }
   ],
   "source": [
    "x2(2,3)"
   ]
  },
  {
   "cell_type": "code",
   "execution_count": 9,
   "id": "6a7ea291",
   "metadata": {},
   "outputs": [
    {
     "data": {
      "text/plain": [
       "72"
      ]
     },
     "execution_count": 9,
     "metadata": {},
     "output_type": "execute_result"
    }
   ],
   "source": [
    "x2(22,50)"
   ]
  },
  {
   "cell_type": "code",
   "execution_count": 10,
   "id": "ecd2a799",
   "metadata": {},
   "outputs": [],
   "source": [
    "x3 = lambda a,b: a*b"
   ]
  },
  {
   "cell_type": "code",
   "execution_count": 11,
   "id": "94bfb610",
   "metadata": {},
   "outputs": [
    {
     "data": {
      "text/plain": [
       "4"
      ]
     },
     "execution_count": 11,
     "metadata": {},
     "output_type": "execute_result"
    }
   ],
   "source": [
    "x3(2,2)"
   ]
  },
  {
   "cell_type": "code",
   "execution_count": 17,
   "id": "df132906",
   "metadata": {},
   "outputs": [],
   "source": [
    "x4 = lambda c: c**2"
   ]
  },
  {
   "cell_type": "code",
   "execution_count": 18,
   "id": "78025465",
   "metadata": {},
   "outputs": [
    {
     "data": {
      "text/plain": [
       "25"
      ]
     },
     "execution_count": 18,
     "metadata": {},
     "output_type": "execute_result"
    }
   ],
   "source": [
    "x4(5)"
   ]
  },
  {
   "cell_type": "code",
   "execution_count": 19,
   "id": "c7cbdc72",
   "metadata": {},
   "outputs": [],
   "source": [
    "x5 = lambda d: d**(1/2)"
   ]
  },
  {
   "cell_type": "code",
   "execution_count": 21,
   "id": "926630a1",
   "metadata": {},
   "outputs": [
    {
     "data": {
      "text/plain": [
       "6.0"
      ]
     },
     "execution_count": 21,
     "metadata": {},
     "output_type": "execute_result"
    }
   ],
   "source": [
    "x5(36)"
   ]
  },
  {
   "cell_type": "code",
   "execution_count": 22,
   "id": "abca804b",
   "metadata": {},
   "outputs": [],
   "source": [
    "area = lambda pi,radius:pi*(radius**2)"
   ]
  },
  {
   "cell_type": "code",
   "execution_count": 23,
   "id": "3cea97e7",
   "metadata": {},
   "outputs": [
    {
     "data": {
      "text/plain": [
       "1519.76"
      ]
     },
     "execution_count": 23,
     "metadata": {},
     "output_type": "execute_result"
    }
   ],
   "source": [
    "area(3.14,22)"
   ]
  },
  {
   "cell_type": "code",
   "execution_count": 24,
   "id": "7a48b531",
   "metadata": {},
   "outputs": [],
   "source": [
    "y = lambda m,n: m/n"
   ]
  },
  {
   "cell_type": "code",
   "execution_count": 25,
   "id": "d270b3a5",
   "metadata": {},
   "outputs": [
    {
     "name": "stdout",
     "output_type": "stream",
     "text": [
      "The Value : 5.0\n",
      "The Value : 111.0\n"
     ]
    }
   ],
   "source": [
    "print(\"The Value :\", y(25,5))\n",
    "print(\"The Value :\", y(222,2))"
   ]
  },
  {
   "cell_type": "code",
   "execution_count": 26,
   "id": "696711b5",
   "metadata": {},
   "outputs": [],
   "source": [
    "# Converting temp in fahrenheit \n",
    "\n",
    "def fahrenheit(t):\n",
    "    return ((9/5)*t + 32)"
   ]
  },
  {
   "cell_type": "code",
   "execution_count": 27,
   "id": "49ecc7b8",
   "metadata": {},
   "outputs": [
    {
     "data": {
      "text/plain": [
       "89.6"
      ]
     },
     "execution_count": 27,
     "metadata": {},
     "output_type": "execute_result"
    }
   ],
   "source": [
    "fahrenheit(32)"
   ]
  },
  {
   "cell_type": "code",
   "execution_count": 29,
   "id": "a07d469c",
   "metadata": {},
   "outputs": [
    {
     "data": {
      "text/plain": [
       "113.0"
      ]
     },
     "execution_count": 29,
     "metadata": {},
     "output_type": "execute_result"
    }
   ],
   "source": [
    "f = fahrenheit(45)\n",
    "f"
   ]
  },
  {
   "cell_type": "code",
   "execution_count": 30,
   "id": "e0983f74",
   "metadata": {},
   "outputs": [],
   "source": [
    "# Converting temp in Celsius \n",
    "\n",
    "def celsius(t):\n",
    "    return ((5/9)*(t-32))"
   ]
  },
  {
   "cell_type": "code",
   "execution_count": 32,
   "id": "1d9d7e4f",
   "metadata": {},
   "outputs": [
    {
     "data": {
      "text/plain": [
       "-3.8888888888888893"
      ]
     },
     "execution_count": 32,
     "metadata": {},
     "output_type": "execute_result"
    }
   ],
   "source": [
    "c = celsius(25)\n",
    "c"
   ]
  },
  {
   "cell_type": "code",
   "execution_count": 33,
   "id": "c11ec5b7",
   "metadata": {},
   "outputs": [
    {
     "data": {
      "text/plain": [
       "32.22222222222222"
      ]
     },
     "execution_count": 33,
     "metadata": {},
     "output_type": "execute_result"
    }
   ],
   "source": [
    "cel = celsius(90)\n",
    "cel"
   ]
  },
  {
   "cell_type": "code",
   "execution_count": 41,
   "id": "a436edce",
   "metadata": {},
   "outputs": [],
   "source": [
    "def testin():\n",
    "    x = int(input(\"Enter x = \"))\n",
    "    y = int(input(\"Enter y = \"))\n",
    "    z = lambda x,y:x*y\n",
    "    print(z(x,y))"
   ]
  },
  {
   "cell_type": "code",
   "execution_count": 43,
   "id": "d95f0236",
   "metadata": {},
   "outputs": [
    {
     "name": "stdout",
     "output_type": "stream",
     "text": [
      "Enter x = 22\n",
      "Enter y = 24\n",
      "528\n"
     ]
    }
   ],
   "source": [
    "testin()"
   ]
  },
  {
   "cell_type": "code",
   "execution_count": null,
   "id": "c85ed5fb",
   "metadata": {},
   "outputs": [],
   "source": []
  },
  {
   "cell_type": "code",
   "execution_count": 44,
   "id": "8b66a091",
   "metadata": {},
   "outputs": [],
   "source": [
    "celsius = lambda t: (9/5)*t+32  # Converting celsius to fahrenheit"
   ]
  },
  {
   "cell_type": "code",
   "execution_count": 46,
   "id": "72c844d6",
   "metadata": {},
   "outputs": [
    {
     "data": {
      "text/plain": [
       "100.4"
      ]
     },
     "execution_count": 46,
     "metadata": {},
     "output_type": "execute_result"
    }
   ],
   "source": [
    "celsius(38)"
   ]
  },
  {
   "cell_type": "code",
   "execution_count": 55,
   "id": "f2b4b785",
   "metadata": {},
   "outputs": [],
   "source": [
    "fahrenheit = lambda te: (5/9)*(te-32) # Converting fahrenheit to celsius"
   ]
  },
  {
   "cell_type": "code",
   "execution_count": 56,
   "id": "5e90ae98",
   "metadata": {},
   "outputs": [
    {
     "data": {
      "text/plain": [
       "36.66666666666667"
      ]
     },
     "execution_count": 56,
     "metadata": {},
     "output_type": "execute_result"
    }
   ],
   "source": [
    "fahrenheit(98)"
   ]
  },
  {
   "cell_type": "code",
   "execution_count": 57,
   "id": "060223f0",
   "metadata": {},
   "outputs": [
    {
     "data": {
      "text/plain": [
       "<map at 0x1e9ef6447c0>"
      ]
     },
     "execution_count": 57,
     "metadata": {},
     "output_type": "execute_result"
    }
   ],
   "source": [
    "list1 = [10,20,30,40]\n",
    "map(lambda x:x+2,list1)"
   ]
  },
  {
   "cell_type": "code",
   "execution_count": 59,
   "id": "c58bb178",
   "metadata": {},
   "outputs": [
    {
     "data": {
      "text/plain": [
       "[12, 22, 32, 42]"
      ]
     },
     "execution_count": 59,
     "metadata": {},
     "output_type": "execute_result"
    }
   ],
   "source": [
    "list1 = [10,20,30,40]\n",
    "list(map(lambda x:x+2,list1)) # list and map are pre defined function"
   ]
  },
  {
   "cell_type": "code",
   "execution_count": 67,
   "id": "306ff37a",
   "metadata": {},
   "outputs": [],
   "source": [
    "list2 = [10,20,30,40,50,60]"
   ]
  },
  {
   "cell_type": "code",
   "execution_count": 70,
   "id": "cc47d99f",
   "metadata": {},
   "outputs": [
    {
     "data": {
      "text/plain": [
       "[100, 400, 900, 1600, 2500, 3600]"
      ]
     },
     "execution_count": 70,
     "metadata": {},
     "output_type": "execute_result"
    }
   ],
   "source": [
    "list3 = list(map(lambda x:x**2,list2)) # defined a new variable for the result\n",
    "list3"
   ]
  },
  {
   "cell_type": "code",
   "execution_count": 73,
   "id": "54c2e776",
   "metadata": {},
   "outputs": [
    {
     "data": {
      "text/plain": [
       "[14.89966442575134, 18.24828759089466, 21.071307505705477, 23.558437978779494]"
      ]
     },
     "execution_count": 73,
     "metadata": {},
     "output_type": "execute_result"
    }
   ],
   "source": [
    "list4 = [222,333,444,555]\n",
    "list5 = list(map(lambda y:y**(1/2),list4))\n",
    "list5"
   ]
  },
  {
   "cell_type": "code",
   "execution_count": null,
   "id": "d6e80fc5",
   "metadata": {},
   "outputs": [],
   "source": []
  },
  {
   "cell_type": "code",
   "execution_count": 82,
   "id": "4111db1f",
   "metadata": {},
   "outputs": [
    {
     "data": {
      "text/plain": [
       "[90.5, 92.48, 94.63999999999999, 104.9]"
      ]
     },
     "execution_count": 82,
     "metadata": {},
     "output_type": "execute_result"
    }
   ],
   "source": [
    "c = [32.5,33.6,34.8,40.5]  # Celsius to fahrenheit\n",
    "f = list(map(lambda x:(9/5)*x+32,c))\n",
    "f"
   ]
  },
  {
   "cell_type": "code",
   "execution_count": 84,
   "id": "436834a8",
   "metadata": {},
   "outputs": [
    {
     "data": {
      "text/plain": [
       "[90.5, 92.48, 94.64, 104.9]"
      ]
     },
     "execution_count": 84,
     "metadata": {},
     "output_type": "execute_result"
    }
   ],
   "source": [
    "f2 = [round(x,2) for x in f]\n",
    "f2"
   ]
  },
  {
   "cell_type": "code",
   "execution_count": 86,
   "id": "f9b1d582",
   "metadata": {},
   "outputs": [
    {
     "data": {
      "text/plain": [
       "['90.50', '92.48', '94.64', '104.90']"
      ]
     },
     "execution_count": 86,
     "metadata": {},
     "output_type": "execute_result"
    }
   ],
   "source": [
    "f3 = ['%.2f' % x for x in f]\n",
    "f3"
   ]
  },
  {
   "cell_type": "code",
   "execution_count": null,
   "id": "202b2ab8",
   "metadata": {},
   "outputs": [],
   "source": []
  },
  {
   "cell_type": "code",
   "execution_count": 78,
   "id": "e9d08592",
   "metadata": {},
   "outputs": [
    {
     "data": {
      "text/plain": [
       "[32.5, 34.22222222222222, 37.111111111111114, 37.5]"
      ]
     },
     "execution_count": 78,
     "metadata": {},
     "output_type": "execute_result"
    }
   ],
   "source": [
    "ft = [90.5,93.6,98.8,99.5]  # # fahrenheit to celsius\n",
    "ct = list(map(lambda y:(5/9)*(y-32),ft))\n",
    "ct"
   ]
  },
  {
   "cell_type": "code",
   "execution_count": 85,
   "id": "90123dac",
   "metadata": {},
   "outputs": [
    {
     "data": {
      "text/plain": [
       "[32.5, 34.22, 37.11, 37.5]"
      ]
     },
     "execution_count": 85,
     "metadata": {},
     "output_type": "execute_result"
    }
   ],
   "source": [
    "ct2 = [round(y,2) for y in ct]\n",
    "ct2"
   ]
  },
  {
   "cell_type": "code",
   "execution_count": 87,
   "id": "15ad8a47",
   "metadata": {},
   "outputs": [
    {
     "data": {
      "text/plain": [
       "['32.50', '34.22', '37.11', '37.50']"
      ]
     },
     "execution_count": 87,
     "metadata": {},
     "output_type": "execute_result"
    }
   ],
   "source": [
    "ct3 = ['%.2f' % y for y in ct]\n",
    "ct3"
   ]
  },
  {
   "cell_type": "code",
   "execution_count": null,
   "id": "0b5b2db1",
   "metadata": {},
   "outputs": [],
   "source": []
  },
  {
   "cell_type": "code",
   "execution_count": 89,
   "id": "76bd4f2c",
   "metadata": {},
   "outputs": [
    {
     "data": {
      "text/plain": [
       "[25.12, 31.400000000000002, 37.68, 43.96, 50.24, 56.52]"
      ]
     },
     "execution_count": 89,
     "metadata": {},
     "output_type": "execute_result"
    }
   ],
   "source": [
    "# Find circumference of circle.....(2*pi*radiusvalue) using map in lambda... pi= 3.14\n",
    "\n",
    "radius=[4,5,6,7,8,9]\n",
    "\n",
    "cir = list(map(lambda z: 2*3.14*z,radius))\n",
    "cir"
   ]
  },
  {
   "cell_type": "code",
   "execution_count": 91,
   "id": "f3626843",
   "metadata": {},
   "outputs": [
    {
     "data": {
      "text/plain": [
       "['25.1', '31.4', '37.7', '44.0', '50.2', '56.5']"
      ]
     },
     "execution_count": 91,
     "metadata": {},
     "output_type": "execute_result"
    }
   ],
   "source": [
    "cirnew = ['%.1f' %k for k in cir]\n",
    "cirnew"
   ]
  },
  {
   "cell_type": "code",
   "execution_count": null,
   "id": "5f9a2fcc",
   "metadata": {},
   "outputs": [],
   "source": []
  },
  {
   "cell_type": "markdown",
   "id": "883ac616",
   "metadata": {},
   "source": [
    "# Filter in Lambda"
   ]
  },
  {
   "cell_type": "raw",
   "id": "a95038a0",
   "metadata": {},
   "source": [
    "filter() function\n",
    "\n",
    "It returns the items when function is true\n",
    "If none of the element meets the condition, it will return nothing. In the code below, we are checking if value is\n",
    "greate than 2"
   ]
  },
  {
   "cell_type": "code",
   "execution_count": 92,
   "id": "b060cea4",
   "metadata": {},
   "outputs": [
    {
     "data": {
      "text/plain": [
       "[3, 4, 5, 6, 7, 8, 9, 10]"
      ]
     },
     "execution_count": 92,
     "metadata": {},
     "output_type": "execute_result"
    }
   ],
   "source": [
    "mylist = [1,2,3,4,5,6,7,8,9,10]\n",
    "\n",
    "list(filter(lambda x: x>2, mylist))"
   ]
  },
  {
   "cell_type": "code",
   "execution_count": 93,
   "id": "93940009",
   "metadata": {},
   "outputs": [
    {
     "data": {
      "text/plain": [
       "[0, 2, 4, 6, 8, 10, 12, 14, 16, 18]"
      ]
     },
     "execution_count": 93,
     "metadata": {},
     "output_type": "execute_result"
    }
   ],
   "source": [
    "even = lambda x: x % 2 == 0\n",
    "list(filter(even, range(20)))"
   ]
  },
  {
   "cell_type": "code",
   "execution_count": 94,
   "id": "702cccbc",
   "metadata": {},
   "outputs": [
    {
     "data": {
      "text/plain": [
       "[0, 2, 4, 6, 8, 10, 12, 14, 16, 18, 20, 22, 24]"
      ]
     },
     "execution_count": 94,
     "metadata": {},
     "output_type": "execute_result"
    }
   ],
   "source": [
    "# Trying with list comprehension\n",
    "\n",
    "[x for x in range(25) if x%2 == 0]"
   ]
  },
  {
   "cell_type": "code",
   "execution_count": null,
   "id": "f00cbbce",
   "metadata": {},
   "outputs": [],
   "source": []
  },
  {
   "cell_type": "markdown",
   "id": "a0418944",
   "metadata": {},
   "source": [
    "# Class in python"
   ]
  },
  {
   "cell_type": "raw",
   "id": "39e5bb74",
   "metadata": {},
   "source": [
    "The nasic idea behinf an object oriented programming language (OOP) is to combine both data and associated procedures \n",
    "(known as methods) into a single unit which operate on the data. Such a unit is called an object.\n",
    "\n",
    "Pythonn is an Object Oriented Programming language, everything in Python is an object.\n",
    "\n",
    "See screenshot 0nn 081322 folder for more description."
   ]
  },
  {
   "cell_type": "code",
   "execution_count": null,
   "id": "1fff691f",
   "metadata": {},
   "outputs": [],
   "source": [
    "Class is a architecture of the object. A user defined prototype for an object that defines a set of attributes that\n",
    "characterize any object of the class.\n",
    "\n",
    "The attributes are data members (class variables and instance variables) and methods, accessed via dot notation\n",
    "classes provides a means of bundling data and functionality together.\n",
    "Creating a new class creates a new type of object, allowing new instances of that type to nbe made.\n",
    "\n",
    "Data member -  A class variable or instance variable that holds data associated with a class and its objects.\n",
    "\n",
    "Function -- function is a code that specify some task\n",
    "\n",
    "Instance - An individual object of certain class. An object obj belongs to certain a class circle, for example, is an instance\n",
    "of the class circle.\n",
    "\n",
    "Constructor is a special method. You can think as a function which initializes or activates the attributes or properties\n",
    "of the class for a object. Use keyword__int__to create a method for constructor.\n",
    "\n",
    "# keyword two times underscore init two times underscore #\n"
   ]
  },
  {
   "cell_type": "code",
   "execution_count": null,
   "id": "1f22086a",
   "metadata": {},
   "outputs": [],
   "source": []
  },
  {
   "cell_type": "raw",
   "id": "5340ce96",
   "metadata": {},
   "source": [
    "class - OOPS --- Object oriented programming technology"
   ]
  },
  {
   "cell_type": "code",
   "execution_count": 6,
   "id": "6ccca021",
   "metadata": {},
   "outputs": [],
   "source": [
    "class student:\n",
    "    def __init__(self,rollno,name):  # self instance/object name....Used two times underscore\n",
    "        self.rollno = rollno\n",
    "        self.name = name\n",
    "    \n",
    "    def display(self):\n",
    "        print(\"Student Rollno = \",self.rollno,\"and Name =\",self.name)"
   ]
  },
  {
   "cell_type": "code",
   "execution_count": 7,
   "id": "5df74cee",
   "metadata": {},
   "outputs": [
    {
     "name": "stdout",
     "output_type": "stream",
     "text": [
      "Student Rollno =  22 and Name = Naveen\n"
     ]
    }
   ],
   "source": [
    "# creating instance object\n",
    "\n",
    "obj1 = student(22,\"Naveen\") # This line will automatically invoke the initialization constructor \n",
    "obj1.display()              # User defined function is called explicity"
   ]
  },
  {
   "cell_type": "code",
   "execution_count": 9,
   "id": "d9fc3d54",
   "metadata": {},
   "outputs": [
    {
     "name": "stdout",
     "output_type": "stream",
     "text": [
      "Student Rollno =  24 and Name = Ranga\n"
     ]
    }
   ],
   "source": [
    "stu1 = student(24,\"Ranga\")\n",
    "stu1.display()"
   ]
  },
  {
   "cell_type": "code",
   "execution_count": null,
   "id": "420a2dfe",
   "metadata": {},
   "outputs": [],
   "source": []
  },
  {
   "cell_type": "code",
   "execution_count": 11,
   "id": "71a26297",
   "metadata": {},
   "outputs": [],
   "source": [
    "class  employee:\n",
    "    \n",
    "    def __init__(self,empid,empname,sal):\n",
    "        self.empid = empid\n",
    "        self.empname = empname\n",
    "        self.sal = sal\n",
    "        \n",
    "    def display(self):\n",
    "        print(self.empid,\" \",self.empname,\" \",self.sal)\n",
    "        "
   ]
  },
  {
   "cell_type": "code",
   "execution_count": 12,
   "id": "18842821",
   "metadata": {},
   "outputs": [
    {
     "name": "stdout",
     "output_type": "stream",
     "text": [
      "22   Naveen   80000\n",
      "1   Theinamma   100000\n",
      "24   Ranga   200000\n"
     ]
    }
   ],
   "source": [
    "emp1 = employee(22,\"Naveen\",80000)\n",
    "emp1.display()\n",
    "\n",
    "emp2 = employee(1,\"Theinamma\",100000)\n",
    "emp2.display()\n",
    "\n",
    "emp3 = employee(24,\"Ranga\",200000)\n",
    "emp3.display()"
   ]
  },
  {
   "cell_type": "code",
   "execution_count": 15,
   "id": "968fb3dd",
   "metadata": {},
   "outputs": [
    {
     "data": {
      "text/plain": [
       "22"
      ]
     },
     "execution_count": 15,
     "metadata": {},
     "output_type": "execute_result"
    }
   ],
   "source": [
    "emp1.empid"
   ]
  },
  {
   "cell_type": "code",
   "execution_count": 16,
   "id": "241061c4",
   "metadata": {},
   "outputs": [
    {
     "data": {
      "text/plain": [
       "'Ranga'"
      ]
     },
     "execution_count": 16,
     "metadata": {},
     "output_type": "execute_result"
    }
   ],
   "source": [
    "emp3.empname"
   ]
  },
  {
   "cell_type": "code",
   "execution_count": 17,
   "id": "bbc2afae",
   "metadata": {},
   "outputs": [],
   "source": [
    "class  employee1:\n",
    "    revenue = 3000000                     # Class Variable\n",
    "    \n",
    "    def __init__(self,empid1,empname1,sal1):\n",
    "        self.empid1= empid1                # instance variable  \n",
    "        self.empname1 = empname1\n",
    "        self.sal1 = sal1\n",
    "        \n",
    "    def display(self):\n",
    "        print(self.empid1,\" \",self.empname1,\" \",self.sal1)"
   ]
  },
  {
   "cell_type": "code",
   "execution_count": 18,
   "id": "b6ff5168",
   "metadata": {},
   "outputs": [
    {
     "data": {
      "text/plain": [
       "3000000"
      ]
     },
     "execution_count": 18,
     "metadata": {},
     "output_type": "execute_result"
    }
   ],
   "source": [
    "employee1.revenue"
   ]
  },
  {
   "cell_type": "code",
   "execution_count": null,
   "id": "003b1c3c",
   "metadata": {},
   "outputs": [],
   "source": []
  },
  {
   "cell_type": "code",
   "execution_count": 23,
   "id": "48b2021e",
   "metadata": {},
   "outputs": [
    {
     "name": "stdout",
     "output_type": "stream",
     "text": [
      "Id is 101 Name is  Andy\n",
      "Id is 102 Name is  Mark\n"
     ]
    }
   ],
   "source": [
    "class person:\n",
    "    def __init__(self,id,name):\n",
    "        self.id = id\n",
    "        self.name = name\n",
    "        \n",
    "    def display(self):\n",
    "        print(\"Id is\", self.id,\"Name is \",self.name)\n",
    "        \n",
    "#instance object\n",
    "\n",
    "p1 = person(101,\"Andy\")\n",
    "p1.display()\n",
    "\n",
    "p2 = person(102,\"Mark\")\n",
    "p2.display()"
   ]
  },
  {
   "cell_type": "code",
   "execution_count": 24,
   "id": "5597ab51",
   "metadata": {},
   "outputs": [],
   "source": [
    "def main():\n",
    "    p = person(200,\"Thein\")\n",
    "    p.display()"
   ]
  },
  {
   "cell_type": "code",
   "execution_count": 26,
   "id": "f7ef2e9d",
   "metadata": {},
   "outputs": [
    {
     "name": "stdout",
     "output_type": "stream",
     "text": [
      "Id is 200 Name is  Thein\n"
     ]
    }
   ],
   "source": [
    "if __name__==\"__main__\":\n",
    "    main()"
   ]
  },
  {
   "cell_type": "code",
   "execution_count": null,
   "id": "fd5ae185",
   "metadata": {},
   "outputs": [],
   "source": []
  },
  {
   "cell_type": "code",
   "execution_count": 30,
   "id": "867f09b3",
   "metadata": {},
   "outputs": [
    {
     "name": "stdout",
     "output_type": "stream",
     "text": [
      "Initialize data for players\n",
      "Player details : Virat 35 Cricket\n",
      "Getting data for players\n",
      "Player details : Messi 35 Football\n",
      "Initialize data for players\n",
      "Player details : Dhoni 38 Cricket\n",
      "Getting data for players\n",
      "Player details : Ronaldo 38 Ronaldo\n"
     ]
    }
   ],
   "source": [
    "class player:\n",
    "    \n",
    "    def __init__(self,name,age,sport):\n",
    "        print(\"Initialize data for players\")\n",
    "        self.name = name\n",
    "        self.age = age\n",
    "        self.sport = sport\n",
    "        \n",
    "        \n",
    "    def getdata(self,name,age,sport):\n",
    "        print(\"Getting data for players\")\n",
    "        self.name = name\n",
    "        self.age = age\n",
    "        self.sport = sport\n",
    "        \n",
    "    \n",
    "    def displaydata(self):\n",
    "        print(\"Player details :\", self.name,self.age,self.sport)\n",
    "    \n",
    "def main():\n",
    "    p1 = player(\"Virat\",35,\"Cricket\")\n",
    "    p1.displaydata()\n",
    "    \n",
    "    p1.getdata(\"Messi\",35,\"Football\")\n",
    "    p1.displaydata()\n",
    "    \n",
    "    p2 = player(\"Dhoni\",38,\"Cricket\")\n",
    "    p2.displaydata()\n",
    "    \n",
    "    p2.getdata(\"Ronaldo\",38,\"Ronaldo\")\n",
    "    p2.displaydata()\n",
    "    \n",
    "if __name__==\"__main__\":\n",
    "    main()"
   ]
  },
  {
   "cell_type": "code",
   "execution_count": null,
   "id": "4fd08332",
   "metadata": {},
   "outputs": [],
   "source": []
  },
  {
   "cell_type": "markdown",
   "id": "a90a3e37",
   "metadata": {},
   "source": [
    "# Modules refer recording video 0814"
   ]
  },
  {
   "cell_type": "code",
   "execution_count": 31,
   "id": "e193c6d2",
   "metadata": {},
   "outputs": [],
   "source": [
    "import keyword"
   ]
  },
  {
   "cell_type": "code",
   "execution_count": 34,
   "id": "24983303",
   "metadata": {},
   "outputs": [
    {
     "data": {
      "text/plain": [
       "['False',\n",
       " 'None',\n",
       " 'True',\n",
       " '__peg_parser__',\n",
       " 'and',\n",
       " 'as',\n",
       " 'assert',\n",
       " 'async',\n",
       " 'await',\n",
       " 'break',\n",
       " 'class',\n",
       " 'continue',\n",
       " 'def',\n",
       " 'del',\n",
       " 'elif',\n",
       " 'else',\n",
       " 'except',\n",
       " 'finally',\n",
       " 'for',\n",
       " 'from',\n",
       " 'global',\n",
       " 'if',\n",
       " 'import',\n",
       " 'in',\n",
       " 'is',\n",
       " 'lambda',\n",
       " 'nonlocal',\n",
       " 'not',\n",
       " 'or',\n",
       " 'pass',\n",
       " 'raise',\n",
       " 'return',\n",
       " 'try',\n",
       " 'while',\n",
       " 'with',\n",
       " 'yield']"
      ]
     },
     "execution_count": 34,
     "metadata": {},
     "output_type": "execute_result"
    }
   ],
   "source": [
    "keyword.kwlist"
   ]
  },
  {
   "cell_type": "raw",
   "id": "ae93accd",
   "metadata": {},
   "source": [
    "Python module search path\n",
    "\n",
    "While importing a module, python looks at several places. Interpreter first looks for a built in module then(if not found)\n",
    "into a list of directories defined in sys.path. The search is in thos order, the current directory\n",
    "\n",
    "refer recording video 0814"
   ]
  },
  {
   "cell_type": "code",
   "execution_count": 35,
   "id": "e689fd3c",
   "metadata": {},
   "outputs": [],
   "source": [
    "import sys"
   ]
  },
  {
   "cell_type": "code",
   "execution_count": 36,
   "id": "519a70ef",
   "metadata": {},
   "outputs": [
    {
     "data": {
      "text/plain": [
       "['C:\\\\Users\\\\navee',\n",
       " 'C:\\\\ProgramData\\\\Anaconda3\\\\python39.zip',\n",
       " 'C:\\\\ProgramData\\\\Anaconda3\\\\DLLs',\n",
       " 'C:\\\\ProgramData\\\\Anaconda3\\\\lib',\n",
       " 'C:\\\\ProgramData\\\\Anaconda3',\n",
       " '',\n",
       " 'C:\\\\Users\\\\navee\\\\AppData\\\\Roaming\\\\Python\\\\Python39\\\\site-packages',\n",
       " 'C:\\\\ProgramData\\\\Anaconda3\\\\lib\\\\site-packages',\n",
       " 'C:\\\\ProgramData\\\\Anaconda3\\\\lib\\\\site-packages\\\\win32',\n",
       " 'C:\\\\ProgramData\\\\Anaconda3\\\\lib\\\\site-packages\\\\win32\\\\lib',\n",
       " 'C:\\\\ProgramData\\\\Anaconda3\\\\lib\\\\site-packages\\\\Pythonwin']"
      ]
     },
     "execution_count": 36,
     "metadata": {},
     "output_type": "execute_result"
    }
   ],
   "source": [
    "sys.path"
   ]
  },
  {
   "cell_type": "code",
   "execution_count": 37,
   "id": "acff54b0",
   "metadata": {},
   "outputs": [],
   "source": [
    "import os"
   ]
  },
  {
   "cell_type": "code",
   "execution_count": 38,
   "id": "c095f90a",
   "metadata": {},
   "outputs": [
    {
     "data": {
      "text/plain": [
       "'C:\\\\Users\\\\navee'"
      ]
     },
     "execution_count": 38,
     "metadata": {},
     "output_type": "execute_result"
    }
   ],
   "source": [
    "# get current working directory\n",
    "\n",
    "os.getcwd()"
   ]
  },
  {
   "cell_type": "code",
   "execution_count": null,
   "id": "c2cbc6af",
   "metadata": {},
   "outputs": [],
   "source": [
    "# changing directory\n",
    "\n",
    "# we can change the current working directory using the chdir() method.\n",
    "# os.chdir('C:\\\\Users\\\\navee')\n",
    "# os.getcwd()      # Do not change the  directory"
   ]
  },
  {
   "cell_type": "code",
   "execution_count": null,
   "id": "baae2806",
   "metadata": {},
   "outputs": [],
   "source": []
  },
  {
   "cell_type": "code",
   "execution_count": 39,
   "id": "cbf3616a",
   "metadata": {},
   "outputs": [
    {
     "data": {
      "text/plain": [
       "['.anaconda',\n",
       " '.conda',\n",
       " '.condarc',\n",
       " '.continuum',\n",
       " '.ipynb_checkpoints',\n",
       " '.ipython',\n",
       " '.jupyter',\n",
       " '3D Objects',\n",
       " 'AppData',\n",
       " 'Application Data',\n",
       " 'Audio_DTS_ROG_Realtek_B_V6.0.9239.1_24698.exe',\n",
       " 'Billionaires.csv',\n",
       " 'Class OOPS - Object Oriented Programming Technology.ipynb',\n",
       " 'Contacts',\n",
       " 'Cookies',\n",
       " 'Copy Selenium.ipynb',\n",
       " \"Data Trained Live Class - Aug'22.ipynb\",\n",
       " \"Data Trained Live Class - July'2022 Basics Python, Data Structures.ipynb\",\n",
       " 'Desktop',\n",
       " 'Documents',\n",
       " 'Downloads',\n",
       " 'Favorites',\n",
       " 'file1.csv',\n",
       " 'file2.csv',\n",
       " 'Funding.csv',\n",
       " 'Guitar.csv',\n",
       " 'Hostel.csv',\n",
       " 'IntelGraphicsProfiles',\n",
       " 'Laptop.csv',\n",
       " 'Links',\n",
       " 'Live Class 0702 and 0703.ipynb',\n",
       " 'Local Settings',\n",
       " 'Music',\n",
       " 'My Documents',\n",
       " 'Naveen  Data Trained  Live Class 625 626.ipynb',\n",
       " 'NetHood',\n",
       " 'NTUSER.DAT',\n",
       " 'ntuser.dat.LOG1',\n",
       " 'ntuser.dat.LOG2',\n",
       " 'NTUSER.DAT{a2332f18-cdbf-11ec-8680-002248483d79}.TM.blf',\n",
       " 'NTUSER.DAT{a2332f18-cdbf-11ec-8680-002248483d79}.TMContainer00000000000000000001.regtrans-ms',\n",
       " 'NTUSER.DAT{a2332f18-cdbf-11ec-8680-002248483d79}.TMContainer00000000000000000002.regtrans-ms',\n",
       " 'ntuser.ini',\n",
       " 'OneDrive',\n",
       " 'Online Courses Testing Expressions Data Branching.ipynb',\n",
       " 'Pictures',\n",
       " 'Practice Assignments Python.ipynb',\n",
       " 'PrintHood',\n",
       " 'Recent',\n",
       " 'Saved Games',\n",
       " 'Searches',\n",
       " 'SendTo',\n",
       " 'smartphone.csv',\n",
       " 'Start Menu',\n",
       " 'Templates',\n",
       " 'Videos',\n",
       " 'Web Scraping Assignment - Beautiful Soup - Naveen Kumar Ranganathan-Copy1.ipynb',\n",
       " 'Web Scraping Assignment - Beautiful Soup - Naveen Kumar Ranganathan.ipynb',\n",
       " 'Web Scraping Exception Handling Selenium - Naveen Kumar Ranganathan-Copy1.ipynb',\n",
       " 'Web Scraping Exception Handling Selenium - Naveen Kumar Ranganathan.ipynb',\n",
       " 'Web Scraping using Selenium_ Naveen Kumar Ranganathan-Copy1.ipynb',\n",
       " 'Web Scraping using Selenium_ Naveen Kumar Ranganathan.ipynb',\n",
       " 'WirelessLan_ROG_MediaTek_Z_V3.00.01.1244Sub1_28758.exe',\n",
       " 'YouTube.csv']"
      ]
     },
     "execution_count": 39,
     "metadata": {},
     "output_type": "execute_result"
    }
   ],
   "source": [
    "# Shows the list of files and folders in current working directory\n",
    "\n",
    "os.listdir()"
   ]
  },
  {
   "cell_type": "code",
   "execution_count": null,
   "id": "3442670b",
   "metadata": {},
   "outputs": [],
   "source": []
  },
  {
   "cell_type": "code",
   "execution_count": 40,
   "id": "a6d7d5e5",
   "metadata": {},
   "outputs": [],
   "source": [
    "import math  # importing inbuilt math module"
   ]
  },
  {
   "cell_type": "code",
   "execution_count": 41,
   "id": "9a70261e",
   "metadata": {},
   "outputs": [
    {
     "data": {
      "text/plain": [
       "3.141592653589793"
      ]
     },
     "execution_count": 41,
     "metadata": {},
     "output_type": "execute_result"
    }
   ],
   "source": [
    "math.pi"
   ]
  },
  {
   "cell_type": "code",
   "execution_count": 45,
   "id": "d178a53f",
   "metadata": {},
   "outputs": [
    {
     "data": {
      "text/plain": [
       "6.0"
      ]
     },
     "execution_count": 45,
     "metadata": {},
     "output_type": "execute_result"
    }
   ],
   "source": [
    "math.sqrt(36)"
   ]
  },
  {
   "cell_type": "code",
   "execution_count": 50,
   "id": "13869119",
   "metadata": {},
   "outputs": [
    {
     "data": {
      "text/plain": [
       "9.0"
      ]
     },
     "execution_count": 50,
     "metadata": {},
     "output_type": "execute_result"
    }
   ],
   "source": [
    "math.sqrt(81)"
   ]
  },
  {
   "cell_type": "code",
   "execution_count": 51,
   "id": "c7b185d7",
   "metadata": {},
   "outputs": [
    {
     "data": {
      "text/plain": [
       "4.0"
      ]
     },
     "execution_count": 51,
     "metadata": {},
     "output_type": "execute_result"
    }
   ],
   "source": [
    "math.pow(2,2) # 2 is base and 2 is power"
   ]
  },
  {
   "cell_type": "code",
   "execution_count": 52,
   "id": "cd5aa30f",
   "metadata": {},
   "outputs": [
    {
     "data": {
      "text/plain": [
       "8.0"
      ]
     },
     "execution_count": 52,
     "metadata": {},
     "output_type": "execute_result"
    }
   ],
   "source": [
    "math.pow(2,3) # 2 is base and 3 is power"
   ]
  },
  {
   "cell_type": "code",
   "execution_count": 53,
   "id": "96ea9c74",
   "metadata": {},
   "outputs": [
    {
     "data": {
      "text/plain": [
       "729.0"
      ]
     },
     "execution_count": 53,
     "metadata": {},
     "output_type": "execute_result"
    }
   ],
   "source": [
    "math.pow(3,6)"
   ]
  },
  {
   "cell_type": "code",
   "execution_count": 55,
   "id": "a58e33be",
   "metadata": {},
   "outputs": [
    {
     "data": {
      "text/plain": [
       "314.16"
      ]
     },
     "execution_count": 55,
     "metadata": {},
     "output_type": "execute_result"
    }
   ],
   "source": [
    "# Area of circle\n",
    "\n",
    "radius = 10\n",
    "\n",
    "areaofcircle = math.pi*(radius**2)\n",
    "round(areaofcircle,2)"
   ]
  },
  {
   "cell_type": "code",
   "execution_count": 56,
   "id": "b152f2b7",
   "metadata": {},
   "outputs": [
    {
     "data": {
      "text/plain": [
       "314.1592653589793"
      ]
     },
     "execution_count": 56,
     "metadata": {},
     "output_type": "execute_result"
    }
   ],
   "source": [
    "areaofcircle"
   ]
  },
  {
   "cell_type": "code",
   "execution_count": null,
   "id": "4b86ab92",
   "metadata": {},
   "outputs": [],
   "source": []
  },
  {
   "cell_type": "code",
   "execution_count": 63,
   "id": "b272a31c",
   "metadata": {},
   "outputs": [
    {
     "name": "stdout",
     "output_type": "stream",
     "text": [
      "Enter X = 6\n"
     ]
    },
    {
     "data": {
      "text/plain": [
       "2.45"
      ]
     },
     "execution_count": 63,
     "metadata": {},
     "output_type": "execute_result"
    }
   ],
   "source": [
    "def find_sqrt(x):\n",
    "    return math.sqrt(x)\n",
    "\n",
    "x = int(input(\"Enter X = \"))\n",
    "round(find_sqrt(x),2)"
   ]
  },
  {
   "cell_type": "code",
   "execution_count": 64,
   "id": "5875470a",
   "metadata": {},
   "outputs": [
    {
     "data": {
      "text/plain": [
       "2.449489742783178"
      ]
     },
     "execution_count": 64,
     "metadata": {},
     "output_type": "execute_result"
    }
   ],
   "source": [
    "find_sqrt(x)"
   ]
  },
  {
   "cell_type": "code",
   "execution_count": null,
   "id": "d1809329",
   "metadata": {},
   "outputs": [],
   "source": []
  },
  {
   "cell_type": "code",
   "execution_count": 66,
   "id": "2d92b6a6",
   "metadata": {},
   "outputs": [
    {
     "name": "stdout",
     "output_type": "stream",
     "text": [
      "Enter a = 5\n",
      "Enter b = 5\n"
     ]
    },
    {
     "data": {
      "text/plain": [
       "3125.0"
      ]
     },
     "execution_count": 66,
     "metadata": {},
     "output_type": "execute_result"
    }
   ],
   "source": [
    "def fun_power(a,b):\n",
    "    return math.pow(a,b)    # a is base and b is power\n",
    "\n",
    "a = int(input(\"Enter a = \"))\n",
    "b = int(input(\"Enter b = \"))\n",
    "\n",
    "fun_power(a,b)"
   ]
  },
  {
   "cell_type": "code",
   "execution_count": 67,
   "id": "e0bd2c33",
   "metadata": {},
   "outputs": [],
   "source": [
    "# We can also import the modules into  specific variables\n",
    "\n",
    "import math as mt"
   ]
  },
  {
   "cell_type": "code",
   "execution_count": 68,
   "id": "c3591c12",
   "metadata": {},
   "outputs": [
    {
     "data": {
      "text/plain": [
       "16.0"
      ]
     },
     "execution_count": 68,
     "metadata": {},
     "output_type": "execute_result"
    }
   ],
   "source": [
    "mt.pow(2,4)"
   ]
  },
  {
   "cell_type": "code",
   "execution_count": 71,
   "id": "c7ca80dc",
   "metadata": {},
   "outputs": [
    {
     "data": {
      "text/plain": [
       "3.0"
      ]
     },
     "execution_count": 71,
     "metadata": {},
     "output_type": "execute_result"
    }
   ],
   "source": [
    "mt.sqrt(9)"
   ]
  },
  {
   "cell_type": "code",
   "execution_count": 70,
   "id": "ceb43cbb",
   "metadata": {},
   "outputs": [
    {
     "name": "stdout",
     "output_type": "stream",
     "text": [
      "Enter a = 6\n",
      "Enter b = 6\n"
     ]
    },
    {
     "data": {
      "text/plain": [
       "46656.0"
      ]
     },
     "execution_count": 70,
     "metadata": {},
     "output_type": "execute_result"
    }
   ],
   "source": [
    "def fun_power(a,b):\n",
    "    return mt.pow(a,b)    # a is base and b is power and module changed to # mt\n",
    "\n",
    "a = int(input(\"Enter a = \"))\n",
    "b = int(input(\"Enter b = \"))\n",
    "\n",
    "fun_power(a,b)"
   ]
  },
  {
   "cell_type": "code",
   "execution_count": null,
   "id": "6f9af1bf",
   "metadata": {},
   "outputs": [],
   "source": []
  },
  {
   "cell_type": "raw",
   "id": "281d7f47",
   "metadata": {},
   "source": [
    "# If we want to import specific function from math we can call it bbu using # from"
   ]
  },
  {
   "cell_type": "code",
   "execution_count": 72,
   "id": "53d8d513",
   "metadata": {},
   "outputs": [],
   "source": [
    "from math import sqrt"
   ]
  },
  {
   "cell_type": "code",
   "execution_count": 73,
   "id": "8a88ebe3",
   "metadata": {},
   "outputs": [
    {
     "data": {
      "text/plain": [
       "9.0"
      ]
     },
     "execution_count": 73,
     "metadata": {},
     "output_type": "execute_result"
    }
   ],
   "source": [
    "sqrt(81)"
   ]
  },
  {
   "cell_type": "code",
   "execution_count": 76,
   "id": "98464ba8",
   "metadata": {},
   "outputs": [],
   "source": [
    "from math import pi,pow"
   ]
  },
  {
   "cell_type": "code",
   "execution_count": 75,
   "id": "b4162067",
   "metadata": {},
   "outputs": [
    {
     "data": {
      "text/plain": [
       "3.141592653589793"
      ]
     },
     "execution_count": 75,
     "metadata": {},
     "output_type": "execute_result"
    }
   ],
   "source": [
    "pi"
   ]
  },
  {
   "cell_type": "code",
   "execution_count": 77,
   "id": "16e40a87",
   "metadata": {},
   "outputs": [
    {
     "data": {
      "text/plain": [
       "27.0"
      ]
     },
     "execution_count": 77,
     "metadata": {},
     "output_type": "execute_result"
    }
   ],
   "source": [
    "pow(3,3)"
   ]
  },
  {
   "cell_type": "code",
   "execution_count": null,
   "id": "7bdfeb87",
   "metadata": {},
   "outputs": [],
   "source": []
  },
  {
   "cell_type": "code",
   "execution_count": 81,
   "id": "42e7d1ef",
   "metadata": {},
   "outputs": [
    {
     "data": {
      "text/plain": [
       "dict_keys(['__name__', '__doc__', '__package__', '__loader__', '__spec__', 'acos', 'acosh', 'asin', 'asinh', 'atan', 'atan2', 'atanh', 'ceil', 'copysign', 'cos', 'cosh', 'degrees', 'dist', 'erf', 'erfc', 'exp', 'expm1', 'fabs', 'factorial', 'floor', 'fmod', 'frexp', 'fsum', 'gamma', 'gcd', 'hypot', 'isclose', 'isfinite', 'isinf', 'isnan', 'isqrt', 'lcm', 'ldexp', 'lgamma', 'log', 'log1p', 'log10', 'log2', 'modf', 'pow', 'radians', 'remainder', 'sin', 'sinh', 'sqrt', 'tan', 'tanh', 'trunc', 'prod', 'perm', 'comb', 'nextafter', 'ulp', 'pi', 'e', 'tau', 'inf', 'nan'])"
      ]
     },
     "execution_count": 81,
     "metadata": {},
     "output_type": "execute_result"
    }
   ],
   "source": [
    "math.__dict__.keys()"
   ]
  },
  {
   "cell_type": "code",
   "execution_count": null,
   "id": "a75f2f09",
   "metadata": {},
   "outputs": [],
   "source": []
  },
  {
   "cell_type": "code",
   "execution_count": 82,
   "id": "9fc45d75",
   "metadata": {},
   "outputs": [],
   "source": [
    "# Get current Date and Time\n",
    "\n",
    "import datetime"
   ]
  },
  {
   "cell_type": "code",
   "execution_count": 83,
   "id": "ce4cb5ce",
   "metadata": {},
   "outputs": [
    {
     "data": {
      "text/plain": [
       "datetime.datetime(2022, 12, 29, 8, 32, 1, 540779)"
      ]
     },
     "execution_count": 83,
     "metadata": {},
     "output_type": "execute_result"
    }
   ],
   "source": [
    "dt = datetime.datetime.now()\n",
    "dt"
   ]
  },
  {
   "cell_type": "code",
   "execution_count": 84,
   "id": "4d7964cb",
   "metadata": {},
   "outputs": [
    {
     "data": {
      "text/plain": [
       "datetime.date(2022, 12, 29)"
      ]
     },
     "execution_count": 84,
     "metadata": {},
     "output_type": "execute_result"
    }
   ],
   "source": [
    "dt1 = datetime.date.today()\n",
    "dt1"
   ]
  },
  {
   "cell_type": "code",
   "execution_count": 97,
   "id": "0cf10415",
   "metadata": {},
   "outputs": [
    {
     "data": {
      "text/plain": [
       "2022"
      ]
     },
     "execution_count": 97,
     "metadata": {},
     "output_type": "execute_result"
    }
   ],
   "source": [
    "dt1.year"
   ]
  },
  {
   "cell_type": "code",
   "execution_count": 98,
   "id": "c1ad3056",
   "metadata": {},
   "outputs": [
    {
     "data": {
      "text/plain": [
       "12"
      ]
     },
     "execution_count": 98,
     "metadata": {},
     "output_type": "execute_result"
    }
   ],
   "source": [
    "dt1.month"
   ]
  },
  {
   "cell_type": "code",
   "execution_count": 99,
   "id": "ada8ea7a",
   "metadata": {},
   "outputs": [
    {
     "data": {
      "text/plain": [
       "29"
      ]
     },
     "execution_count": 99,
     "metadata": {},
     "output_type": "execute_result"
    }
   ],
   "source": [
    "dt1.day"
   ]
  },
  {
   "cell_type": "raw",
   "id": "5d1db516",
   "metadata": {},
   "source": [
    "Commonly used classes in the datetime module are:\n",
    "\n",
    "date class\n",
    "time class\n",
    "datetime class\n",
    "timedelta class"
   ]
  },
  {
   "cell_type": "code",
   "execution_count": null,
   "id": "fb9e449a",
   "metadata": {},
   "outputs": [],
   "source": []
  },
  {
   "cell_type": "raw",
   "id": "6aab6c4f",
   "metadata": {},
   "source": [
    "A time object instantiated from the time class represents the local time"
   ]
  },
  {
   "cell_type": "code",
   "execution_count": 100,
   "id": "be4dec4d",
   "metadata": {},
   "outputs": [],
   "source": [
    "from datetime import time"
   ]
  },
  {
   "cell_type": "code",
   "execution_count": 101,
   "id": "94ec8d18",
   "metadata": {},
   "outputs": [
    {
     "name": "stdout",
     "output_type": "stream",
     "text": [
      "00:00:00\n"
     ]
    }
   ],
   "source": [
    "a = time()\n",
    "print(a)"
   ]
  },
  {
   "cell_type": "code",
   "execution_count": 102,
   "id": "5c9cb4ba",
   "metadata": {},
   "outputs": [
    {
     "name": "stdout",
     "output_type": "stream",
     "text": [
      "08:46:22\n"
     ]
    }
   ],
   "source": [
    "# time(hour,minute,seconds)\n",
    "\n",
    "b = time(8,46,22)\n",
    "print(b)"
   ]
  },
  {
   "cell_type": "code",
   "execution_count": 105,
   "id": "b5d975b0",
   "metadata": {},
   "outputs": [
    {
     "name": "stdout",
     "output_type": "stream",
     "text": [
      "8 hour 46 Min 22 Sec\n"
     ]
    }
   ],
   "source": [
    "print(b.hour,\"hour\",b.minute,\"Min\",b.second,\"Sec\")"
   ]
  },
  {
   "cell_type": "code",
   "execution_count": null,
   "id": "de7608db",
   "metadata": {},
   "outputs": [],
   "source": []
  },
  {
   "cell_type": "markdown",
   "id": "e80c9541",
   "metadata": {},
   "source": [
    "# Pip Python Package Manager"
   ]
  },
  {
   "cell_type": "raw",
   "id": "9b7f38b7",
   "metadata": {},
   "source": [
    "The best way to manage Python's third party packages/modules is with pip.\n",
    "\n",
    "!pip install Textblob"
   ]
  },
  {
   "cell_type": "code",
   "execution_count": null,
   "id": "228503af",
   "metadata": {},
   "outputs": [],
   "source": []
  },
  {
   "cell_type": "markdown",
   "id": "3ac8d3ab",
   "metadata": {},
   "source": [
    "# File Input/Output Operations"
   ]
  },
  {
   "cell_type": "raw",
   "id": "c3b4fef2",
   "metadata": {},
   "source": [
    "f = open('C:\\\\python\\\\file1.txt','w') # to create and write a file\n",
    "f = open('C:\\\\python\\\\file1.txt','r') # to read a file\n",
    "f = open('C:\\\\python\\\\file1.txt','a') # to append the file\n",
    "\n",
    "# rb is read binary\n",
    "# wb is read binary\n",
    "\n",
    "# When creating the file use \\\\ slash"
   ]
  },
  {
   "cell_type": "code",
   "execution_count": 158,
   "id": "c0e7611a",
   "metadata": {},
   "outputs": [],
   "source": [
    "file1 = open('C:\\\\Users\\\\navee\\\\Desktop\\\\Data Science Course Materials\\\\081322 and 081422 modules, Functions,class and packages\\\\demofile.txt','w')"
   ]
  },
  {
   "cell_type": "code",
   "execution_count": 159,
   "id": "e3cf4e64",
   "metadata": {},
   "outputs": [
    {
     "data": {
      "text/plain": [
       "22"
      ]
     },
     "execution_count": 159,
     "metadata": {},
     "output_type": "execute_result"
    }
   ],
   "source": [
    "file1.write(\"This is the first line\")"
   ]
  },
  {
   "cell_type": "code",
   "execution_count": 160,
   "id": "d2fbb090",
   "metadata": {},
   "outputs": [],
   "source": [
    "file1.close()"
   ]
  },
  {
   "cell_type": "code",
   "execution_count": 161,
   "id": "0165ce56",
   "metadata": {},
   "outputs": [],
   "source": [
    "file1 = open('C:\\\\Users\\\\navee\\\\Desktop\\\\Data Science Course Materials\\\\081322 and 081422 modules, Functions,class and packages\\\\demofile.txt','r')"
   ]
  },
  {
   "cell_type": "code",
   "execution_count": 162,
   "id": "4d74c4e9",
   "metadata": {},
   "outputs": [
    {
     "data": {
      "text/plain": [
       "'This is the first line'"
      ]
     },
     "execution_count": 162,
     "metadata": {},
     "output_type": "execute_result"
    }
   ],
   "source": [
    "file1.read()"
   ]
  },
  {
   "cell_type": "code",
   "execution_count": 163,
   "id": "587b4b55",
   "metadata": {},
   "outputs": [],
   "source": [
    "file1.close()"
   ]
  },
  {
   "cell_type": "code",
   "execution_count": 164,
   "id": "ac9ff76c",
   "metadata": {},
   "outputs": [],
   "source": [
    "file1 = open('C:\\\\Users\\\\navee\\\\Desktop\\\\Data Science Course Materials\\\\081322 and 081422 modules, Functions,class and packages\\\\demofile.txt','a')"
   ]
  },
  {
   "cell_type": "code",
   "execution_count": 165,
   "id": "8cd5129d",
   "metadata": {},
   "outputs": [
    {
     "data": {
      "text/plain": [
       "33"
      ]
     },
     "execution_count": 165,
     "metadata": {},
     "output_type": "execute_result"
    }
   ],
   "source": [
    "file1.write(\"\\n My father name is C.Ranganathan\")"
   ]
  },
  {
   "cell_type": "code",
   "execution_count": 166,
   "id": "2516aef1",
   "metadata": {},
   "outputs": [],
   "source": [
    "file1.close()"
   ]
  },
  {
   "cell_type": "code",
   "execution_count": 167,
   "id": "502eb5a2",
   "metadata": {},
   "outputs": [],
   "source": [
    "file1 = open('C:\\\\Users\\\\navee\\\\Desktop\\\\Data Science Course Materials\\\\081322 and 081422 modules, Functions,class and packages\\\\demofile.txt','r')"
   ]
  },
  {
   "cell_type": "code",
   "execution_count": 168,
   "id": "1e506c30",
   "metadata": {},
   "outputs": [
    {
     "data": {
      "text/plain": [
       "'This is the first line\\n My father name is C.Ranganathan'"
      ]
     },
     "execution_count": 168,
     "metadata": {},
     "output_type": "execute_result"
    }
   ],
   "source": [
    "file1.read()"
   ]
  },
  {
   "cell_type": "code",
   "execution_count": 169,
   "id": "11c39601",
   "metadata": {},
   "outputs": [],
   "source": [
    "file1.close()"
   ]
  },
  {
   "cell_type": "code",
   "execution_count": null,
   "id": "bebcdef2",
   "metadata": {},
   "outputs": [],
   "source": []
  },
  {
   "cell_type": "markdown",
   "id": "62d51d0e",
   "metadata": {},
   "source": [
    "# Serialization  082022"
   ]
  },
  {
   "cell_type": "raw",
   "id": "820cc893",
   "metadata": {},
   "source": [
    "# Serialization - Dragging or saving the file from jupyter to any file format(obj or binary) is call serialization\n",
    "# De Serialization - vice versa of serialization which is dragging the file into jupyter notebook\n",
    "\n",
    "pickle - built in method for serialization\n",
    "\n",
    "dump method - serialization from dictionary object to binary\n",
    "load method - De serialization from binary to dictionary object"
   ]
  },
  {
   "cell_type": "code",
   "execution_count": null,
   "id": "faaa6a9f",
   "metadata": {},
   "outputs": [],
   "source": []
  },
  {
   "cell_type": "markdown",
   "id": "e1b67fba",
   "metadata": {},
   "source": [
    "# Pickle in python: Object Serialization"
   ]
  },
  {
   "cell_type": "code",
   "execution_count": 193,
   "id": "5061ed00",
   "metadata": {},
   "outputs": [],
   "source": [
    "# We will not be able to read the file as it is stored in binary formats"
   ]
  },
  {
   "cell_type": "code",
   "execution_count": 170,
   "id": "4a553a2d",
   "metadata": {},
   "outputs": [],
   "source": [
    "import pickle"
   ]
  },
  {
   "cell_type": "code",
   "execution_count": 172,
   "id": "85e174d8",
   "metadata": {},
   "outputs": [],
   "source": [
    "flower_dict = {1:\"Rose\",2:\"Lily\",3:\"Lotus\",4:\"Tulip\"}"
   ]
  },
  {
   "cell_type": "code",
   "execution_count": 176,
   "id": "1ffbf802",
   "metadata": {},
   "outputs": [],
   "source": [
    "# Saving the file sample\n",
    "\n",
    "filename = 'flower'\n",
    "outfile = open(filename,'wb')  # wb is write binary "
   ]
  },
  {
   "cell_type": "code",
   "execution_count": 184,
   "id": "5f1b3f78",
   "metadata": {},
   "outputs": [],
   "source": [
    "#  filename = 'flower'\n",
    "outfile = open('flower.obj','wb')  # file will be stored in jupyter home page"
   ]
  },
  {
   "cell_type": "code",
   "execution_count": 185,
   "id": "f0428270",
   "metadata": {},
   "outputs": [],
   "source": [
    "# picking the file\n",
    "# dump method serialize\n",
    "\n",
    "pickle.dump(flower_dict,outfile)\n",
    "outfile.close()"
   ]
  },
  {
   "cell_type": "code",
   "execution_count": 186,
   "id": "2f5f2e38",
   "metadata": {},
   "outputs": [],
   "source": [
    "# Unpickle the file sample\n",
    "\n",
    "infile = open(filename,'rb') # rb is read binary"
   ]
  },
  {
   "cell_type": "code",
   "execution_count": 187,
   "id": "e78765cc",
   "metadata": {},
   "outputs": [],
   "source": [
    "# Unpickle the file\n",
    "\n",
    "infile = open('flower.obj','rb') # rb is read binary"
   ]
  },
  {
   "cell_type": "code",
   "execution_count": null,
   "id": "46ad8118",
   "metadata": {},
   "outputs": [],
   "source": [
    "# de serialize\n",
    "# load method\n",
    "\n",
    "new_dict = pickle.load(infile)"
   ]
  },
  {
   "cell_type": "code",
   "execution_count": 189,
   "id": "85a710c1",
   "metadata": {},
   "outputs": [],
   "source": [
    "infile.close()"
   ]
  },
  {
   "cell_type": "code",
   "execution_count": 190,
   "id": "465189c6",
   "metadata": {},
   "outputs": [
    {
     "name": "stdout",
     "output_type": "stream",
     "text": [
      "{1: 'Rose', 2: 'Lily', 3: 'Lotus', 4: 'Tulip'}\n"
     ]
    }
   ],
   "source": [
    "print(new_dict)"
   ]
  },
  {
   "cell_type": "code",
   "execution_count": 192,
   "id": "17946d92",
   "metadata": {},
   "outputs": [
    {
     "name": "stdout",
     "output_type": "stream",
     "text": [
      "True\n"
     ]
    }
   ],
   "source": [
    "print(new_dict == flower_dict)"
   ]
  },
  {
   "cell_type": "code",
   "execution_count": null,
   "id": "5a53b677",
   "metadata": {},
   "outputs": [],
   "source": []
  },
  {
   "cell_type": "markdown",
   "id": "4cf1cbcb",
   "metadata": {},
   "source": [
    "# Exception handling"
   ]
  },
  {
   "cell_type": "markdown",
   "id": "20907c75",
   "metadata": {},
   "source": [
    "An exception is an event, which occurs during the execution of the program that disrupts the normal flow \n",
    "of the program's instructions. In general, when a python script encounters a situation that it cannot cope with,\n",
    "it raises an exception. An exception is a Python object that represents an error."
   ]
  },
  {
   "cell_type": "markdown",
   "id": "e65ab29d",
   "metadata": {},
   "source": [
    "When running a code we may get runtime error, in order to resolve we use exception handling"
   ]
  },
  {
   "cell_type": "code",
   "execution_count": null,
   "id": "13da334f",
   "metadata": {},
   "outputs": [],
   "source": []
  },
  {
   "cell_type": "markdown",
   "id": "5dd223c7",
   "metadata": {},
   "source": [
    "# Handling Exceptions"
   ]
  },
  {
   "cell_type": "markdown",
   "id": "3b2cc8ee",
   "metadata": {},
   "source": [
    "The try statement works as follows\n",
    "\n",
    "first, the try clause (the statements between the try and except keywords) is executed.\n",
    "\n",
    "If no exception occurs, the except clause is skipped and execution of the try statement is finished.\n",
    "\n",
    "If an exception occurs during execution of the try clause, the rest of the clause is skipped.\n",
    "Then if its type matches the exception named after the except keyword, the except clause is executed, and then execution\n",
    "conntinues after the try statement\n"
   ]
  },
  {
   "cell_type": "code",
   "execution_count": 194,
   "id": "cf65f418",
   "metadata": {},
   "outputs": [
    {
     "name": "stdout",
     "output_type": "stream",
     "text": [
      "Handling run time error division by zero\n"
     ]
    }
   ],
   "source": [
    "try:\n",
    "    79/0\n",
    "except ZeroDivisionError as err:\n",
    "    print(\"Handling run time error\",err)"
   ]
  },
  {
   "cell_type": "code",
   "execution_count": 195,
   "id": "c142d5c5",
   "metadata": {},
   "outputs": [
    {
     "name": "stdout",
     "output_type": "stream",
     "text": [
      "Handling run time error name 'm' is not defined\n"
     ]
    }
   ],
   "source": [
    "try:\n",
    "    8+m*2\n",
    "except NameError as err:\n",
    "    print(\"Handling run time error\",err)"
   ]
  },
  {
   "cell_type": "code",
   "execution_count": 196,
   "id": "d9e8c8a6",
   "metadata": {},
   "outputs": [
    {
     "name": "stdout",
     "output_type": "stream",
     "text": [
      "value5\n",
      "10.0\n"
     ]
    }
   ],
   "source": [
    "try:\n",
    "    i = int(input(\"value\"))\n",
    "    p = 50/i\n",
    "except ZeroDivisionError:\n",
    "    print(\"Zero Division\")\n",
    "except NameError:\n",
    "    print(\"Name Error\")\n",
    "except IndentationError:\n",
    "    print(\"Check Indentation\")\n",
    "else:\n",
    "    print(p)"
   ]
  },
  {
   "cell_type": "code",
   "execution_count": 197,
   "id": "e0496882",
   "metadata": {},
   "outputs": [
    {
     "name": "stdout",
     "output_type": "stream",
     "text": [
      "value0\n",
      "Zero Division\n"
     ]
    }
   ],
   "source": [
    "try:\n",
    "    i = int(input(\"value\"))\n",
    "    p = 50/i\n",
    "except ZeroDivisionError:\n",
    "    print(\"Zero Division\")\n",
    "except NameError:\n",
    "    print(\"Name Error\")\n",
    "except IndentationError:\n",
    "    print(\"Check Indentation\")\n",
    "else:\n",
    "    print(p)"
   ]
  },
  {
   "cell_type": "code",
   "execution_count": 200,
   "id": "0ee7bd02",
   "metadata": {},
   "outputs": [
    {
     "name": "stdout",
     "output_type": "stream",
     "text": [
      "20\n",
      "30\n",
      "out of range\n",
      "End of the program\n"
     ]
    }
   ],
   "source": [
    "a = [10,20,30]\n",
    "\n",
    "try:\n",
    "    print(a[1])\n",
    "    print(a[2])\n",
    "    print(a[3])\n",
    "except:\n",
    "    print(\"out of range\")\n",
    "else:\n",
    "    print('Hello')\n",
    "finally:\n",
    "    print(\"End of the program\")"
   ]
  },
  {
   "cell_type": "code",
   "execution_count": null,
   "id": "6f05c10e",
   "metadata": {},
   "outputs": [],
   "source": []
  },
  {
   "cell_type": "code",
   "execution_count": 203,
   "id": "5d50f439",
   "metadata": {},
   "outputs": [
    {
     "name": "stdout",
     "output_type": "stream",
     "text": [
      "Enter = 50\n",
      "Enter = 5\n",
      "c =  10.0\n"
     ]
    }
   ],
   "source": [
    "def testf():\n",
    "    a = int(input(\"Enter = \"))\n",
    "    b = int(input(\"Enter = \"))\n",
    "    c = a/b\n",
    "    print(\"c = \",c)\n",
    "try:\n",
    "    testf()\n",
    "except ZeroDivisionError:\n",
    "    print(\"Divided by zero\")"
   ]
  },
  {
   "cell_type": "code",
   "execution_count": 204,
   "id": "c08f651c",
   "metadata": {},
   "outputs": [
    {
     "name": "stdout",
     "output_type": "stream",
     "text": [
      "Enter = 50\n",
      "Enter = 0\n",
      "Divided by zero\n"
     ]
    }
   ],
   "source": [
    "def testf():\n",
    "    a = int(input(\"Enter = \"))\n",
    "    b = int(input(\"Enter = \"))\n",
    "    c = a/b\n",
    "    print(\"c = \",c)\n",
    "try:\n",
    "    testf()\n",
    "except ZeroDivisionError:\n",
    "    print(\"Divided by zero\")"
   ]
  },
  {
   "cell_type": "code",
   "execution_count": 205,
   "id": "d7f6f00f",
   "metadata": {},
   "outputs": [
    {
     "name": "stdout",
     "output_type": "stream",
     "text": [
      "Enter = 66\n",
      "Enter = 0\n",
      "Some error\n",
      "ArithmeticError\n"
     ]
    }
   ],
   "source": [
    "try:\n",
    "    testf()\n",
    "except ArithmeticError:\n",
    "    print(\"Some error\")\n",
    "    print(\"ArithmeticError\")"
   ]
  },
  {
   "cell_type": "code",
   "execution_count": null,
   "id": "ba9608cc",
   "metadata": {},
   "outputs": [],
   "source": []
  },
  {
   "cell_type": "code",
   "execution_count": 207,
   "id": "ae31fe5e",
   "metadata": {},
   "outputs": [],
   "source": [
    "def typecasting():\n",
    "    x = input(\"Enter the value\")\n",
    "    y = input(\"Enter the value\")\n",
    "    z = x*y\n",
    "    print(\"z = \", z)"
   ]
  },
  {
   "cell_type": "code",
   "execution_count": 208,
   "id": "ac093fd0",
   "metadata": {},
   "outputs": [
    {
     "name": "stdout",
     "output_type": "stream",
     "text": [
      "Enter the value45\n",
      "Enter the value9\n",
      "typecast  error\n"
     ]
    }
   ],
   "source": [
    "try:\n",
    "    typecasting()\n",
    "except TypeError:\n",
    "    print(\"typecast  error\")"
   ]
  },
  {
   "cell_type": "code",
   "execution_count": 209,
   "id": "3e95cd66",
   "metadata": {},
   "outputs": [
    {
     "name": "stdout",
     "output_type": "stream",
     "text": [
      "Enter the value45\n",
      "Enter the value9\n",
      "z =  405\n"
     ]
    }
   ],
   "source": [
    "def typecasting():\n",
    "    x = int(input(\"Enter the value\"))\n",
    "    y = int(input(\"Enter the value\"))\n",
    "    z = x*y\n",
    "    print(\"z = \", z)\n",
    "    \n",
    "try:\n",
    "    typecasting()\n",
    "except TypeError:\n",
    "    print(\"typecast  error\")"
   ]
  },
  {
   "cell_type": "code",
   "execution_count": null,
   "id": "1b75563d",
   "metadata": {},
   "outputs": [],
   "source": []
  },
  {
   "cell_type": "code",
   "execution_count": null,
   "id": "4e61fc4d",
   "metadata": {},
   "outputs": [],
   "source": []
  },
  {
   "cell_type": "code",
   "execution_count": null,
   "id": "4e981811",
   "metadata": {},
   "outputs": [],
   "source": []
  },
  {
   "cell_type": "code",
   "execution_count": null,
   "id": "1ca647a4",
   "metadata": {},
   "outputs": [],
   "source": []
  },
  {
   "cell_type": "code",
   "execution_count": null,
   "id": "833f8d7b",
   "metadata": {},
   "outputs": [],
   "source": []
  },
  {
   "cell_type": "code",
   "execution_count": null,
   "id": "0abfec84",
   "metadata": {},
   "outputs": [],
   "source": []
  },
  {
   "cell_type": "code",
   "execution_count": null,
   "id": "e2e06d35",
   "metadata": {},
   "outputs": [],
   "source": []
  },
  {
   "cell_type": "code",
   "execution_count": null,
   "id": "fcd57b15",
   "metadata": {},
   "outputs": [],
   "source": []
  },
  {
   "cell_type": "code",
   "execution_count": null,
   "id": "ba97e157",
   "metadata": {},
   "outputs": [],
   "source": []
  },
  {
   "cell_type": "code",
   "execution_count": null,
   "id": "b81083b3",
   "metadata": {},
   "outputs": [],
   "source": []
  },
  {
   "cell_type": "code",
   "execution_count": null,
   "id": "ad8978b0",
   "metadata": {},
   "outputs": [],
   "source": []
  },
  {
   "cell_type": "code",
   "execution_count": null,
   "id": "49eca339",
   "metadata": {},
   "outputs": [],
   "source": []
  },
  {
   "cell_type": "code",
   "execution_count": null,
   "id": "ba23fffe",
   "metadata": {},
   "outputs": [],
   "source": []
  },
  {
   "cell_type": "code",
   "execution_count": null,
   "id": "9fda4f4e",
   "metadata": {},
   "outputs": [],
   "source": []
  },
  {
   "cell_type": "code",
   "execution_count": null,
   "id": "b6be2bbf",
   "metadata": {},
   "outputs": [],
   "source": []
  },
  {
   "cell_type": "code",
   "execution_count": null,
   "id": "c21736f6",
   "metadata": {},
   "outputs": [],
   "source": []
  },
  {
   "cell_type": "code",
   "execution_count": null,
   "id": "bed22270",
   "metadata": {},
   "outputs": [],
   "source": []
  },
  {
   "cell_type": "code",
   "execution_count": null,
   "id": "de112d2e",
   "metadata": {},
   "outputs": [],
   "source": []
  },
  {
   "cell_type": "code",
   "execution_count": null,
   "id": "e740c9d7",
   "metadata": {},
   "outputs": [],
   "source": []
  },
  {
   "cell_type": "code",
   "execution_count": null,
   "id": "ce091a9e",
   "metadata": {},
   "outputs": [],
   "source": []
  },
  {
   "cell_type": "code",
   "execution_count": null,
   "id": "2c8905dc",
   "metadata": {},
   "outputs": [],
   "source": []
  },
  {
   "cell_type": "code",
   "execution_count": null,
   "id": "2086014e",
   "metadata": {},
   "outputs": [],
   "source": []
  },
  {
   "cell_type": "code",
   "execution_count": null,
   "id": "3b48ed5a",
   "metadata": {},
   "outputs": [],
   "source": []
  },
  {
   "cell_type": "code",
   "execution_count": null,
   "id": "0f3302c3",
   "metadata": {},
   "outputs": [],
   "source": []
  },
  {
   "cell_type": "code",
   "execution_count": null,
   "id": "66fcca96",
   "metadata": {},
   "outputs": [],
   "source": []
  },
  {
   "cell_type": "code",
   "execution_count": null,
   "id": "a5d5c033",
   "metadata": {},
   "outputs": [],
   "source": []
  },
  {
   "cell_type": "code",
   "execution_count": null,
   "id": "0b26a7d6",
   "metadata": {},
   "outputs": [],
   "source": []
  },
  {
   "cell_type": "code",
   "execution_count": null,
   "id": "34e101d5",
   "metadata": {},
   "outputs": [],
   "source": []
  },
  {
   "cell_type": "code",
   "execution_count": null,
   "id": "7068d2fc",
   "metadata": {},
   "outputs": [],
   "source": []
  },
  {
   "cell_type": "code",
   "execution_count": null,
   "id": "4bff4ca6",
   "metadata": {},
   "outputs": [],
   "source": []
  },
  {
   "cell_type": "code",
   "execution_count": null,
   "id": "363deef6",
   "metadata": {},
   "outputs": [],
   "source": []
  },
  {
   "cell_type": "code",
   "execution_count": null,
   "id": "679c2daf",
   "metadata": {},
   "outputs": [],
   "source": []
  },
  {
   "cell_type": "code",
   "execution_count": null,
   "id": "a49329bd",
   "metadata": {},
   "outputs": [],
   "source": []
  },
  {
   "cell_type": "code",
   "execution_count": null,
   "id": "7b1f1125",
   "metadata": {},
   "outputs": [],
   "source": []
  },
  {
   "cell_type": "code",
   "execution_count": null,
   "id": "a8444ae6",
   "metadata": {},
   "outputs": [],
   "source": []
  },
  {
   "cell_type": "code",
   "execution_count": null,
   "id": "cc347e05",
   "metadata": {},
   "outputs": [],
   "source": []
  },
  {
   "cell_type": "code",
   "execution_count": null,
   "id": "5d85473e",
   "metadata": {},
   "outputs": [],
   "source": []
  },
  {
   "cell_type": "code",
   "execution_count": null,
   "id": "5906a675",
   "metadata": {},
   "outputs": [],
   "source": []
  },
  {
   "cell_type": "code",
   "execution_count": null,
   "id": "9a9ca7ba",
   "metadata": {},
   "outputs": [],
   "source": []
  },
  {
   "cell_type": "code",
   "execution_count": null,
   "id": "26cfc0d1",
   "metadata": {},
   "outputs": [],
   "source": []
  },
  {
   "cell_type": "code",
   "execution_count": null,
   "id": "f08b943e",
   "metadata": {},
   "outputs": [],
   "source": []
  },
  {
   "cell_type": "code",
   "execution_count": null,
   "id": "a2c4f18c",
   "metadata": {},
   "outputs": [],
   "source": []
  },
  {
   "cell_type": "code",
   "execution_count": null,
   "id": "bcd8a169",
   "metadata": {},
   "outputs": [],
   "source": []
  },
  {
   "cell_type": "code",
   "execution_count": null,
   "id": "7007da6d",
   "metadata": {},
   "outputs": [],
   "source": []
  },
  {
   "cell_type": "code",
   "execution_count": null,
   "id": "a95d5725",
   "metadata": {},
   "outputs": [],
   "source": []
  },
  {
   "cell_type": "code",
   "execution_count": null,
   "id": "20899594",
   "metadata": {},
   "outputs": [],
   "source": []
  },
  {
   "cell_type": "code",
   "execution_count": null,
   "id": "de5e0d53",
   "metadata": {},
   "outputs": [],
   "source": []
  },
  {
   "cell_type": "code",
   "execution_count": null,
   "id": "f5e9231f",
   "metadata": {},
   "outputs": [],
   "source": []
  },
  {
   "cell_type": "code",
   "execution_count": null,
   "id": "49d69d84",
   "metadata": {},
   "outputs": [],
   "source": []
  },
  {
   "cell_type": "code",
   "execution_count": null,
   "id": "fdbd513b",
   "metadata": {},
   "outputs": [],
   "source": []
  },
  {
   "cell_type": "code",
   "execution_count": null,
   "id": "8ec6fa6c",
   "metadata": {},
   "outputs": [],
   "source": []
  },
  {
   "cell_type": "code",
   "execution_count": null,
   "id": "731be539",
   "metadata": {},
   "outputs": [],
   "source": []
  },
  {
   "cell_type": "code",
   "execution_count": null,
   "id": "e0797458",
   "metadata": {},
   "outputs": [],
   "source": []
  },
  {
   "cell_type": "code",
   "execution_count": null,
   "id": "03ceb9e7",
   "metadata": {},
   "outputs": [],
   "source": []
  },
  {
   "cell_type": "code",
   "execution_count": null,
   "id": "1ac71b53",
   "metadata": {},
   "outputs": [],
   "source": []
  },
  {
   "cell_type": "code",
   "execution_count": null,
   "id": "a59e9792",
   "metadata": {},
   "outputs": [],
   "source": []
  },
  {
   "cell_type": "code",
   "execution_count": null,
   "id": "4ffc0acd",
   "metadata": {},
   "outputs": [],
   "source": []
  },
  {
   "cell_type": "code",
   "execution_count": null,
   "id": "15133128",
   "metadata": {},
   "outputs": [],
   "source": []
  },
  {
   "cell_type": "code",
   "execution_count": null,
   "id": "17c23b6b",
   "metadata": {},
   "outputs": [],
   "source": []
  },
  {
   "cell_type": "code",
   "execution_count": null,
   "id": "e56f08e0",
   "metadata": {},
   "outputs": [],
   "source": []
  },
  {
   "cell_type": "code",
   "execution_count": null,
   "id": "3f1d6e7a",
   "metadata": {},
   "outputs": [],
   "source": []
  },
  {
   "cell_type": "code",
   "execution_count": null,
   "id": "b2f0646b",
   "metadata": {},
   "outputs": [],
   "source": []
  },
  {
   "cell_type": "code",
   "execution_count": null,
   "id": "e0d5d048",
   "metadata": {},
   "outputs": [],
   "source": []
  },
  {
   "cell_type": "code",
   "execution_count": null,
   "id": "cdb17b02",
   "metadata": {},
   "outputs": [],
   "source": []
  },
  {
   "cell_type": "code",
   "execution_count": null,
   "id": "c0753071",
   "metadata": {},
   "outputs": [],
   "source": []
  },
  {
   "cell_type": "code",
   "execution_count": null,
   "id": "bf862832",
   "metadata": {},
   "outputs": [],
   "source": []
  },
  {
   "cell_type": "code",
   "execution_count": null,
   "id": "63843288",
   "metadata": {},
   "outputs": [],
   "source": []
  },
  {
   "cell_type": "code",
   "execution_count": null,
   "id": "a0ed21d2",
   "metadata": {},
   "outputs": [],
   "source": []
  },
  {
   "cell_type": "code",
   "execution_count": null,
   "id": "86c06a4a",
   "metadata": {},
   "outputs": [],
   "source": []
  },
  {
   "cell_type": "code",
   "execution_count": null,
   "id": "d6a62eeb",
   "metadata": {},
   "outputs": [],
   "source": []
  },
  {
   "cell_type": "code",
   "execution_count": null,
   "id": "1f11f37e",
   "metadata": {},
   "outputs": [],
   "source": []
  },
  {
   "cell_type": "code",
   "execution_count": null,
   "id": "2b3369c0",
   "metadata": {},
   "outputs": [],
   "source": []
  },
  {
   "cell_type": "code",
   "execution_count": null,
   "id": "4844925c",
   "metadata": {},
   "outputs": [],
   "source": []
  },
  {
   "cell_type": "code",
   "execution_count": null,
   "id": "118d7611",
   "metadata": {},
   "outputs": [],
   "source": []
  },
  {
   "cell_type": "code",
   "execution_count": null,
   "id": "3a867559",
   "metadata": {},
   "outputs": [],
   "source": []
  },
  {
   "cell_type": "code",
   "execution_count": null,
   "id": "78dad42d",
   "metadata": {},
   "outputs": [],
   "source": []
  },
  {
   "cell_type": "code",
   "execution_count": null,
   "id": "0b9f2cc4",
   "metadata": {},
   "outputs": [],
   "source": []
  },
  {
   "cell_type": "code",
   "execution_count": null,
   "id": "502f942b",
   "metadata": {},
   "outputs": [],
   "source": []
  },
  {
   "cell_type": "code",
   "execution_count": null,
   "id": "f7276f8c",
   "metadata": {},
   "outputs": [],
   "source": []
  },
  {
   "cell_type": "code",
   "execution_count": null,
   "id": "b097bfa9",
   "metadata": {},
   "outputs": [],
   "source": []
  },
  {
   "cell_type": "code",
   "execution_count": null,
   "id": "b55586b3",
   "metadata": {},
   "outputs": [],
   "source": []
  },
  {
   "cell_type": "code",
   "execution_count": null,
   "id": "7271e1fa",
   "metadata": {},
   "outputs": [],
   "source": []
  },
  {
   "cell_type": "code",
   "execution_count": null,
   "id": "a46ddeb8",
   "metadata": {},
   "outputs": [],
   "source": []
  },
  {
   "cell_type": "code",
   "execution_count": null,
   "id": "b4ca4d8b",
   "metadata": {},
   "outputs": [],
   "source": []
  },
  {
   "cell_type": "code",
   "execution_count": null,
   "id": "23d6a93a",
   "metadata": {},
   "outputs": [],
   "source": []
  },
  {
   "cell_type": "code",
   "execution_count": null,
   "id": "08b92cff",
   "metadata": {},
   "outputs": [],
   "source": []
  },
  {
   "cell_type": "code",
   "execution_count": null,
   "id": "5f7e04e4",
   "metadata": {},
   "outputs": [],
   "source": []
  },
  {
   "cell_type": "code",
   "execution_count": null,
   "id": "5e43bcc4",
   "metadata": {},
   "outputs": [],
   "source": []
  },
  {
   "cell_type": "code",
   "execution_count": null,
   "id": "5f395a9a",
   "metadata": {},
   "outputs": [],
   "source": [
    "\n"
   ]
  },
  {
   "cell_type": "code",
   "execution_count": null,
   "id": "28787813",
   "metadata": {},
   "outputs": [],
   "source": []
  },
  {
   "cell_type": "code",
   "execution_count": null,
   "id": "9496b71f",
   "metadata": {},
   "outputs": [],
   "source": []
  },
  {
   "cell_type": "code",
   "execution_count": null,
   "id": "a5798f92",
   "metadata": {},
   "outputs": [],
   "source": []
  },
  {
   "cell_type": "code",
   "execution_count": null,
   "id": "baedfa8f",
   "metadata": {},
   "outputs": [],
   "source": []
  },
  {
   "cell_type": "code",
   "execution_count": null,
   "id": "bea2f1ba",
   "metadata": {},
   "outputs": [],
   "source": []
  },
  {
   "cell_type": "code",
   "execution_count": null,
   "id": "78930f38",
   "metadata": {},
   "outputs": [],
   "source": []
  },
  {
   "cell_type": "code",
   "execution_count": null,
   "id": "706a4862",
   "metadata": {},
   "outputs": [],
   "source": []
  },
  {
   "cell_type": "code",
   "execution_count": null,
   "id": "a4fb1704",
   "metadata": {},
   "outputs": [],
   "source": []
  },
  {
   "cell_type": "code",
   "execution_count": null,
   "id": "f26ab15e",
   "metadata": {},
   "outputs": [],
   "source": []
  },
  {
   "cell_type": "code",
   "execution_count": null,
   "id": "298abe8e",
   "metadata": {},
   "outputs": [],
   "source": []
  },
  {
   "cell_type": "code",
   "execution_count": null,
   "id": "82a04b05",
   "metadata": {},
   "outputs": [],
   "source": []
  },
  {
   "cell_type": "code",
   "execution_count": null,
   "id": "d78525d5",
   "metadata": {},
   "outputs": [],
   "source": []
  },
  {
   "cell_type": "code",
   "execution_count": null,
   "id": "3c466a9f",
   "metadata": {},
   "outputs": [],
   "source": []
  },
  {
   "cell_type": "code",
   "execution_count": null,
   "id": "188bfcbd",
   "metadata": {},
   "outputs": [],
   "source": []
  },
  {
   "cell_type": "code",
   "execution_count": null,
   "id": "5448cdca",
   "metadata": {},
   "outputs": [],
   "source": []
  },
  {
   "cell_type": "code",
   "execution_count": null,
   "id": "98ae7af0",
   "metadata": {},
   "outputs": [],
   "source": []
  },
  {
   "cell_type": "code",
   "execution_count": null,
   "id": "e37d0a87",
   "metadata": {},
   "outputs": [],
   "source": []
  }
 ],
 "metadata": {
  "kernelspec": {
   "display_name": "Python 3 (ipykernel)",
   "language": "python",
   "name": "python3"
  },
  "language_info": {
   "codemirror_mode": {
    "name": "ipython",
    "version": 3
   },
   "file_extension": ".py",
   "mimetype": "text/x-python",
   "name": "python",
   "nbconvert_exporter": "python",
   "pygments_lexer": "ipython3",
   "version": "3.9.12"
  }
 },
 "nbformat": 4,
 "nbformat_minor": 5
}
